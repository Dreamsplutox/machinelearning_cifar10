{
 "cells": [
  {
   "cell_type": "code",
   "execution_count": 6,
   "metadata": {},
   "outputs": [
    {
     "name": "stdout",
     "output_type": "stream",
     "text": [
      "C:\\Users\\arnau\\Desktop\\quatrième_année\\Deep_Learning\\Projet_cifar-10\\saves\\REAL_RESULTS\\all_logs\\convnet\n"
     ]
    }
   ],
   "source": [
    "import pandas, sys\n",
    "import pandas as pd\n",
    "import os\n",
    "import shutil  \n",
    "\n",
    "os.chdir(\"C:\\\\Users\\\\arnau\\\\Desktop\\\\quatrième_année\\\\Deep_Learning\\\\Projet_cifar-10\")\n",
    "allDir = [dI for dI in os.listdir(os.getcwd() + \"\\\\saves\\\\REAL_RESULTS\\\\all_logs\") if os.path.isdir(os.path.join(os.getcwd() + \"\\\\saves\\\\REAL_RESULTS\\\\all_logs\",dI))]\n",
    "\n",
    "for model in allDir:\n",
    "    if(model[0] != \".\"):\n",
    "        my_dir = os.getcwd() + \"\\\\saves\\\\REAL_RESULTS\\\\all_logs\\\\\" + model\n",
    "        print(my_dir)\n",
    "        a = [dI for dI in os.listdir(my_dir) if os.path.isdir(os.path.join(my_dir,dI))]\n",
    "        if os.path.exists(my_dir + \"\\\\final_recap.csv\"):\n",
    "            r = pandas.read_csv(my_dir + \"\\\\final_recap.csv\")\n",
    "        else :\n",
    "            first = pandas.read_csv(my_dir + \"\\\\\"+ a[1] +'\\\\combined_recap.csv')\n",
    "            r = pd.DataFrame(columns=first.columns)\n",
    "\n",
    "        for i in a:\n",
    "            if(i[0] != '.'):\n",
    "                name = i[5:len(i)]\n",
    "                add = pandas.read_csv(my_dir + \"\\\\\"+ i +'\\\\combined_recap.csv')\n",
    "                sadd = list(add['indiv_id'])\n",
    "                add.indiv_id = pandas.Series([name + '_' + str(i) for i in sadd])  \n",
    "                frames = [r, add]\n",
    "                r = pd.concat(frames)\n",
    "        r.drop_duplicates(subset =\"indiv_id\", keep = False, inplace = True)\n",
    "        r.sort_values(\"indiv_id\", inplace = True)\n",
    "        r.to_csv(my_dir + \"\\\\final_recap.csv\", index=False)\n"
   ]
  },
  {
   "cell_type": "code",
   "execution_count": null,
   "metadata": {},
   "outputs": [],
   "source": []
  }
 ],
 "metadata": {
  "kernelspec": {
   "display_name": "Python 3",
   "language": "python",
   "name": "python3"
  },
  "language_info": {
   "codemirror_mode": {
    "name": "ipython",
    "version": 3
   },
   "file_extension": ".py",
   "mimetype": "text/x-python",
   "name": "python",
   "nbconvert_exporter": "python",
   "pygments_lexer": "ipython3",
   "version": "3.6.9"
  }
 },
 "nbformat": 4,
 "nbformat_minor": 2
}
