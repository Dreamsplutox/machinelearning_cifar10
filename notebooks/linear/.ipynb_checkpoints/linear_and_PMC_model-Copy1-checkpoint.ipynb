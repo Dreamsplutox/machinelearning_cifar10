{
 "cells": [
  {
   "cell_type": "markdown",
   "metadata": {},
   "source": [
    "# Modèle Linéaire"
   ]
  },
  {
   "cell_type": "code",
   "execution_count": 92,
   "metadata": {},
   "outputs": [
    {
     "name": "stdout",
     "output_type": "stream",
     "text": [
      "The tensorboard extension is already loaded. To reload it, use:\n",
      "  %reload_ext tensorboard\n"
     ]
    }
   ],
   "source": [
    "# Start TENSORBOARD\n",
    "%load_ext tensorboard"
   ]
  },
  {
   "cell_type": "code",
   "execution_count": 93,
   "metadata": {},
   "outputs": [],
   "source": [
    "from tensorflow.keras.layers import *\n",
    "from tensorflow.keras.activations import *\n",
    "from tensorflow.keras.optimizers import *\n",
    "from tensorflow.keras.losses import *\n",
    "from tensorflow.keras.metrics import *\n",
    "from tensorflow.keras.initializers import *\n",
    "from tensorflow.keras.utils import *\n",
    "from tensorflow.keras.models import *\n",
    "from tensorflow.keras.datasets import *\n",
    "import tensorflow.keras as keras\n",
    "import matplotlib.pyplot as plt\n",
    "import tensorflow as tf\n",
    "import numpy as np\n",
    "import datetime"
   ]
  },
  {
   "cell_type": "code",
   "execution_count": 266,
   "metadata": {},
   "outputs": [],
   "source": [
    "def create_model_linear():\n",
    "    model = Sequential()\n",
    "    model.add(Flatten(input_shape=(32, 32, 3)))\n",
    "    model.add(Dense(1, activation=linear))\n",
    "    model.add(Dense(10, activation=softmax))\n",
    "    model.compile(learning_rate = 0.1,loss=sparse_categorical_crossentropy,\n",
    "                  optimizer=Adam(),\n",
    "                  metrics=['accuracy'])\n",
    "    return model\n",
    "\n",
    "log_dir=\"C:\\\\Users\\\\Amrta\\\\Jupyter_folder\\\\test_linear_logs\\\\logs\\\\fit20200119-183331\" + datetime.datetime.now().strftime(\"%Y%m%d-%H%M%S\")\n",
    "tensorboard_callback = tf.keras.callbacks.TensorBoard(log_dir=log_dir, histogram_freq=1)"
   ]
  },
  {
   "cell_type": "code",
   "execution_count": 267,
   "metadata": {},
   "outputs": [
    {
     "name": "stdout",
     "output_type": "stream",
     "text": [
      "Training data shape :  (50000, 32, 32, 3) (50000, 1)\n",
      "Testing data shape :  (10000, 32, 32, 3) (10000, 1)\n"
     ]
    }
   ],
   "source": [
    "(x_train, y_train), (x_test, y_test) = cifar10.load_data()\n",
    "x_train = x_train / 255.0\n",
    "x_test = x_test / 255.0\n",
    "print('Training data shape : ', x_train.shape, y_train.shape)\n",
    "print('Testing data shape : ', x_test.shape, y_test.shape)\n",
    "#show_first_samples(x_train,y_train)"
   ]
  },
  {
   "cell_type": "code",
   "execution_count": 268,
   "metadata": {},
   "outputs": [
    {
     "name": "stdout",
     "output_type": "stream",
     "text": [
      "Model: \"sequential_22\"\n",
      "_________________________________________________________________\n",
      "Layer (type)                 Output Shape              Param #   \n",
      "=================================================================\n",
      "flatten_22 (Flatten)         (None, 3072)              0         \n",
      "_________________________________________________________________\n",
      "dense_41 (Dense)             (None, 1)                 3073      \n",
      "_________________________________________________________________\n",
      "dense_42 (Dense)             (None, 10)                20        \n",
      "=================================================================\n",
      "Total params: 3,093\n",
      "Trainable params: 3,093\n",
      "Non-trainable params: 0\n",
      "_________________________________________________________________\n",
      "None\n"
     ]
    }
   ],
   "source": [
    "model_linear = create_model_linear()\n",
    "print(model.summary())"
   ]
  },
  {
   "cell_type": "code",
   "execution_count": 269,
   "metadata": {},
   "outputs": [
    {
     "name": "stdout",
     "output_type": "stream",
     "text": [
      "Train on 50000 samples, validate on 10000 samples\n",
      "Epoch 1/50\n",
      "50000/50000 [==============================] - 4s 89us/sample - loss: 2.2387 - accuracy: 0.1420 - val_loss: 2.2125 - val_accuracy: 0.1556\n",
      "Epoch 2/50\n",
      "50000/50000 [==============================] - 3s 64us/sample - loss: 2.1899 - accuracy: 0.1668 - val_loss: 2.1767 - val_accuracy: 0.1705\n",
      "Epoch 3/50\n",
      "50000/50000 [==============================] - 3s 50us/sample - loss: 2.1707 - accuracy: 0.1780 - val_loss: 2.1358 - val_accuracy: 0.1844\n",
      "Epoch 4/50\n",
      "50000/50000 [==============================] - 2s 50us/sample - loss: 2.0964 - accuracy: 0.1869 - val_loss: 2.0612 - val_accuracy: 0.1970\n",
      "Epoch 5/50\n",
      "50000/50000 [==============================] - 3s 51us/sample - loss: 2.0620 - accuracy: 0.1911 - val_loss: 2.0486 - val_accuracy: 0.1902\n",
      "Epoch 6/50\n",
      "50000/50000 [==============================] - 2s 48us/sample - loss: 2.0503 - accuracy: 0.1928 - val_loss: 2.0419 - val_accuracy: 0.2013\n",
      "Epoch 7/50\n",
      "50000/50000 [==============================] - 2s 49us/sample - loss: 2.0452 - accuracy: 0.1947 - val_loss: 2.0341 - val_accuracy: 0.1898\n",
      "Epoch 8/50\n",
      "50000/50000 [==============================] - 2s 48us/sample - loss: 2.0446 - accuracy: 0.1930 - val_loss: 2.0354 - val_accuracy: 0.1925\n",
      "Epoch 9/50\n",
      "50000/50000 [==============================] - 2s 45us/sample - loss: 2.0422 - accuracy: 0.1914 - val_loss: 2.0328 - val_accuracy: 0.1886\n",
      "Epoch 10/50\n",
      "50000/50000 [==============================] - 2s 41us/sample - loss: 2.0409 - accuracy: 0.1927 - val_loss: 2.0324 - val_accuracy: 0.1914\n",
      "Epoch 11/50\n",
      "50000/50000 [==============================] - 2s 41us/sample - loss: 2.0388 - accuracy: 0.1907 - val_loss: 2.0703 - val_accuracy: 0.1909\n",
      "Epoch 12/50\n",
      "50000/50000 [==============================] - 2s 41us/sample - loss: 2.0387 - accuracy: 0.1945 - val_loss: 2.0548 - val_accuracy: 0.1901\n",
      "Epoch 13/50\n",
      "50000/50000 [==============================] - 2s 45us/sample - loss: 2.0377 - accuracy: 0.1927 - val_loss: 2.0548 - val_accuracy: 0.1830\n",
      "Epoch 14/50\n",
      "50000/50000 [==============================] - 2s 43us/sample - loss: 2.0366 - accuracy: 0.1915 - val_loss: 2.0282 - val_accuracy: 0.2035\n",
      "Epoch 15/50\n",
      "50000/50000 [==============================] - 2s 42us/sample - loss: 2.0357 - accuracy: 0.1949 - val_loss: 2.0299 - val_accuracy: 0.1908\n",
      "Epoch 16/50\n",
      "50000/50000 [==============================] - 2s 40us/sample - loss: 2.0353 - accuracy: 0.1916 - val_loss: 2.0355 - val_accuracy: 0.1977\n",
      "Epoch 17/50\n",
      "50000/50000 [==============================] - 2s 42us/sample - loss: 2.0371 - accuracy: 0.1928 - val_loss: 2.0277 - val_accuracy: 0.1974\n",
      "Epoch 18/50\n",
      "50000/50000 [==============================] - 2s 44us/sample - loss: 2.0347 - accuracy: 0.1938 - val_loss: 2.0288 - val_accuracy: 0.1916\n",
      "Epoch 19/50\n",
      "50000/50000 [==============================] - 2s 41us/sample - loss: 2.0338 - accuracy: 0.1928 - val_loss: 2.0296 - val_accuracy: 0.1971\n",
      "Epoch 20/50\n",
      "50000/50000 [==============================] - 2s 41us/sample - loss: 2.0352 - accuracy: 0.1940 - val_loss: 2.0282 - val_accuracy: 0.1942\n",
      "Epoch 21/50\n",
      "50000/50000 [==============================] - 2s 41us/sample - loss: 2.0340 - accuracy: 0.1918 - val_loss: 2.0286 - val_accuracy: 0.1952\n",
      "Epoch 22/50\n",
      "50000/50000 [==============================] - 2s 41us/sample - loss: 2.0332 - accuracy: 0.1937 - val_loss: 2.0290 - val_accuracy: 0.2036\n",
      "Epoch 23/50\n",
      "50000/50000 [==============================] - 2s 41us/sample - loss: 2.0329 - accuracy: 0.1937 - val_loss: 2.0278 - val_accuracy: 0.2006\n",
      "Epoch 24/50\n",
      "50000/50000 [==============================] - 2s 41us/sample - loss: 2.0331 - accuracy: 0.1932 - val_loss: 2.0299 - val_accuracy: 0.1953\n",
      "Epoch 25/50\n",
      "50000/50000 [==============================] - 2s 41us/sample - loss: 2.0332 - accuracy: 0.1931 - val_loss: 2.0372 - val_accuracy: 0.1994\n",
      "Epoch 26/50\n",
      "50000/50000 [==============================] - 2s 42us/sample - loss: 2.0322 - accuracy: 0.1928 - val_loss: 2.0269 - val_accuracy: 0.1955\n",
      "Epoch 27/50\n",
      "50000/50000 [==============================] - 2s 41us/sample - loss: 2.0328 - accuracy: 0.1930 - val_loss: 2.0311 - val_accuracy: 0.1935\n",
      "Epoch 28/50\n",
      "50000/50000 [==============================] - 2s 41us/sample - loss: 2.0322 - accuracy: 0.1928 - val_loss: 2.0279 - val_accuracy: 0.1916\n",
      "Epoch 29/50\n",
      "50000/50000 [==============================] - 2s 41us/sample - loss: 2.0317 - accuracy: 0.1927 - val_loss: 2.0261 - val_accuracy: 0.2008\n",
      "Epoch 30/50\n",
      "50000/50000 [==============================] - 2s 41us/sample - loss: 2.0315 - accuracy: 0.1955 - val_loss: 2.0273 - val_accuracy: 0.1992\n",
      "Epoch 31/50\n",
      "50000/50000 [==============================] - 2s 40us/sample - loss: 2.0316 - accuracy: 0.1935 - val_loss: 2.0310 - val_accuracy: 0.1903\n",
      "Epoch 32/50\n",
      "50000/50000 [==============================] - 2s 41us/sample - loss: 2.0321 - accuracy: 0.1936 - val_loss: 2.0376 - val_accuracy: 0.1909\n",
      "Epoch 33/50\n",
      "50000/50000 [==============================] - 2s 45us/sample - loss: 2.0300 - accuracy: 0.1930 - val_loss: 2.0423 - val_accuracy: 0.1903\n",
      "Epoch 34/50\n",
      "50000/50000 [==============================] - 2s 41us/sample - loss: 2.0318 - accuracy: 0.1929 - val_loss: 2.0360 - val_accuracy: 0.1938\n",
      "Epoch 35/50\n",
      "50000/50000 [==============================] - 2s 40us/sample - loss: 2.0309 - accuracy: 0.1914 - val_loss: 2.0266 - val_accuracy: 0.1972\n",
      "Epoch 36/50\n",
      "50000/50000 [==============================] - 2s 41us/sample - loss: 2.0306 - accuracy: 0.1938 - val_loss: 2.0361 - val_accuracy: 0.1902\n",
      "Epoch 37/50\n",
      "50000/50000 [==============================] - 2s 41us/sample - loss: 2.0314 - accuracy: 0.1918 - val_loss: 2.0269 - val_accuracy: 0.1931\n",
      "Epoch 38/50\n",
      "50000/50000 [==============================] - 2s 47us/sample - loss: 2.0302 - accuracy: 0.1920 - val_loss: 2.0303 - val_accuracy: 0.1934\n",
      "Epoch 39/50\n",
      "50000/50000 [==============================] - 2s 45us/sample - loss: 2.0301 - accuracy: 0.1951 - val_loss: 2.0275 - val_accuracy: 0.1924\n",
      "Epoch 40/50\n",
      "50000/50000 [==============================] - 2s 41us/sample - loss: 2.0312 - accuracy: 0.1924 - val_loss: 2.0297 - val_accuracy: 0.1909\n",
      "Epoch 41/50\n",
      "50000/50000 [==============================] - 2s 41us/sample - loss: 2.0307 - accuracy: 0.1928 - val_loss: 2.0270 - val_accuracy: 0.1966\n",
      "Epoch 42/50\n",
      "50000/50000 [==============================] - 2s 41us/sample - loss: 2.0300 - accuracy: 0.1929 - val_loss: 2.0261 - val_accuracy: 0.1936\n",
      "Epoch 43/50\n",
      "50000/50000 [==============================] - 2s 41us/sample - loss: 2.0307 - accuracy: 0.1931 - val_loss: 2.0312 - val_accuracy: 0.1903\n",
      "Epoch 44/50\n",
      "50000/50000 [==============================] - 2s 43us/sample - loss: 2.0293 - accuracy: 0.1961 - val_loss: 2.0279 - val_accuracy: 0.1942\n",
      "Epoch 45/50\n",
      "50000/50000 [==============================] - 2s 44us/sample - loss: 2.0302 - accuracy: 0.1929 - val_loss: 2.0382 - val_accuracy: 0.1892\n",
      "Epoch 46/50\n",
      "50000/50000 [==============================] - 2s 43us/sample - loss: 2.0291 - accuracy: 0.1937 - val_loss: 2.0282 - val_accuracy: 0.1931\n",
      "Epoch 47/50\n",
      "50000/50000 [==============================] - 2s 40us/sample - loss: 2.0295 - accuracy: 0.1925 - val_loss: 2.0307 - val_accuracy: 0.1941\n",
      "Epoch 48/50\n",
      "50000/50000 [==============================] - 2s 41us/sample - loss: 2.0297 - accuracy: 0.1945 - val_loss: 2.0328 - val_accuracy: 0.1978\n",
      "Epoch 49/50\n",
      "50000/50000 [==============================] - 2s 41us/sample - loss: 2.0299 - accuracy: 0.1922 - val_loss: 2.0304 - val_accuracy: 0.1954\n",
      "Epoch 50/50\n",
      "50000/50000 [==============================] - 2s 41us/sample - loss: 2.0292 - accuracy: 0.1920 - val_loss: 2.0469 - val_accuracy: 0.1907\n"
     ]
    }
   ],
   "source": [
    "history=model_linear.fit(x_train, y_train, validation_data=(x_test, y_test),\n",
    "              epochs=50,batch_size=50,callbacks=[tensorboard_callback])"
   ]
  },
  {
   "cell_type": "code",
   "execution_count": 270,
   "metadata": {},
   "outputs": [
    {
     "data": {
      "text/plain": [
       "Text(0, 0.5, 'Accuracy')"
      ]
     },
     "execution_count": 270,
     "metadata": {},
     "output_type": "execute_result"
    },
    {
     "data": {
      "image/png": "[encoded data removed]",
      "text/plain": [
       "<Figure size 432x288 with 1 Axes>"
      ]
     },
     "metadata": {
      "needs_background": "light"
     },
     "output_type": "display_data"
    }
   ],
   "source": [
    "plt.plot(history.history['accuracy'],label='Accuracy')#bleu\n",
    "plt.plot(history.history['val_accuracy'],label='validation_Accuracy')#orange\n",
    "plt.xlabel('Epochs')\n",
    "plt.ylabel('Accuracy')"
   ]
  },
  {
   "cell_type": "code",
   "execution_count": 241,
   "metadata": {},
   "outputs": [],
   "source": [
    "predictions = model_linear.predict((x_test, y_test))"
   ]
  },
  {
   "cell_type": "code",
   "execution_count": 242,
   "metadata": {
    "scrolled": true
   },
   "outputs": [
    {
     "name": "stdout",
     "output_type": "stream",
     "text": [
      "[6]\n"
     ]
    },
    {
     "data": {
      "image/png": "[encoded data removed]",
      "text/plain": [
       "<Figure size 432x288 with 1 Axes>"
      ]
     },
     "metadata": {
      "needs_background": "light"
     },
     "output_type": "display_data"
    },
    {
     "data": {
      "text/plain": [
       "2"
      ]
     },
     "execution_count": 242,
     "metadata": {},
     "output_type": "execute_result"
    }
   ],
   "source": [
    "plt.imshow(x_test[547])\n",
    "print(y_test[547])\n",
    "plt.show()\n",
    "np.argmax(predictions[547])"
   ]
  },
  {
   "cell_type": "markdown",
   "metadata": {},
   "source": [
    "# Changement du metrics:"
   ]
  },
  {
   "cell_type": "code",
   "execution_count": 257,
   "metadata": {},
   "outputs": [
    {
     "name": "stdout",
     "output_type": "stream",
     "text": [
      "Training data shape :  (50000, 32, 32, 3) (50000, 1)\n",
      "Testing data shape :  (10000, 32, 32, 3) (10000, 1)\n",
      "Model: \"sequential_22\"\n",
      "_________________________________________________________________\n",
      "Layer (type)                 Output Shape              Param #   \n",
      "=================================================================\n",
      "flatten_22 (Flatten)         (None, 3072)              0         \n",
      "_________________________________________________________________\n",
      "dense_41 (Dense)             (None, 1)                 3073      \n",
      "_________________________________________________________________\n",
      "dense_42 (Dense)             (None, 10)                20        \n",
      "=================================================================\n",
      "Total params: 3,093\n",
      "Trainable params: 3,093\n",
      "Non-trainable params: 0\n",
      "_________________________________________________________________\n",
      "None\n",
      "Train on 50000 samples, validate on 10000 samples\n",
      "Epoch 1/50\n",
      "50000/50000 [==============================] - 5s 100us/sample - loss: 2.1570 - sparse_categorical_accuracy: 0.1627 - val_loss: 2.0576 - val_sparse_categorical_accuracy: 0.1755\n",
      "Epoch 2/50\n",
      "50000/50000 [==============================] - 3s 59us/sample - loss: 2.0624 - sparse_categorical_accuracy: 0.1867 - val_loss: 2.0623 - val_sparse_categorical_accuracy: 0.1921\n",
      "Epoch 3/50\n",
      "50000/50000 [==============================] - 3s 52us/sample - loss: 2.0499 - sparse_categorical_accuracy: 0.1864 - val_loss: 2.0436 - val_sparse_categorical_accuracy: 0.1863\n",
      "Epoch 4/50\n",
      "50000/50000 [==============================] - 2s 48us/sample - loss: 2.0496 - sparse_categorical_accuracy: 0.1881 - val_loss: 2.0358 - val_sparse_categorical_accuracy: 0.1925\n",
      "Epoch 5/50\n",
      "50000/50000 [==============================] - 2s 49us/sample - loss: 2.0466 - sparse_categorical_accuracy: 0.1878 - val_loss: 2.0316 - val_sparse_categorical_accuracy: 0.1921\n",
      "Epoch 6/50\n",
      "50000/50000 [==============================] - 2s 48us/sample - loss: 2.0425 - sparse_categorical_accuracy: 0.1915 - val_loss: 2.0360 - val_sparse_categorical_accuracy: 0.1878\n",
      "Epoch 7/50\n",
      "50000/50000 [==============================] - 2s 49us/sample - loss: 2.0432 - sparse_categorical_accuracy: 0.1916 - val_loss: 2.0340 - val_sparse_categorical_accuracy: 0.1948\n",
      "Epoch 8/50\n",
      "50000/50000 [==============================] - 2s 46us/sample - loss: 2.0423 - sparse_categorical_accuracy: 0.1916 - val_loss: 2.0318 - val_sparse_categorical_accuracy: 0.1920\n",
      "Epoch 9/50\n",
      "50000/50000 [==============================] - 2s 40us/sample - loss: 2.0385 - sparse_categorical_accuracy: 0.1892 - val_loss: 2.0799 - val_sparse_categorical_accuracy: 0.1755\n",
      "Epoch 10/50\n",
      "50000/50000 [==============================] - 2s 40us/sample - loss: 2.0405 - sparse_categorical_accuracy: 0.1893 - val_loss: 2.0308 - val_sparse_categorical_accuracy: 0.1928\n",
      "Epoch 11/50\n",
      "50000/50000 [==============================] - 2s 40us/sample - loss: 2.0398 - sparse_categorical_accuracy: 0.1886 - val_loss: 2.0334 - val_sparse_categorical_accuracy: 0.1968\n",
      "Epoch 12/50\n",
      "50000/50000 [==============================] - 2s 40us/sample - loss: 2.0388 - sparse_categorical_accuracy: 0.1931 - val_loss: 2.0561 - val_sparse_categorical_accuracy: 0.1813\n",
      "Epoch 13/50\n",
      "50000/50000 [==============================] - 2s 40us/sample - loss: 2.0367 - sparse_categorical_accuracy: 0.1914 - val_loss: 2.0280 - val_sparse_categorical_accuracy: 0.1925\n",
      "Epoch 14/50\n",
      "50000/50000 [==============================] - 2s 40us/sample - loss: 2.0368 - sparse_categorical_accuracy: 0.1918 - val_loss: 2.0464 - val_sparse_categorical_accuracy: 0.1962\n",
      "Epoch 15/50\n",
      "50000/50000 [==============================] - 2s 40us/sample - loss: 2.0351 - sparse_categorical_accuracy: 0.1898 - val_loss: 2.0338 - val_sparse_categorical_accuracy: 0.1955\n",
      "Epoch 16/50\n",
      "50000/50000 [==============================] - 2s 40us/sample - loss: 2.0354 - sparse_categorical_accuracy: 0.1921 - val_loss: 2.0286 - val_sparse_categorical_accuracy: 0.1977\n",
      "Epoch 17/50\n",
      "50000/50000 [==============================] - 2s 40us/sample - loss: 2.0356 - sparse_categorical_accuracy: 0.1921 - val_loss: 2.0282 - val_sparse_categorical_accuracy: 0.1900\n",
      "Epoch 18/50\n",
      "50000/50000 [==============================] - 2s 40us/sample - loss: 2.0344 - sparse_categorical_accuracy: 0.1902 - val_loss: 2.0304 - val_sparse_categorical_accuracy: 0.1946\n",
      "Epoch 19/50\n",
      "50000/50000 [==============================] - 2s 40us/sample - loss: 2.0334 - sparse_categorical_accuracy: 0.1920 - val_loss: 2.0330 - val_sparse_categorical_accuracy: 0.1958\n",
      "Epoch 20/50\n",
      "50000/50000 [==============================] - 2s 40us/sample - loss: 2.0327 - sparse_categorical_accuracy: 0.1956 - val_loss: 2.0277 - val_sparse_categorical_accuracy: 0.1914\n",
      "Epoch 21/50\n",
      "50000/50000 [==============================] - 2s 41us/sample - loss: 2.0318 - sparse_categorical_accuracy: 0.1914 - val_loss: 2.0303 - val_sparse_categorical_accuracy: 0.1949\n",
      "Epoch 22/50\n",
      "50000/50000 [==============================] - 2s 40us/sample - loss: 2.0337 - sparse_categorical_accuracy: 0.1929 - val_loss: 2.0266 - val_sparse_categorical_accuracy: 0.1962\n",
      "Epoch 23/50\n",
      "50000/50000 [==============================] - 2s 47us/sample - loss: 2.0334 - sparse_categorical_accuracy: 0.1928 - val_loss: 2.0280 - val_sparse_categorical_accuracy: 0.1895\n",
      "Epoch 24/50\n",
      "50000/50000 [==============================] - 2s 48us/sample - loss: 2.0319 - sparse_categorical_accuracy: 0.1930 - val_loss: 2.0282 - val_sparse_categorical_accuracy: 0.1976\n",
      "Epoch 25/50\n",
      "50000/50000 [==============================] - 2s 46us/sample - loss: 2.0332 - sparse_categorical_accuracy: 0.1915 - val_loss: 2.0298 - val_sparse_categorical_accuracy: 0.1905\n",
      "Epoch 26/50\n",
      "50000/50000 [==============================] - 2s 41us/sample - loss: 2.0323 - sparse_categorical_accuracy: 0.1905 - val_loss: 2.0281 - val_sparse_categorical_accuracy: 0.1965\n",
      "Epoch 27/50\n",
      "50000/50000 [==============================] - 2s 40us/sample - loss: 2.0324 - sparse_categorical_accuracy: 0.1923 - val_loss: 2.0409 - val_sparse_categorical_accuracy: 0.1950\n",
      "Epoch 28/50\n",
      "50000/50000 [==============================] - 2s 40us/sample - loss: 2.0322 - sparse_categorical_accuracy: 0.1924 - val_loss: 2.0315 - val_sparse_categorical_accuracy: 0.1970\n",
      "Epoch 29/50\n",
      "50000/50000 [==============================] - 2s 42us/sample - loss: 2.0312 - sparse_categorical_accuracy: 0.1943 - val_loss: 2.0289 - val_sparse_categorical_accuracy: 0.1952\n",
      "Epoch 30/50\n",
      "50000/50000 [==============================] - 2s 46us/sample - loss: 2.0320 - sparse_categorical_accuracy: 0.1902 - val_loss: 2.0377 - val_sparse_categorical_accuracy: 0.1973\n",
      "Epoch 31/50\n",
      "50000/50000 [==============================] - 2s 42us/sample - loss: 2.0318 - sparse_categorical_accuracy: 0.1918 - val_loss: 2.0271 - val_sparse_categorical_accuracy: 0.1995\n",
      "Epoch 32/50\n",
      "50000/50000 [==============================] - 2s 40us/sample - loss: 2.0320 - sparse_categorical_accuracy: 0.1946 - val_loss: 2.0274 - val_sparse_categorical_accuracy: 0.1936\n",
      "Epoch 33/50\n",
      "50000/50000 [==============================] - 2s 40us/sample - loss: 2.0304 - sparse_categorical_accuracy: 0.1921 - val_loss: 2.0319 - val_sparse_categorical_accuracy: 0.1960\n",
      "Epoch 34/50\n",
      "50000/50000 [==============================] - 2s 40us/sample - loss: 2.0320 - sparse_categorical_accuracy: 0.1930 - val_loss: 2.0317 - val_sparse_categorical_accuracy: 0.1873\n",
      "Epoch 35/50\n",
      "50000/50000 [==============================] - 2s 41us/sample - loss: 2.0302 - sparse_categorical_accuracy: 0.1923 - val_loss: 2.0324 - val_sparse_categorical_accuracy: 0.1965\n",
      "Epoch 36/50\n",
      "50000/50000 [==============================] - 2s 40us/sample - loss: 2.0312 - sparse_categorical_accuracy: 0.1924 - val_loss: 2.0282 - val_sparse_categorical_accuracy: 0.1969\n",
      "Epoch 37/50\n",
      "50000/50000 [==============================] - 2s 40us/sample - loss: 2.0312 - sparse_categorical_accuracy: 0.1928 - val_loss: 2.0278 - val_sparse_categorical_accuracy: 0.1954\n",
      "Epoch 38/50\n",
      "50000/50000 [==============================] - 2s 40us/sample - loss: 2.0309 - sparse_categorical_accuracy: 0.1901 - val_loss: 2.0388 - val_sparse_categorical_accuracy: 0.1920\n",
      "Epoch 39/50\n",
      "50000/50000 [==============================] - 2s 40us/sample - loss: 2.0309 - sparse_categorical_accuracy: 0.1916 - val_loss: 2.0286 - val_sparse_categorical_accuracy: 0.1941\n"
     ]
    },
    {
     "name": "stdout",
     "output_type": "stream",
     "text": [
      "Epoch 40/50\n",
      "50000/50000 [==============================] - 2s 41us/sample - loss: 2.0305 - sparse_categorical_accuracy: 0.1911 - val_loss: 2.0378 - val_sparse_categorical_accuracy: 0.1958\n",
      "Epoch 41/50\n",
      "50000/50000 [==============================] - 2s 40us/sample - loss: 2.0303 - sparse_categorical_accuracy: 0.1942 - val_loss: 2.0287 - val_sparse_categorical_accuracy: 0.1932\n",
      "Epoch 42/50\n",
      "50000/50000 [==============================] - 2s 40us/sample - loss: 2.0305 - sparse_categorical_accuracy: 0.1913 - val_loss: 2.0273 - val_sparse_categorical_accuracy: 0.1920\n",
      "Epoch 43/50\n",
      "50000/50000 [==============================] - 2s 40us/sample - loss: 2.0300 - sparse_categorical_accuracy: 0.1918 - val_loss: 2.0287 - val_sparse_categorical_accuracy: 0.1941\n",
      "Epoch 44/50\n",
      "50000/50000 [==============================] - 2s 39us/sample - loss: 2.0302 - sparse_categorical_accuracy: 0.1943 - val_loss: 2.0342 - val_sparse_categorical_accuracy: 0.1953\n",
      "Epoch 45/50\n",
      "50000/50000 [==============================] - 2s 40us/sample - loss: 2.0296 - sparse_categorical_accuracy: 0.1893 - val_loss: 2.0276 - val_sparse_categorical_accuracy: 0.1972\n",
      "Epoch 46/50\n",
      "50000/50000 [==============================] - 2s 41us/sample - loss: 2.0306 - sparse_categorical_accuracy: 0.1934 - val_loss: 2.0341 - val_sparse_categorical_accuracy: 0.1958\n",
      "Epoch 47/50\n",
      "50000/50000 [==============================] - 2s 39us/sample - loss: 2.0288 - sparse_categorical_accuracy: 0.1936 - val_loss: 2.0393 - val_sparse_categorical_accuracy: 0.1897\n",
      "Epoch 48/50\n",
      "50000/50000 [==============================] - 2s 40us/sample - loss: 2.0289 - sparse_categorical_accuracy: 0.1931 - val_loss: 2.0412 - val_sparse_categorical_accuracy: 0.1908\n",
      "Epoch 49/50\n",
      "50000/50000 [==============================] - 2s 40us/sample - loss: 2.0297 - sparse_categorical_accuracy: 0.1928 - val_loss: 2.0382 - val_sparse_categorical_accuracy: 0.1883\n",
      "Epoch 50/50\n",
      "50000/50000 [==============================] - 2s 40us/sample - loss: 2.0302 - sparse_categorical_accuracy: 0.1912 - val_loss: 2.0288 - val_sparse_categorical_accuracy: 0.1983\n"
     ]
    },
    {
     "data": {
      "text/plain": [
       "Text(0, 0.5, 'sparse_categorical_accuracy')"
      ]
     },
     "execution_count": 257,
     "metadata": {},
     "output_type": "execute_result"
    },
    {
     "data": {
      "image/png": "[encoded data removed]",
      "text/plain": [
       "<Figure size 432x288 with 1 Axes>"
      ]
     },
     "metadata": {
      "needs_background": "light"
     },
     "output_type": "display_data"
    }
   ],
   "source": [
    "def create_model_linear_sca():\n",
    "    model = Sequential()\n",
    "    model.add(Flatten(input_shape=(32, 32, 3)))\n",
    "    model.add(Dense(1, activation=linear))\n",
    "    model.add(Dense(10, activation=softmax))\n",
    "    model.compile(learning_rate = 0.1,loss=sparse_categorical_crossentropy,\n",
    "                  optimizer=Adam(),\n",
    "                  metrics=['sparse_categorical_accuracy'])\n",
    "    return model\n",
    "\n",
    "(x_train, y_train), (x_test, y_test) = cifar10.load_data()\n",
    "x_train = x_train / 255.0\n",
    "x_test = x_test / 255.0\n",
    "print('Training data shape : ', x_train.shape, y_train.shape)\n",
    "print('Testing data shape : ', x_test.shape, y_test.shape)\n",
    "\n",
    "model_linear_sca = create_model_linear_sca()\n",
    "print(model.summary())\n",
    "history=model_linear_sca.fit(x_train, y_train, validation_data=(x_test, y_test),\n",
    "              epochs=50,batch_size=50,callbacks=[tensorboard_callback])\n",
    "plt.plot(history.history['sparse_categorical_accuracy'],label='Accuracy')#bleu\n",
    "plt.plot(history.history['val_sparse_categorical_accuracy'],label='validation_sparse_categorical_accuracy')#orange\n",
    "plt.xlabel('Epochs')\n",
    "plt.ylabel('sparse_categorical_accuracy')"
   ]
  },
  {
   "cell_type": "code",
   "execution_count": 258,
   "metadata": {},
   "outputs": [
    {
     "name": "stdout",
     "output_type": "stream",
     "text": [
      "[6]\n"
     ]
    },
    {
     "data": {
      "image/png": "[encoded data removed]",
      "text/plain": [
       "<Figure size 432x288 with 1 Axes>"
      ]
     },
     "metadata": {
      "needs_background": "light"
     },
     "output_type": "display_data"
    },
    {
     "data": {
      "text/plain": [
       "5"
      ]
     },
     "execution_count": 258,
     "metadata": {},
     "output_type": "execute_result"
    }
   ],
   "source": [
    "predictions = model_linear_sca.predict((x_test, y_test))\n",
    "plt.imshow(x_test[547])\n",
    "print(y_test[547])\n",
    "plt.show()\n",
    "np.argmax(predictions[547])"
   ]
  },
  {
   "cell_type": "markdown",
   "metadata": {},
   "source": [
    "# Changement du batch size:"
   ]
  },
  {
   "cell_type": "code",
   "execution_count": 273,
   "metadata": {},
   "outputs": [
    {
     "name": "stdout",
     "output_type": "stream",
     "text": [
      "Training data shape :  (50000, 32, 32, 3) (50000, 1)\n",
      "Testing data shape :  (10000, 32, 32, 3) (10000, 1)\n",
      "Model: \"sequential_22\"\n",
      "_________________________________________________________________\n",
      "Layer (type)                 Output Shape              Param #   \n",
      "=================================================================\n",
      "flatten_22 (Flatten)         (None, 3072)              0         \n",
      "_________________________________________________________________\n",
      "dense_41 (Dense)             (None, 1)                 3073      \n",
      "_________________________________________________________________\n",
      "dense_42 (Dense)             (None, 10)                20        \n",
      "=================================================================\n",
      "Total params: 3,093\n",
      "Trainable params: 3,093\n",
      "Non-trainable params: 0\n",
      "_________________________________________________________________\n",
      "None\n",
      "Train on 50000 samples, validate on 10000 samples\n",
      "Epoch 1/50\n",
      "50000/50000 [==============================] - 3s 70us/sample - loss: 2.0322 - sparse_categorical_accuracy: 0.1905 - val_loss: 2.0271 - val_sparse_categorical_accuracy: 0.1940\n",
      "Epoch 2/50\n",
      "50000/50000 [==============================] - 2s 33us/sample - loss: 2.0322 - sparse_categorical_accuracy: 0.1937 - val_loss: 2.0291 - val_sparse_categorical_accuracy: 0.1918\n",
      "Epoch 3/50\n",
      "50000/50000 [==============================] - 2s 32us/sample - loss: 2.0307 - sparse_categorical_accuracy: 0.1938 - val_loss: 2.0641 - val_sparse_categorical_accuracy: 0.1756\n",
      "Epoch 4/50\n",
      "50000/50000 [==============================] - 2s 32us/sample - loss: 2.0302 - sparse_categorical_accuracy: 0.1928 - val_loss: 2.0393 - val_sparse_categorical_accuracy: 0.1952\n",
      "Epoch 5/50\n",
      "50000/50000 [==============================] - 2s 32us/sample - loss: 2.0302 - sparse_categorical_accuracy: 0.1941 - val_loss: 2.0337 - val_sparse_categorical_accuracy: 0.1912\n",
      "Epoch 6/50\n",
      "50000/50000 [==============================] - 2s 32us/sample - loss: 2.0300 - sparse_categorical_accuracy: 0.1941 - val_loss: 2.0468 - val_sparse_categorical_accuracy: 0.1906\n",
      "Epoch 7/50\n",
      "50000/50000 [==============================] - 2s 32us/sample - loss: 2.0301 - sparse_categorical_accuracy: 0.1952 - val_loss: 2.0336 - val_sparse_categorical_accuracy: 0.1922\n",
      "Epoch 8/50\n",
      "50000/50000 [==============================] - 2s 31us/sample - loss: 2.0292 - sparse_categorical_accuracy: 0.1951 - val_loss: 2.0318 - val_sparse_categorical_accuracy: 0.1923\n",
      "Epoch 9/50\n",
      "50000/50000 [==============================] - 2s 31us/sample - loss: 2.0294 - sparse_categorical_accuracy: 0.1938 - val_loss: 2.0285 - val_sparse_categorical_accuracy: 0.1961\n",
      "Epoch 10/50\n",
      "50000/50000 [==============================] - 2s 30us/sample - loss: 2.0288 - sparse_categorical_accuracy: 0.1943 - val_loss: 2.0268 - val_sparse_categorical_accuracy: 0.1995\n",
      "Epoch 11/50\n",
      "50000/50000 [==============================] - 1s 28us/sample - loss: 2.0291 - sparse_categorical_accuracy: 0.1946 - val_loss: 2.0313 - val_sparse_categorical_accuracy: 0.1937\n",
      "Epoch 12/50\n",
      "50000/50000 [==============================] - 1s 28us/sample - loss: 2.0296 - sparse_categorical_accuracy: 0.1960 - val_loss: 2.0283 - val_sparse_categorical_accuracy: 0.1947\n",
      "Epoch 13/50\n",
      "50000/50000 [==============================] - 1s 29us/sample - loss: 2.0304 - sparse_categorical_accuracy: 0.1933 - val_loss: 2.0356 - val_sparse_categorical_accuracy: 0.1941\n",
      "Epoch 14/50\n",
      "50000/50000 [==============================] - 1s 29us/sample - loss: 2.0287 - sparse_categorical_accuracy: 0.1923 - val_loss: 2.0436 - val_sparse_categorical_accuracy: 0.1944\n",
      "Epoch 15/50\n",
      "50000/50000 [==============================] - 1s 28us/sample - loss: 2.0300 - sparse_categorical_accuracy: 0.1944 - val_loss: 2.0326 - val_sparse_categorical_accuracy: 0.1930\n",
      "Epoch 16/50\n",
      "50000/50000 [==============================] - 1s 29us/sample - loss: 2.0291 - sparse_categorical_accuracy: 0.1929 - val_loss: 2.0266 - val_sparse_categorical_accuracy: 0.1936\n",
      "Epoch 17/50\n",
      "50000/50000 [==============================] - 2s 31us/sample - loss: 2.0300 - sparse_categorical_accuracy: 0.1954 - val_loss: 2.0339 - val_sparse_categorical_accuracy: 0.1890\n",
      "Epoch 18/50\n",
      "50000/50000 [==============================] - 1s 29us/sample - loss: 2.0279 - sparse_categorical_accuracy: 0.1941 - val_loss: 2.0308 - val_sparse_categorical_accuracy: 0.1934\n",
      "Epoch 19/50\n",
      "50000/50000 [==============================] - 1s 28us/sample - loss: 2.0304 - sparse_categorical_accuracy: 0.1898 - val_loss: 2.0276 - val_sparse_categorical_accuracy: 0.1941\n",
      "Epoch 20/50\n",
      "50000/50000 [==============================] - 1s 28us/sample - loss: 2.0299 - sparse_categorical_accuracy: 0.1938 - val_loss: 2.0269 - val_sparse_categorical_accuracy: 0.1960\n",
      "Epoch 21/50\n",
      "50000/50000 [==============================] - 1s 28us/sample - loss: 2.0287 - sparse_categorical_accuracy: 0.1935 - val_loss: 2.0287 - val_sparse_categorical_accuracy: 0.1947\n",
      "Epoch 22/50\n",
      "50000/50000 [==============================] - 1s 27us/sample - loss: 2.0286 - sparse_categorical_accuracy: 0.1931 - val_loss: 2.0409 - val_sparse_categorical_accuracy: 0.1910\n",
      "Epoch 23/50\n",
      "50000/50000 [==============================] - 1s 27us/sample - loss: 2.0296 - sparse_categorical_accuracy: 0.1931 - val_loss: 2.0357 - val_sparse_categorical_accuracy: 0.1889\n",
      "Epoch 24/50\n",
      "50000/50000 [==============================] - 1s 28us/sample - loss: 2.0286 - sparse_categorical_accuracy: 0.1948 - val_loss: 2.0429 - val_sparse_categorical_accuracy: 0.1949\n",
      "Epoch 25/50\n",
      "50000/50000 [==============================] - 1s 28us/sample - loss: 2.0298 - sparse_categorical_accuracy: 0.1945 - val_loss: 2.0334 - val_sparse_categorical_accuracy: 0.1977\n",
      "Epoch 26/50\n",
      "50000/50000 [==============================] - 1s 27us/sample - loss: 2.0274 - sparse_categorical_accuracy: 0.1975 - val_loss: 2.0288 - val_sparse_categorical_accuracy: 0.1927\n",
      "Epoch 27/50\n",
      "50000/50000 [==============================] - 1s 28us/sample - loss: 2.0296 - sparse_categorical_accuracy: 0.1932 - val_loss: 2.0522 - val_sparse_categorical_accuracy: 0.1897\n",
      "Epoch 28/50\n",
      "50000/50000 [==============================] - 1s 27us/sample - loss: 2.0280 - sparse_categorical_accuracy: 0.1932 - val_loss: 2.0265 - val_sparse_categorical_accuracy: 0.2000\n",
      "Epoch 29/50\n",
      "50000/50000 [==============================] - 2s 33us/sample - loss: 2.0298 - sparse_categorical_accuracy: 0.1964 - val_loss: 2.0269 - val_sparse_categorical_accuracy: 0.1950\n",
      "Epoch 30/50\n",
      "50000/50000 [==============================] - 1s 28us/sample - loss: 2.0266 - sparse_categorical_accuracy: 0.1945 - val_loss: 2.0330 - val_sparse_categorical_accuracy: 0.1906\n",
      "Epoch 31/50\n",
      "50000/50000 [==============================] - 1s 27us/sample - loss: 2.0268 - sparse_categorical_accuracy: 0.1944 - val_loss: 2.0314 - val_sparse_categorical_accuracy: 0.1923\n",
      "Epoch 32/50\n",
      "50000/50000 [==============================] - 1s 28us/sample - loss: 2.0293 - sparse_categorical_accuracy: 0.1934 - val_loss: 2.0345 - val_sparse_categorical_accuracy: 0.1940\n",
      "Epoch 33/50\n",
      "50000/50000 [==============================] - 1s 27us/sample - loss: 2.0287 - sparse_categorical_accuracy: 0.1922 - val_loss: 2.0278 - val_sparse_categorical_accuracy: 0.1963\n",
      "Epoch 34/50\n",
      "50000/50000 [==============================] - 1s 27us/sample - loss: 2.0270 - sparse_categorical_accuracy: 0.1969 - val_loss: 2.0294 - val_sparse_categorical_accuracy: 0.1952\n",
      "Epoch 35/50\n",
      "50000/50000 [==============================] - 1s 28us/sample - loss: 2.0278 - sparse_categorical_accuracy: 0.1947 - val_loss: 2.0276 - val_sparse_categorical_accuracy: 0.1994\n",
      "Epoch 36/50\n",
      "50000/50000 [==============================] - 1s 28us/sample - loss: 2.0289 - sparse_categorical_accuracy: 0.1938 - val_loss: 2.0330 - val_sparse_categorical_accuracy: 0.1956\n",
      "Epoch 37/50\n",
      "50000/50000 [==============================] - 1s 27us/sample - loss: 2.0262 - sparse_categorical_accuracy: 0.1946 - val_loss: 2.0273 - val_sparse_categorical_accuracy: 0.1946\n",
      "Epoch 38/50\n",
      "50000/50000 [==============================] - 1s 27us/sample - loss: 2.0266 - sparse_categorical_accuracy: 0.1939 - val_loss: 2.0269 - val_sparse_categorical_accuracy: 0.1889\n",
      "Epoch 39/50\n",
      "50000/50000 [==============================] - 1s 27us/sample - loss: 2.0274 - sparse_categorical_accuracy: 0.1926 - val_loss: 2.0267 - val_sparse_categorical_accuracy: 0.1918\n"
     ]
    },
    {
     "name": "stdout",
     "output_type": "stream",
     "text": [
      "Epoch 40/50\n",
      "50000/50000 [==============================] - 1s 27us/sample - loss: 2.0277 - sparse_categorical_accuracy: 0.1956 - val_loss: 2.0430 - val_sparse_categorical_accuracy: 0.1901\n",
      "Epoch 41/50\n",
      "50000/50000 [==============================] - 1s 27us/sample - loss: 2.0293 - sparse_categorical_accuracy: 0.1937 - val_loss: 2.0371 - val_sparse_categorical_accuracy: 0.1930\n",
      "Epoch 42/50\n",
      "50000/50000 [==============================] - 1s 27us/sample - loss: 2.0283 - sparse_categorical_accuracy: 0.1946 - val_loss: 2.0271 - val_sparse_categorical_accuracy: 0.1971\n",
      "Epoch 43/50\n",
      "50000/50000 [==============================] - 1s 28us/sample - loss: 2.0269 - sparse_categorical_accuracy: 0.1960 - val_loss: 2.0270 - val_sparse_categorical_accuracy: 0.1946\n",
      "Epoch 44/50\n",
      "50000/50000 [==============================] - 1s 27us/sample - loss: 2.0272 - sparse_categorical_accuracy: 0.1954 - val_loss: 2.0675 - val_sparse_categorical_accuracy: 0.1850\n",
      "Epoch 45/50\n",
      "50000/50000 [==============================] - 1s 29us/sample - loss: 2.0281 - sparse_categorical_accuracy: 0.1944 - val_loss: 2.0291 - val_sparse_categorical_accuracy: 0.1958\n",
      "Epoch 46/50\n",
      "50000/50000 [==============================] - 1s 29us/sample - loss: 2.0264 - sparse_categorical_accuracy: 0.1940 - val_loss: 2.0282 - val_sparse_categorical_accuracy: 0.1966\n",
      "Epoch 47/50\n",
      "50000/50000 [==============================] - 1s 28us/sample - loss: 2.0267 - sparse_categorical_accuracy: 0.1935 - val_loss: 2.0280 - val_sparse_categorical_accuracy: 0.1958\n",
      "Epoch 48/50\n",
      "50000/50000 [==============================] - 1s 28us/sample - loss: 2.0287 - sparse_categorical_accuracy: 0.1945 - val_loss: 2.0263 - val_sparse_categorical_accuracy: 0.1990\n",
      "Epoch 49/50\n",
      "50000/50000 [==============================] - 1s 27us/sample - loss: 2.0257 - sparse_categorical_accuracy: 0.1947 - val_loss: 2.0271 - val_sparse_categorical_accuracy: 0.1940\n",
      "Epoch 50/50\n",
      "50000/50000 [==============================] - 1s 28us/sample - loss: 2.0275 - sparse_categorical_accuracy: 0.1935 - val_loss: 2.0283 - val_sparse_categorical_accuracy: 0.1973\n"
     ]
    },
    {
     "data": {
      "text/plain": [
       "Text(0, 0.5, 'sparse_categorical_accuracy')"
      ]
     },
     "execution_count": 273,
     "metadata": {},
     "output_type": "execute_result"
    },
    {
     "data": {
      "image/png": "[encoded data removed]",
      "text/plain": [
       "<Figure size 432x288 with 1 Axes>"
      ]
     },
     "metadata": {
      "needs_background": "light"
     },
     "output_type": "display_data"
    }
   ],
   "source": [
    "def create_model_linear_sca_bs():\n",
    "    model = Sequential()\n",
    "    model.add(Flatten(input_shape=(32, 32, 3)))\n",
    "    model.add(Dense(1, activation=linear))\n",
    "    model.add(Dense(10, activation=softmax))\n",
    "    model.compile(learning_rate = 0.1,loss=sparse_categorical_crossentropy,\n",
    "                  optimizer=Adam(),\n",
    "                  metrics=['sparse_categorical_accuracy'])\n",
    "    return model\n",
    "\n",
    "(x_train, y_train), (x_test, y_test) = cifar10.load_data()\n",
    "x_train = x_train / 255.0\n",
    "x_test = x_test / 255.0\n",
    "print('Training data shape : ', x_train.shape, y_train.shape)\n",
    "print('Testing data shape : ', x_test.shape, y_test.shape)\n",
    "\n",
    "model_linear_sca_bs= create_model_linear_sca_bs()\n",
    "print(model.summary())\n",
    "history=model_linear_sca.fit(x_train, y_train, validation_data=(x_test, y_test),\n",
    "              epochs=50,batch_size=150,callbacks=[tensorboard_callback])\n",
    "plt.plot(history.history['sparse_categorical_accuracy'],label='Accuracy')#bleu\n",
    "plt.plot(history.history['val_sparse_categorical_accuracy'],label='validation_sparse_categorical_accuracy')#orange\n",
    "plt.xlabel('Epochs')\n",
    "plt.ylabel('sparse_categorical_accuracy')"
   ]
  },
  {
   "cell_type": "markdown",
   "metadata": {},
   "source": [
    "# Changement du Taux d'apprentissage:"
   ]
  },
  {
   "cell_type": "code",
   "execution_count": 274,
   "metadata": {},
   "outputs": [
    {
     "name": "stdout",
     "output_type": "stream",
     "text": [
      "Training data shape :  (50000, 32, 32, 3) (50000, 1)\n",
      "Testing data shape :  (10000, 32, 32, 3) (10000, 1)\n",
      "Model: \"sequential_22\"\n",
      "_________________________________________________________________\n",
      "Layer (type)                 Output Shape              Param #   \n",
      "=================================================================\n",
      "flatten_22 (Flatten)         (None, 3072)              0         \n",
      "_________________________________________________________________\n",
      "dense_41 (Dense)             (None, 1)                 3073      \n",
      "_________________________________________________________________\n",
      "dense_42 (Dense)             (None, 10)                20        \n",
      "=================================================================\n",
      "Total params: 3,093\n",
      "Trainable params: 3,093\n",
      "Non-trainable params: 0\n",
      "_________________________________________________________________\n",
      "None\n",
      "Train on 50000 samples, validate on 10000 samples\n",
      "Epoch 1/50\n",
      "50000/50000 [==============================] - 2s 33us/sample - loss: 2.0257 - sparse_categorical_accuracy: 0.1955 - val_loss: 2.0272 - val_sparse_categorical_accuracy: 0.1941\n",
      "Epoch 2/50\n",
      "50000/50000 [==============================] - 2s 37us/sample - loss: 2.0254 - sparse_categorical_accuracy: 0.1932 - val_loss: 2.0263 - val_sparse_categorical_accuracy: 0.1957\n",
      "Epoch 3/50\n",
      "50000/50000 [==============================] - 2s 36us/sample - loss: 2.0265 - sparse_categorical_accuracy: 0.1930 - val_loss: 2.0358 - val_sparse_categorical_accuracy: 0.1932\n",
      "Epoch 4/50\n",
      "50000/50000 [==============================] - 2s 36us/sample - loss: 2.0266 - sparse_categorical_accuracy: 0.1946 - val_loss: 2.0297 - val_sparse_categorical_accuracy: 0.1969\n",
      "Epoch 5/50\n",
      "50000/50000 [==============================] - 1s 29us/sample - loss: 2.0269 - sparse_categorical_accuracy: 0.1928 - val_loss: 2.0305 - val_sparse_categorical_accuracy: 0.1963\n",
      "Epoch 6/50\n",
      "50000/50000 [==============================] - 1s 29us/sample - loss: 2.0251 - sparse_categorical_accuracy: 0.1962 - val_loss: 2.0264 - val_sparse_categorical_accuracy: 0.1974\n",
      "Epoch 7/50\n",
      "50000/50000 [==============================] - 1s 28us/sample - loss: 2.0277 - sparse_categorical_accuracy: 0.1933 - val_loss: 2.0440 - val_sparse_categorical_accuracy: 0.1905\n",
      "Epoch 8/50\n",
      "50000/50000 [==============================] - 1s 28us/sample - loss: 2.0274 - sparse_categorical_accuracy: 0.1941 - val_loss: 2.0270 - val_sparse_categorical_accuracy: 0.1936\n",
      "Epoch 9/50\n",
      "50000/50000 [==============================] - 1s 28us/sample - loss: 2.0243 - sparse_categorical_accuracy: 0.1952 - val_loss: 2.0416 - val_sparse_categorical_accuracy: 0.1884\n",
      "Epoch 10/50\n",
      "50000/50000 [==============================] - 1s 28us/sample - loss: 2.0263 - sparse_categorical_accuracy: 0.1955 - val_loss: 2.0326 - val_sparse_categorical_accuracy: 0.1947\n",
      "Epoch 11/50\n",
      "50000/50000 [==============================] - 1s 28us/sample - loss: 2.0262 - sparse_categorical_accuracy: 0.1922 - val_loss: 2.0326 - val_sparse_categorical_accuracy: 0.1960\n",
      "Epoch 12/50\n",
      "50000/50000 [==============================] - 2s 32us/sample - loss: 2.0266 - sparse_categorical_accuracy: 0.1954 - val_loss: 2.0300 - val_sparse_categorical_accuracy: 0.2007\n",
      "Epoch 13/50\n",
      "50000/50000 [==============================] - 2s 35us/sample - loss: 2.0254 - sparse_categorical_accuracy: 0.1954 - val_loss: 2.0442 - val_sparse_categorical_accuracy: 0.1902\n",
      "Epoch 14/50\n",
      "50000/50000 [==============================] - 2s 31us/sample - loss: 2.0275 - sparse_categorical_accuracy: 0.1948 - val_loss: 2.0283 - val_sparse_categorical_accuracy: 0.1961\n",
      "Epoch 15/50\n",
      "50000/50000 [==============================] - 1s 28us/sample - loss: 2.0256 - sparse_categorical_accuracy: 0.1954 - val_loss: 2.0274 - val_sparse_categorical_accuracy: 0.1945\n",
      "Epoch 16/50\n",
      "50000/50000 [==============================] - 1s 28us/sample - loss: 2.0257 - sparse_categorical_accuracy: 0.1929 - val_loss: 2.0273 - val_sparse_categorical_accuracy: 0.1964\n",
      "Epoch 17/50\n",
      "50000/50000 [==============================] - 1s 30us/sample - loss: 2.0259 - sparse_categorical_accuracy: 0.1942 - val_loss: 2.0297 - val_sparse_categorical_accuracy: 0.1997\n",
      "Epoch 18/50\n",
      "50000/50000 [==============================] - 2s 31us/sample - loss: 2.0265 - sparse_categorical_accuracy: 0.1948 - val_loss: 2.0282 - val_sparse_categorical_accuracy: 0.1937\n",
      "Epoch 19/50\n",
      "50000/50000 [==============================] - 2s 34us/sample - loss: 2.0258 - sparse_categorical_accuracy: 0.1916 - val_loss: 2.0533 - val_sparse_categorical_accuracy: 0.1897\n",
      "Epoch 20/50\n",
      "50000/50000 [==============================] - 1s 28us/sample - loss: 2.0259 - sparse_categorical_accuracy: 0.1953 - val_loss: 2.0523 - val_sparse_categorical_accuracy: 0.1888\n",
      "Epoch 21/50\n",
      "50000/50000 [==============================] - 1s 28us/sample - loss: 2.0264 - sparse_categorical_accuracy: 0.1935 - val_loss: 2.0331 - val_sparse_categorical_accuracy: 0.1925\n",
      "Epoch 22/50\n",
      "50000/50000 [==============================] - 1s 28us/sample - loss: 2.0267 - sparse_categorical_accuracy: 0.1944 - val_loss: 2.0390 - val_sparse_categorical_accuracy: 0.1907\n",
      "Epoch 23/50\n",
      "50000/50000 [==============================] - 2s 32us/sample - loss: 2.0245 - sparse_categorical_accuracy: 0.1954 - val_loss: 2.0407 - val_sparse_categorical_accuracy: 0.1915\n",
      "Epoch 24/50\n",
      "50000/50000 [==============================] - 2s 36us/sample - loss: 2.0264 - sparse_categorical_accuracy: 0.1918 - val_loss: 2.0428 - val_sparse_categorical_accuracy: 0.1915\n",
      "Epoch 25/50\n",
      "50000/50000 [==============================] - 2s 35us/sample - loss: 2.0245 - sparse_categorical_accuracy: 0.1950 - val_loss: 2.0292 - val_sparse_categorical_accuracy: 0.1940\n",
      "Epoch 26/50\n",
      "50000/50000 [==============================] - 2s 35us/sample - loss: 2.0256 - sparse_categorical_accuracy: 0.1933 - val_loss: 2.0283 - val_sparse_categorical_accuracy: 0.1979\n",
      "Epoch 27/50\n",
      "50000/50000 [==============================] - 2s 34us/sample - loss: 2.0246 - sparse_categorical_accuracy: 0.1924 - val_loss: 2.0306 - val_sparse_categorical_accuracy: 0.1947\n",
      "Epoch 28/50\n",
      "50000/50000 [==============================] - 2s 34us/sample - loss: 2.0256 - sparse_categorical_accuracy: 0.1946 - val_loss: 2.0320 - val_sparse_categorical_accuracy: 0.1994\n",
      "Epoch 29/50\n",
      "50000/50000 [==============================] - 2s 35us/sample - loss: 2.0252 - sparse_categorical_accuracy: 0.1960 - val_loss: 2.0289 - val_sparse_categorical_accuracy: 0.1964\n",
      "Epoch 30/50\n",
      "50000/50000 [==============================] - 2s 37us/sample - loss: 2.0264 - sparse_categorical_accuracy: 0.1961 - val_loss: 2.0365 - val_sparse_categorical_accuracy: 0.1912\n",
      "Epoch 31/50\n",
      "50000/50000 [==============================] - 2s 36us/sample - loss: 2.0244 - sparse_categorical_accuracy: 0.1940 - val_loss: 2.0265 - val_sparse_categorical_accuracy: 0.1963\n",
      "Epoch 32/50\n",
      "50000/50000 [==============================] - 2s 32us/sample - loss: 2.0258 - sparse_categorical_accuracy: 0.1956 - val_loss: 2.0263 - val_sparse_categorical_accuracy: 0.1997\n",
      "Epoch 33/50\n",
      "50000/50000 [==============================] - 1s 28us/sample - loss: 2.0257 - sparse_categorical_accuracy: 0.1962 - val_loss: 2.0272 - val_sparse_categorical_accuracy: 0.1961\n",
      "Epoch 34/50\n",
      "50000/50000 [==============================] - 2s 31us/sample - loss: 2.0245 - sparse_categorical_accuracy: 0.1952 - val_loss: 2.0340 - val_sparse_categorical_accuracy: 0.1948\n",
      "Epoch 35/50\n",
      "50000/50000 [==============================] - 2s 35us/sample - loss: 2.0240 - sparse_categorical_accuracy: 0.1940 - val_loss: 2.0270 - val_sparse_categorical_accuracy: 0.1976\n",
      "Epoch 36/50\n",
      "50000/50000 [==============================] - 2s 34us/sample - loss: 2.0255 - sparse_categorical_accuracy: 0.1926 - val_loss: 2.0350 - val_sparse_categorical_accuracy: 0.1969\n",
      "Epoch 37/50\n",
      "50000/50000 [==============================] - 2s 33us/sample - loss: 2.0251 - sparse_categorical_accuracy: 0.1958 - val_loss: 2.0361 - val_sparse_categorical_accuracy: 0.1910\n",
      "Epoch 38/50\n",
      "50000/50000 [==============================] - 2s 31us/sample - loss: 2.0264 - sparse_categorical_accuracy: 0.1952 - val_loss: 2.0312 - val_sparse_categorical_accuracy: 0.1894\n",
      "Epoch 39/50\n",
      "50000/50000 [==============================] - 2s 33us/sample - loss: 2.0262 - sparse_categorical_accuracy: 0.1939 - val_loss: 2.0309 - val_sparse_categorical_accuracy: 0.1970\n"
     ]
    },
    {
     "name": "stdout",
     "output_type": "stream",
     "text": [
      "Epoch 40/50\n",
      "50000/50000 [==============================] - 2s 32us/sample - loss: 2.0248 - sparse_categorical_accuracy: 0.1936 - val_loss: 2.0305 - val_sparse_categorical_accuracy: 0.1979\n",
      "Epoch 41/50\n",
      "50000/50000 [==============================] - 1s 28us/sample - loss: 2.0272 - sparse_categorical_accuracy: 0.1936 - val_loss: 2.0356 - val_sparse_categorical_accuracy: 0.1922\n",
      "Epoch 42/50\n",
      "50000/50000 [==============================] - 1s 29us/sample - loss: 2.0251 - sparse_categorical_accuracy: 0.1936 - val_loss: 2.0363 - val_sparse_categorical_accuracy: 0.1943\n",
      "Epoch 43/50\n",
      "50000/50000 [==============================] - 2s 31us/sample - loss: 2.0239 - sparse_categorical_accuracy: 0.1966 - val_loss: 2.0271 - val_sparse_categorical_accuracy: 0.1970\n",
      "Epoch 44/50\n",
      "50000/50000 [==============================] - 1s 30us/sample - loss: 2.0244 - sparse_categorical_accuracy: 0.1946 - val_loss: 2.0273 - val_sparse_categorical_accuracy: 0.1934\n",
      "Epoch 45/50\n",
      "50000/50000 [==============================] - 1s 29us/sample - loss: 2.0244 - sparse_categorical_accuracy: 0.1942 - val_loss: 2.0282 - val_sparse_categorical_accuracy: 0.1964\n",
      "Epoch 46/50\n",
      "50000/50000 [==============================] - 2s 31us/sample - loss: 2.0232 - sparse_categorical_accuracy: 0.1944 - val_loss: 2.0270 - val_sparse_categorical_accuracy: 0.1953\n",
      "Epoch 47/50\n",
      "50000/50000 [==============================] - 2s 32us/sample - loss: 2.0251 - sparse_categorical_accuracy: 0.1939 - val_loss: 2.0274 - val_sparse_categorical_accuracy: 0.1956\n",
      "Epoch 48/50\n",
      "50000/50000 [==============================] - 1s 30us/sample - loss: 2.0252 - sparse_categorical_accuracy: 0.1942 - val_loss: 2.0511 - val_sparse_categorical_accuracy: 0.1862\n",
      "Epoch 49/50\n",
      "50000/50000 [==============================] - 1s 29us/sample - loss: 2.0253 - sparse_categorical_accuracy: 0.1922 - val_loss: 2.0290 - val_sparse_categorical_accuracy: 0.1904\n",
      "Epoch 50/50\n",
      "50000/50000 [==============================] - 1s 29us/sample - loss: 2.0241 - sparse_categorical_accuracy: 0.1954 - val_loss: 2.0281 - val_sparse_categorical_accuracy: 0.1982\n"
     ]
    },
    {
     "data": {
      "text/plain": [
       "Text(0, 0.5, 'sparse_categorical_accuracy')"
      ]
     },
     "execution_count": 274,
     "metadata": {},
     "output_type": "execute_result"
    },
    {
     "data": {
      "image/png": "[encoded data removed]",
      "text/plain": [
       "<Figure size 432x288 with 1 Axes>"
      ]
     },
     "metadata": {
      "needs_background": "light"
     },
     "output_type": "display_data"
    }
   ],
   "source": [
    "def create_model_linear_sca_bs_TA():\n",
    "    model = Sequential()\n",
    "    model.add(Flatten(input_shape=(32, 32, 3)))\n",
    "    model.add(Dense(1, activation=linear))\n",
    "    model.add(Dense(10, activation=softmax))\n",
    "    model.compile(learning_rate = 0.01,loss=sparse_categorical_crossentropy,\n",
    "                  optimizer=Adam(),\n",
    "                  metrics=['sparse_categorical_accuracy'])\n",
    "    return model\n",
    "\n",
    "(x_train, y_train), (x_test, y_test) = cifar10.load_data()\n",
    "x_train = x_train / 255.0\n",
    "x_test = x_test / 255.0\n",
    "print('Training data shape : ', x_train.shape, y_train.shape)\n",
    "print('Testing data shape : ', x_test.shape, y_test.shape)\n",
    "\n",
    "model_linear_sca_bs_TA = create_model_linear_sca_bs_TA()\n",
    "print(model.summary())\n",
    "history=model_linear_sca.fit(x_train, y_train, validation_data=(x_test, y_test),\n",
    "              epochs=50,batch_size=150,callbacks=[tensorboard_callback])\n",
    "plt.plot(history.history['sparse_categorical_accuracy'],label='Accuracy')#bleu\n",
    "plt.plot(history.history['val_sparse_categorical_accuracy'],label='validation_sparse_categorical_accuracy')#orange\n",
    "plt.xlabel('Epochs')\n",
    "plt.ylabel('sparse_categorical_accuracy')"
   ]
  },
  {
   "cell_type": "code",
   "execution_count": null,
   "metadata": {},
   "outputs": [],
   "source": []
  },
  {
   "cell_type": "code",
   "execution_count": null,
   "metadata": {},
   "outputs": [],
   "source": []
  },
  {
   "cell_type": "code",
   "execution_count": null,
   "metadata": {},
   "outputs": [],
   "source": []
  },
  {
   "cell_type": "code",
   "execution_count": null,
   "metadata": {},
   "outputs": [],
   "source": []
  },
  {
   "cell_type": "code",
   "execution_count": null,
   "metadata": {},
   "outputs": [],
   "source": []
  },
  {
   "cell_type": "code",
   "execution_count": null,
   "metadata": {},
   "outputs": [],
   "source": []
  },
  {
   "cell_type": "code",
   "execution_count": null,
   "metadata": {},
   "outputs": [],
   "source": []
  },
  {
   "cell_type": "code",
   "execution_count": null,
   "metadata": {},
   "outputs": [],
   "source": []
  },
  {
   "cell_type": "code",
   "execution_count": null,
   "metadata": {},
   "outputs": [],
   "source": []
  },
  {
   "cell_type": "code",
   "execution_count": null,
   "metadata": {},
   "outputs": [],
   "source": []
  },
  {
   "cell_type": "code",
   "execution_count": null,
   "metadata": {},
   "outputs": [],
   "source": []
  },
  {
   "cell_type": "code",
   "execution_count": null,
   "metadata": {},
   "outputs": [],
   "source": [
    "A faire varier : batch size , learning rate , fonctions d'activations , optimizer, "
   ]
  },
  {
   "cell_type": "code",
   "execution_count": 115,
   "metadata": {
    "scrolled": true
   },
   "outputs": [],
   "source": []
  },
  {
   "cell_type": "code",
   "execution_count": null,
   "metadata": {},
   "outputs": [],
   "source": []
  },
  {
   "cell_type": "code",
   "execution_count": 122,
   "metadata": {},
   "outputs": [
    {
     "data": {
      "text/plain": [
       "\"model = keras.Sequential()\\nmodel.add(keras.layers.Dense(1, activation = 'relu'))\\nmodel.add(keras.layers.Dense(1, activation = 'relu'))\\nmodel.add(keras.layers.Dense(1041, activation = 'relu'))\\nmodel.add(keras.layers.Dense(10, activation = 'softmax'))\\n\\nmodel.compile(loss=keras.losses.categorical_crossentropy,\\n              optimizer=keras.optimizers.Adadelta(),\\n              metrics=['accuracy'])\\n\""
      ]
     },
     "execution_count": 122,
     "metadata": {},
     "output_type": "execute_result"
    }
   ],
   "source": []
  },
  {
   "cell_type": "code",
   "execution_count": null,
   "metadata": {},
   "outputs": [],
   "source": []
  },
  {
   "cell_type": "code",
   "execution_count": null,
   "metadata": {},
   "outputs": [],
   "source": []
  },
  {
   "cell_type": "code",
   "execution_count": null,
   "metadata": {},
   "outputs": [],
   "source": []
  },
  {
   "cell_type": "code",
   "execution_count": null,
   "metadata": {},
   "outputs": [],
   "source": []
  },
  {
   "cell_type": "code",
   "execution_count": null,
   "metadata": {},
   "outputs": [],
   "source": []
  },
  {
   "cell_type": "code",
   "execution_count": null,
   "metadata": {},
   "outputs": [],
   "source": []
  },
  {
   "cell_type": "code",
   "execution_count": null,
   "metadata": {},
   "outputs": [],
   "source": []
  },
  {
   "cell_type": "code",
   "execution_count": null,
   "metadata": {},
   "outputs": [],
   "source": []
  },
  {
   "cell_type": "code",
   "execution_count": null,
   "metadata": {},
   "outputs": [],
   "source": []
  },
  {
   "cell_type": "code",
   "execution_count": null,
   "metadata": {},
   "outputs": [],
   "source": []
  },
  {
   "cell_type": "code",
   "execution_count": null,
   "metadata": {},
   "outputs": [],
   "source": []
  },
  {
   "cell_type": "code",
   "execution_count": null,
   "metadata": {},
   "outputs": [],
   "source": []
  },
  {
   "cell_type": "code",
   "execution_count": null,
   "metadata": {},
   "outputs": [],
   "source": []
  },
  {
   "cell_type": "code",
   "execution_count": null,
   "metadata": {},
   "outputs": [],
   "source": []
  },
  {
   "cell_type": "markdown",
   "metadata": {},
   "source": [
    "# PMC"
   ]
  },
  {
   "cell_type": "code",
   "execution_count": 154,
   "metadata": {},
   "outputs": [],
   "source": [
    "def create_model_PMC():\n",
    "    model = Sequential()\n",
    "    model.add(Flatten(input_shape=(32, 32,3)))\n",
    "    model.add(Dense(512, activation=relu))\n",
    "    model.add(Dense(512, activation=relu))\n",
    "    model.add(Dense(10, activation=softmax))\n",
    "    model.compile(learning_rate= 0.1,loss=sparse_categorical_crossentropy,\n",
    "                  optimizer=Adam(),\n",
    "                  metrics=[sparse_categorical_accuracy])\n",
    "    return model\n"
   ]
  },
  {
   "cell_type": "code",
   "execution_count": 155,
   "metadata": {},
   "outputs": [
    {
     "name": "stdout",
     "output_type": "stream",
     "text": [
      "Model: \"sequential_22\"\n",
      "_________________________________________________________________\n",
      "Layer (type)                 Output Shape              Param #   \n",
      "=================================================================\n",
      "flatten_22 (Flatten)         (None, 3072)              0         \n",
      "_________________________________________________________________\n",
      "dense_41 (Dense)             (None, 1)                 3073      \n",
      "_________________________________________________________________\n",
      "dense_42 (Dense)             (None, 10)                20        \n",
      "=================================================================\n",
      "Total params: 3,093\n",
      "Trainable params: 3,093\n",
      "Non-trainable params: 0\n",
      "_________________________________________________________________\n",
      "None\n"
     ]
    }
   ],
   "source": [
    "(x_train, y_train), (x_test, y_test) = cifar10.load_data()\n",
    "x_train = x_train / 255.0\n",
    "x_test = x_test / 255.0\n",
    "model_pmc = create_model_PMC()\n",
    "print(model.summary())"
   ]
  },
  {
   "cell_type": "code",
   "execution_count": 169,
   "metadata": {},
   "outputs": [
    {
     "name": "stdout",
     "output_type": "stream",
     "text": [
      "Train on 50000 samples, validate on 10000 samples\n",
      "Epoch 1/10\n",
      "50000/50000 [==============================] - 13s 266us/sample - loss: 0.7123 - sparse_categorical_accuracy: 0.7402 - val_loss: 2.8992 - val_sparse_categorical_accuracy: 0.4713\n",
      "Epoch 2/10\n",
      "50000/50000 [==============================] - 14s 280us/sample - loss: 0.7018 - sparse_categorical_accuracy: 0.7458 - val_loss: 2.7772 - val_sparse_categorical_accuracy: 0.4696\n",
      "Epoch 3/10\n",
      "50000/50000 [==============================] - 14s 280us/sample - loss: 0.7009 - sparse_categorical_accuracy: 0.7458 - val_loss: 2.7556 - val_sparse_categorical_accuracy: 0.4751\n",
      "Epoch 4/10\n",
      "50000/50000 [==============================] - 14s 271us/sample - loss: 0.7093 - sparse_categorical_accuracy: 0.7432 - val_loss: 2.7434 - val_sparse_categorical_accuracy: 0.4690\n",
      "Epoch 5/10\n",
      "50000/50000 [==============================] - 15s 298us/sample - loss: 0.7156 - sparse_categorical_accuracy: 0.7424 - val_loss: 2.8145 - val_sparse_categorical_accuracy: 0.4600\n",
      "Epoch 6/10\n",
      "50000/50000 [==============================] - 14s 271us/sample - loss: 0.6981 - sparse_categorical_accuracy: 0.7482 - val_loss: 2.9595 - val_sparse_categorical_accuracy: 0.4649\n",
      "Epoch 7/10\n",
      "50000/50000 [==============================] - 14s 285us/sample - loss: 0.6918 - sparse_categorical_accuracy: 0.7499 - val_loss: 2.7555 - val_sparse_categorical_accuracy: 0.4657\n",
      "Epoch 8/10\n",
      "50000/50000 [==============================] - 13s 268us/sample - loss: 0.7067 - sparse_categorical_accuracy: 0.7447 - val_loss: 2.7854 - val_sparse_categorical_accuracy: 0.4725\n",
      "Epoch 9/10\n",
      "50000/50000 [==============================] - 14s 279us/sample - loss: 0.6990 - sparse_categorical_accuracy: 0.7483 - val_loss: 2.9437 - val_sparse_categorical_accuracy: 0.4615\n",
      "Epoch 10/10\n",
      "50000/50000 [==============================] - 15s 291us/sample - loss: 0.6964 - sparse_categorical_accuracy: 0.7479 - val_loss: 2.9211 - val_sparse_categorical_accuracy: 0.4693\n"
     ]
    },
    {
     "data": {
      "text/plain": [
       "<tensorflow.python.keras.callbacks.History at 0x2a6ff450708>"
      ]
     },
     "execution_count": 169,
     "metadata": {},
     "output_type": "execute_result"
    }
   ],
   "source": [
    "model_pmc.fit(x_train, y_train, validation_data=(x_test, y_test),\n",
    "              epochs=10,batch_size=50,callbacks=[tensorboard_callback])"
   ]
  },
  {
   "cell_type": "code",
   "execution_count": 162,
   "metadata": {},
   "outputs": [
    {
     "name": "stdout",
     "output_type": "stream",
     "text": [
      "[6]\n"
     ]
    },
    {
     "data": {
      "image/png": "[encoded data removed]",
      "text/plain": [
       "<Figure size 432x288 with 1 Axes>"
      ]
     },
     "metadata": {
      "needs_background": "light"
     },
     "output_type": "display_data"
    },
    {
     "data": {
      "text/plain": [
       "6"
      ]
     },
     "execution_count": 162,
     "metadata": {},
     "output_type": "execute_result"
    }
   ],
   "source": [
    "predictions = model.predict((x_test, y_test))\n",
    "plt.imshow(x_test[556])\n",
    "print(y_test[556])\n",
    "plt.show()\n",
    "np.argmax(predictions[556])"
   ]
  },
  {
   "cell_type": "code",
   "execution_count": null,
   "metadata": {},
   "outputs": [],
   "source": [
    "A faire Varier : batch size , le nombre de couches cachées , le nombre de learning rate, nombre de couche cachées...."
   ]
  }
 ],
 "metadata": {
  "kernelspec": {
   "display_name": "Python 3",
   "language": "python",
   "name": "python3"
  },
  "language_info": {
   "codemirror_mode": {
    "name": "ipython",
    "version": 3
   },
   "file_extension": ".py",
   "mimetype": "text/x-python",
   "name": "python",
   "nbconvert_exporter": "python",
   "pygments_lexer": "ipython3",
   "version": "3.7.4"
  }
 },
 "nbformat": 4,
 "nbformat_minor": 2
}
