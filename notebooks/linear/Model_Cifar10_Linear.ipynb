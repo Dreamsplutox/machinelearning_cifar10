{
 "cells": [
  {
   "cell_type": "markdown",
   "metadata": {},
   "source": [
    "<h1 style=\"color:#987753\"><center>============= IMPORT DEPANDENCIES =============</center></h1>"
   ]
  },
  {
   "cell_type": "code",
   "execution_count": 43,
   "metadata": {},
   "outputs": [],
   "source": [
    "import tensorflow as tf\n",
    "import numpy as np\n",
    "from random import shuffle\n",
    "from tensorflow.keras.datasets import cifar10\n",
    "from tensorflow.keras.preprocessing.image import ImageDataGenerator\n",
    "from tensorflow.keras.models import Sequential\n",
    "from tensorflow.keras.layers import Dense, Dropout, Activation, Flatten\n",
    "from tensorflow.keras.optimizers import Adam\n",
    "from tensorflow.keras import regularizers\n",
    "from matplotlib import pyplot as plt\n",
    "import time\n",
    "from tensorflow.keras.utils import plot_model\n",
    "import random\n",
    "from datetime import datetime\n",
    "from datetime import date\n",
    "from random import randint\n",
    "from tensorflow.keras.callbacks import TensorBoard\n",
    "import pandas as pd\n",
    "import csv\n",
    "import os\n",
    "from plotly import tools\n",
    "%matplotlib inline \n",
    "import plotly.graph_objs as go\n",
    "import plotly.figure_factory as ff\n",
    "import plotly\n",
    "from plotly import tools\n",
    "from plotly.offline import download_plotlyjs, init_notebook_mode, plot, iplot\n",
    "from tensorflow.keras.preprocessing.image import ImageDataGenerator"
   ]
  },
  {
   "cell_type": "markdown",
   "metadata": {},
   "source": [
    "<h1 style=\"color:#987753\"><center>============= UTILS FUNCTION =============</center></h1>"
   ]
  },
  {
   "cell_type": "code",
   "execution_count": 44,
   "metadata": {},
   "outputs": [],
   "source": [
    "def getTime():\n",
    "    \n",
    "    now = datetime.now()\n",
    "    current_time = now.strftime(\"%H-%M-%S\")\n",
    "    today = str(date.today()).split('-')\n",
    "    today = today[2]+\"_\"+today[1]+\"_\"+today[0]\n",
    "    runTime = (\"%s_%s\" %(today,current_time))\n",
    "    return runTime"
   ]
  },
  {
   "cell_type": "code",
   "execution_count": 45,
   "metadata": {},
   "outputs": [],
   "source": [
    "def logName():\n",
    "    \n",
    "    NAME = \"ModelCifar10_Linear_\"+str(ID)+\"_\"+getTime()\n",
    "    return NAME"
   ]
  },
  {
   "cell_type": "code",
   "execution_count": 46,
   "metadata": {},
   "outputs": [],
   "source": [
    "def hyperParams():\n",
    "        \n",
    "    modelParams = {\"Layers\":[\n",
    "                    {\"neurons\":1 , \"activation\":\"tanh\", \"dropOut\":0.3},\n",
    "                    {\"neurons\":10, \"activation\":\"softmax\", \"dropOut\":False}\n",
    "                    ],\n",
    "                   \"loss\":\"categorical_crossentropy\",\n",
    "                   \"optimizer\":\"Adam(lr=0.0001)\",\n",
    "                   \"metrics\":\"accuracy\",\n",
    "                   \"learningRate\":.0001,\n",
    "                   \"epochs\":35,\n",
    "                   \"batchSize\":50,\n",
    "                   \"testName\":\"Simple Linear Model\"\n",
    "                 }\n",
    "    return modelParams"
   ]
  },
  {
   "cell_type": "code",
   "execution_count": 47,
   "metadata": {},
   "outputs": [],
   "source": [
    "def humainesLabels(position):\n",
    "    labels = ['airplane', 'automobile', 'bird', 'cat', 'deer',\n",
    "               'dog', 'frog', 'horse', 'ship', 'truck']\n",
    "    return labels[position]"
   ]
  },
  {
   "cell_type": "code",
   "execution_count": 48,
   "metadata": {},
   "outputs": [],
   "source": [
    "def humanizeTime(secs):\n",
    "    mins, secs = divmod(secs, 60)\n",
    "    hours, mins = divmod(mins, 60)\n",
    "    return ('RUN TIME : %02d:%02d:%02d' % (hours, mins, secs))"
   ]
  },
  {
   "cell_type": "code",
   "execution_count": 49,
   "metadata": {},
   "outputs": [],
   "source": [
    "def loadData():\n",
    "    \n",
    "    (trainImages, trainLabels), (testImages, testLabels) = cifar10.load_data()\n",
    "    trainImages, testImages = trainImages / 255.0, testImages / 255.0\n",
    "    yTrain = testLabels\n",
    "    return trainImages, testImages, trainLabels, testLabels\n"
   ]
  },
  {
   "cell_type": "code",
   "execution_count": 50,
   "metadata": {},
   "outputs": [],
   "source": [
    "def plotFigure(images=False, labels=False, nbSamples=0, size=10):\n",
    "    \n",
    "    plt.figure(figsize=(size, size))\n",
    "    for i in range(nbSamples):\n",
    "        plt.subplot(5,5,i+1)\n",
    "        plt.xticks([])\n",
    "        plt.yticks([])\n",
    "        plt.grid(False)\n",
    "        plt.imshow(images[i], cmap=plt.cm.binary)\n",
    "       \n",
    "        plt.xlabel(humainesLabels(labels[i][0]))\n",
    "    plt.show()\n",
    "    "
   ]
  },
  {
   "cell_type": "markdown",
   "metadata": {},
   "source": [
    "<h1 style=\"color:#987753\"><center>============= INIT MODEL =============</center></h1>"
   ]
  },
  {
   "cell_type": "code",
   "execution_count": 51,
   "metadata": {},
   "outputs": [],
   "source": [
    "def oneHoteEncoding(trainLabels, testLabels):\n",
    "    \n",
    "    trainLabels = tf.keras.utils.to_categorical(trainLabels)\n",
    "    testLabels = tf.keras.utils.to_categorical(testLabels)\n",
    "    \n",
    "    return trainLabels, testLabels\n"
   ]
  },
  {
   "cell_type": "code",
   "execution_count": 64,
   "metadata": {},
   "outputs": [],
   "source": [
    "def createModel(params):\n",
    "    \n",
    "    model = Sequential()\n",
    "    model.add(Flatten(input_shape=(32, 32, 3)))\n",
    "    for layers in params['Layers']:\n",
    "        if layers['dropOut'] == False:\n",
    "            model.add(Dense(layers['neurons'], activation=layers['activation']))\n",
    "        else:\n",
    "            model.add(Dense(layers['neurons'], activation=layers['activation']))\n",
    "            model.add(Dropout(layers['dropOut']))\n",
    "    \n",
    "    opt = Adam(lr=0.001)\n",
    "    model.compile(loss=params['loss'],\n",
    "                   optimizer=opt,\n",
    "                   metrics=['accuracy'])\n",
    "    \n",
    "    model.summary()\n",
    "    return model\n"
   ]
  },
  {
   "cell_type": "markdown",
   "metadata": {},
   "source": [
    "<h1 style=\"color:#987753\"><center>============= TRAIN MODEL =============</center></h1>"
   ]
  },
  {
   "cell_type": "code",
   "execution_count": 65,
   "metadata": {},
   "outputs": [],
   "source": [
    "def reshapeInput(trainImages, testImages):\n",
    "    \n",
    "    trainImages.reshape(trainImages.shape[0], trainImages.shape[1] * trainImages.shape[2] * trainImages.shape[3]) #\n",
    "    testImages.reshape(testImages.shape[0], testImages.shape[1] * testImages.shape[2] * testImages.shape[3]) #\n",
    "    \n",
    "    return trainImages, testImages\n"
   ]
  },
  {
   "cell_type": "code",
   "execution_count": 66,
   "metadata": {},
   "outputs": [],
   "source": [
    "def fitModel(model, params, trainImages, trainLabels, testImges, testLabels):\n",
    "    \n",
    "    start_time = time.time()\n",
    "    tensorboard = TensorBoard(log_dir='D:\\logsProject\\{}'.format(logName()))\n",
    "    ################################ CALCULATE RUNTIME - START ###############################\n",
    "    history = model.fit(trainImages, trainLabels,\n",
    "                       epochs=params['epochs'],\n",
    "                       batch_size=params['batchSize'], verbose=1, callbacks=[tensorboard], validation_data=(testImges, testLabels))\n",
    "    ################################ CALCULATE RUNTIME - END ###############################\n",
    "    print(humanizeTime(time.time() - start_time))\n",
    "    return model, humanizeTime(time.time() - start_time), history"
   ]
  },
  {
   "cell_type": "markdown",
   "metadata": {},
   "source": [
    "<h1 style=\"color:#987753\"><center>============= EVALUATE MODEL =============</center></h1>"
   ]
  },
  {
   "cell_type": "code",
   "execution_count": 67,
   "metadata": {},
   "outputs": [],
   "source": [
    "def evaluateModel(model, testImages, testLabels):\n",
    "    \n",
    "    return model.evaluate(testImages, testLabels, batch_size=50)\n"
   ]
  },
  {
   "cell_type": "markdown",
   "metadata": {},
   "source": [
    "<h1 style=\"color:#987753\"><center>============= PREDICT =============</center></h1>"
   ]
  },
  {
   "cell_type": "code",
   "execution_count": 68,
   "metadata": {},
   "outputs": [],
   "source": [
    "def predictionPercent(model, testImages, testLabels):\n",
    "    \n",
    "    prediction = model.predict(testImages)\n",
    "    predicted = []\n",
    "    for i in range(len(prediction)):\n",
    "        if np.argmax(testLabels[i]) == np.argmax(prediction[i]):\n",
    "            predicted.append(1)\n",
    "        else:\n",
    "            predicted.append(0)\n",
    "    print(\"Predicted percent {} %\".format((sum(predicted)/(len(predicted)) * 100)))\n",
    "    result = (sum(predicted)/len(predicted)) * 100\n",
    "    \n",
    "    return prediction, result"
   ]
  },
  {
   "cell_type": "code",
   "execution_count": 69,
   "metadata": {},
   "outputs": [],
   "source": [
    "def plotPredictedResult(prediction, testImages, testLabels):\n",
    "    \n",
    "    plt.figure(figsize=(15, 15))\n",
    "    for i in range(20):\n",
    "        plt.subplot(5,7,i+1)\n",
    "        plt.xticks([])\n",
    "        plt.yticks([])\n",
    "        plt.grid(False)\n",
    "        plt.imshow(testImages[i])\n",
    "        plt.xlabel(\"True: \"+humainesLabels(np.argmax(testLabels[i]))+\"\\n\\n\\n\")\n",
    "        plt.title(\"\\nPredicted: \"+humainesLabels(np.argmax(prediction[i])))\n",
    "        \n",
    "    plt.show()"
   ]
  },
  {
   "cell_type": "markdown",
   "metadata": {},
   "source": [
    "<h1 style=\"color:#987753\"><center>============= PLOT ACCURACY AND LOSS =============</center></h1>"
   ]
  },
  {
   "cell_type": "code",
   "execution_count": 70,
   "metadata": {},
   "outputs": [],
   "source": [
    "def trace(x,y,imagesLabels,color):\n",
    "        trace = go.Scatter(\n",
    "            x = x,y = y,\n",
    "            name=imagesLabels,\n",
    "            marker=dict(color=color),\n",
    "            mode = \"markers+lines\",\n",
    "            text=x\n",
    "        )\n",
    "        return trace\n",
    "\n",
    "def plotAccLoss(model):\n",
    "    \n",
    "    hist = model.history\n",
    "    acc = hist['accuracy']\n",
    "    valAcc = hist['val_accuracy']\n",
    "    loss = hist['loss']\n",
    "    valLoss = hist['val_loss']\n",
    "\n",
    "    epochs = list(range(1,len(acc)+1))\n",
    "\n",
    "    traceA = trace(epochs,acc,\"Training accuracy\", \"Green\")\n",
    "    traceVa = trace(epochs,valAcc,\"Validation accuracy\", \"Red\")\n",
    "    traceL = trace(epochs,loss,\"Training loss\", \"Blue\")\n",
    "    traceVl = trace(epochs,valLoss,\"Validation loss\", \"Magenta\")\n",
    "\n",
    "    fig = plotly.subplots.make_subplots(rows=1,cols=2, subplot_titles=('Training and validation accuracy',\n",
    "                                                             'Training and validation loss'))\n",
    "    fig.append_trace(traceA,1,1)\n",
    "    fig.append_trace(traceVa,1,1)\n",
    "    fig.append_trace(traceL,1,2)\n",
    "    fig.append_trace(traceVl,1,2)\n",
    "    fig['layout']['xaxis'].update(title = 'Epoch')\n",
    "    fig['layout']['xaxis2'].update(title = 'Epoch')\n",
    "    fig['layout']['yaxis'].update(title = 'Accuracy', range=[0,1])\n",
    "    fig['layout']['yaxis2'].update(title = 'Loss', range=[0,1])\n",
    "\n",
    "\n",
    "    iplot(fig, filename='accuracy-loss')"
   ]
  },
  {
   "cell_type": "markdown",
   "metadata": {},
   "source": [
    "<h1 style=\"color:#987753\"><center>============= SAVE MODEL =============</center></h1>"
   ]
  },
  {
   "cell_type": "code",
   "execution_count": 71,
   "metadata": {},
   "outputs": [],
   "source": [
    "def saveModel(model, ID):\n",
    "    \n",
    "    now = datetime.now()\n",
    "    current_time = now.strftime(\"%H-%M-%S\")\n",
    "    today = str(date.today()).split('-')\n",
    "    today = today[2]+\"_\"+today[1]+\"_\"+today[0]\n",
    "    runTime = (\"%s_%s\" %(today,current_time))\n",
    "    model.save('D:\\Models\\model_run_'+runTime+\"_\"+str(ID))\n"
   ]
  },
  {
   "cell_type": "code",
   "execution_count": 72,
   "metadata": {},
   "outputs": [],
   "source": [
    "def readLogFile(path=\"D:/LogsProject/hyperParams/finalRecap.csv\", cols=None):\n",
    "    \n",
    "    try:\n",
    "        \n",
    "        df = pd.read_csv(path, sep=\";\" ,encoding='utf-8')\n",
    "        return df, path\n",
    "    \n",
    "    except Exception as e:\n",
    "        \n",
    "        print('-Erorr file not found, it will be created now... \\n-Error tracback : %s' %(e))\n",
    "        f = open(path, \"w\")\n",
    "        writer = csv.DictWriter(f, fieldnames=cols)\n",
    "        writer.writeheader()\n",
    "        f.close()\n",
    "        df = pd.read_csv(path, sep=\",\" ,encoding='utf-8')\n",
    "        return df, path"
   ]
  },
  {
   "cell_type": "code",
   "execution_count": 73,
   "metadata": {},
   "outputs": [],
   "source": [
    "def generateExcelParams(params, history, resultEV, runTime):\n",
    "    \n",
    "    pass\n",
    "\n",
    "    params['indiv_id'] = ID\n",
    "    params['Layers'] = ';'.join(str(dict_) for dict_ in params['Layers'])\n",
    "    params['valAccuracy'] = resultEV[1]\n",
    "    params['valLoss'] = resultEV[0]\n",
    "    params['trainAccuracy'] = round(history.history['accuracy'][params['epochs']-1].item(), 3)\n",
    "    params['trainLoss'] = round(history.history['loss'][params['epochs']-1].item(), 3)\n",
    "    params['runTime'] = runTime.split(' ')[3]\n",
    "    \n",
    "    \n",
    "    dictToCsv = dict()\n",
    "    for key, value in zip(params.keys(), params.values()):\n",
    "        \n",
    "        tmp = []\n",
    "        tmp.append(value)\n",
    "        dictToCsv[key] = tmp\n",
    "    \n",
    "    \n",
    "    df = pd.DataFrame(dictToCsv, columns=params.keys())\n",
    "    mainDirectory = os.getcwd() + \"\\\\logs\\\\linear\\\\logs_\" + getTime()+\"\\\\\"\n",
    "    os.mkdir(mainDirectory)\n",
    "    df.to_csv(mainDirectory+\"combined_recap.csv\", sep=\";\", index=None, header=True)\n",
    "#     logFile, path = readLogFile(cols=params.keys())\n",
    "#     dfMerged = pd.concat([logFile, df], ignore_index=True)\n",
    "#     os.remove(path)\n",
    "#     dfMerged.to_csv(path, sep=\";\", index=None, header=True)\n",
    "\n",
    "#     return dfMerged"
   ]
  },
  {
   "cell_type": "code",
   "execution_count": 74,
   "metadata": {},
   "outputs": [],
   "source": [
    "def main():\n",
    "    \n",
    "    global ID\n",
    "    ID = random.randint(1,1000000)\n",
    "    print(\"================================ ID RUN %s ================================\" % (ID))\n",
    "    params = hyperParams()\n",
    "    (trainImages, testImages, trainLabels, testLabels) = loadData()\n",
    "    \n",
    "    yTest = testLabels\n",
    "    print(\"================================ SHAPE ================================\")\n",
    "    print(\"\\t- NB TRAIN SAMPLES %s WIDTH %s HEIGHT %s COLOR %s\" % (trainImages.shape))\n",
    "    print(\"\\t- NB TEST SAMPLES %s WIDTH %s HEIGHT %s COLOR %s\" % (testImages.shape))\n",
    "    \n",
    "    print(\"================================ PLOT FIGURE ================================\")\n",
    "    plotFigure(trainImages, trainLabels, nbSamples=25)\n",
    "    \n",
    "    print(\"================================ ONEHOT ENCODING ================================\")\n",
    "    trainLabels, testLabels = oneHoteEncoding(trainLabels, testLabels)\n",
    "    \n",
    "    print(\"================================ CREATE MODEL ================================\")\n",
    "    model = createModel(params)\n",
    "    \n",
    "    plot_model(model, \"GraphModel/model_\"+str(ID)+\"_.png\")\n",
    "    \n",
    "    print(\"================================ RESHAPE INPUTS ================================\")\n",
    "    trainImages, testImages = reshapeInput(trainImages, testImages)\n",
    "    \n",
    "    print(\"================================ FIT MODEL ================================\")\n",
    "    model, runTime, history = fitModel(model, params, trainImages, trainLabels, testImages, testLabels)\n",
    "    \n",
    "    print(\"================================ PLOT ACCURACY AND LOSS ================================\")\n",
    "    plotAccLoss(history)\n",
    "    \n",
    "    print(\"================================ EVALUATE MODEL ================================\")\n",
    "    resultEV = evaluateModel(model, testImages, testLabels)\n",
    "    \n",
    "    print(\"================================ PREDICITION ================================\")\n",
    "    prediction, result = predictionPercent(model, testImages, testLabels)\n",
    "    \n",
    "    print(\"================================ PLOT PREDICITION ================================\")\n",
    "    plotPredictedResult(prediction, testImages, testLabels)\n",
    "    \n",
    "    print(\"================================ SAVE MODEL ================================\")\n",
    "    saveModel(model, ID)\n",
    "    \n",
    "    print(\"================================ GENERATE CSV HYPERPARAMS ================================\")\n",
    "    jsonDf = generateExcelParams(params, history, resultEV, runTime)"
   ]
  },
  {
   "cell_type": "code",
   "execution_count": 75,
   "metadata": {},
   "outputs": [
    {
     "name": "stdout",
     "output_type": "stream",
     "text": [
      "================================ ID RUN 546304 ================================\n",
      "================================ SHAPE ================================\n",
      "\t- NB TRAIN SAMPLES 50000 WIDTH 32 HEIGHT 32 COLOR 3\n",
      "\t- NB TEST SAMPLES 10000 WIDTH 32 HEIGHT 32 COLOR 3\n",
      "================================ PLOT FIGURE ================================\n"
     ]
    },
    {
     "data": {
      "image/png": "[encoded data removed]",
      "text/plain": [
       "<Figure size 720x720 with 25 Axes>"
      ]
     },
     "metadata": {},
     "output_type": "display_data"
    },
    {
     "name": "stdout",
     "output_type": "stream",
     "text": [
      "================================ ONEHOT ENCODING ================================\n",
      "================================ CREATE MODEL ================================\n",
      "Model: \"sequential_4\"\n",
      "_________________________________________________________________\n",
      "Layer (type)                 Output Shape              Param #   \n",
      "=================================================================\n",
      "flatten_4 (Flatten)          (None, 3072)              0         \n",
      "_________________________________________________________________\n",
      "dense_4 (Dense)              (None, 1)                 3073      \n",
      "_________________________________________________________________\n",
      "dropout (Dropout)            (None, 1)                 0         \n",
      "_________________________________________________________________\n",
      "dense_5 (Dense)              (None, 10)                20        \n",
      "=================================================================\n",
      "Total params: 3,093\n",
      "Trainable params: 3,093\n",
      "Non-trainable params: 0\n",
      "_________________________________________________________________\n",
      "================================ RESHAPE INPUTS ================================\n",
      "================================ FIT MODEL ================================\n",
      "Train on 50000 samples, validate on 10000 samples\n",
      "Epoch 1/35\n",
      "50000/50000 [==============================] - 6s 111us/sample - loss: 2.2734 - accuracy: 0.1345 - val_loss: 2.1668 - val_accuracy: 0.1841\n",
      "Epoch 2/35\n",
      "50000/50000 [==============================] - 5s 102us/sample - loss: 2.1660 - accuracy: 0.1541 - val_loss: 2.1245 - val_accuracy: 0.1824\n",
      "Epoch 3/35\n",
      "50000/50000 [==============================] - 5s 97us/sample - loss: 2.1462 - accuracy: 0.1573 - val_loss: 2.0878 - val_accuracy: 0.1851\n",
      "Epoch 4/35\n",
      "50000/50000 [==============================] - 5s 101us/sample - loss: 2.1496 - accuracy: 0.1547 - val_loss: 2.1041 - val_accuracy: 0.1798\n",
      "Epoch 5/35\n",
      "50000/50000 [==============================] - 4s 90us/sample - loss: 2.1463 - accuracy: 0.1568 - val_loss: 2.0864 - val_accuracy: 0.1809\n",
      "Epoch 6/35\n",
      "50000/50000 [==============================] - 5s 102us/sample - loss: 2.1432 - accuracy: 0.1539 - val_loss: 2.0829 - val_accuracy: 0.1859\n",
      "Epoch 7/35\n",
      "50000/50000 [==============================] - 5s 97us/sample - loss: 2.1403 - accuracy: 0.1585 - val_loss: 2.0869 - val_accuracy: 0.1865\n",
      "Epoch 8/35\n",
      "50000/50000 [==============================] - 5s 97us/sample - loss: 2.1373 - accuracy: 0.1577 - val_loss: 2.0794 - val_accuracy: 0.1833\n",
      "Epoch 9/35\n",
      "50000/50000 [==============================] - 5s 96us/sample - loss: 2.1374 - accuracy: 0.1564 - val_loss: 2.0772 - val_accuracy: 0.1699\n",
      "Epoch 10/35\n",
      "50000/50000 [==============================] - 5s 94us/sample - loss: 2.1404 - accuracy: 0.1577 - val_loss: 2.1032 - val_accuracy: 0.1736\n",
      "Epoch 11/35\n",
      "50000/50000 [==============================] - 5s 99us/sample - loss: 2.1398 - accuracy: 0.1557 - val_loss: 2.0850 - val_accuracy: 0.1854\n",
      "Epoch 12/35\n",
      "50000/50000 [==============================] - 5s 91us/sample - loss: 2.1387 - accuracy: 0.1575 - val_loss: 2.1032 - val_accuracy: 0.1740\n",
      "Epoch 13/35\n",
      "50000/50000 [==============================] - 5s 93us/sample - loss: 2.1392 - accuracy: 0.1559 - val_loss: 2.0831 - val_accuracy: 0.1857\n",
      "Epoch 14/35\n",
      "50000/50000 [==============================] - 5s 93us/sample - loss: 2.1393 - accuracy: 0.1579 - val_loss: 2.0954 - val_accuracy: 0.1755\n",
      "Epoch 15/35\n",
      "50000/50000 [==============================] - 4s 89us/sample - loss: 2.1397 - accuracy: 0.1553 - val_loss: 2.0802 - val_accuracy: 0.1867\n",
      "Epoch 16/35\n",
      "50000/50000 [==============================] - 5s 96us/sample - loss: 2.1404 - accuracy: 0.1570 - val_loss: 2.0961 - val_accuracy: 0.1806\n",
      "Epoch 17/35\n",
      "50000/50000 [==============================] - 5s 93us/sample - loss: 2.1365 - accuracy: 0.1577 - val_loss: 2.0783 - val_accuracy: 0.1847\n",
      "Epoch 18/35\n",
      "50000/50000 [==============================] - 5s 96us/sample - loss: 2.1343 - accuracy: 0.1569 - val_loss: 2.0782 - val_accuracy: 0.1857\n",
      "Epoch 19/35\n",
      "50000/50000 [==============================] - 5s 92us/sample - loss: 2.1363 - accuracy: 0.1564 - val_loss: 2.0847 - val_accuracy: 0.1814\n",
      "Epoch 20/35\n",
      "50000/50000 [==============================] - 5s 95us/sample - loss: 2.1349 - accuracy: 0.1567 - val_loss: 2.0811 - val_accuracy: 0.1834\n",
      "Epoch 21/35\n",
      "50000/50000 [==============================] - 5s 92us/sample - loss: 2.1354 - accuracy: 0.1574 - val_loss: 2.0788 - val_accuracy: 0.1821\n",
      "Epoch 22/35\n",
      "50000/50000 [==============================] - 4s 83us/sample - loss: 2.1339 - accuracy: 0.1584 - val_loss: 2.1119 - val_accuracy: 0.1731\n",
      "Epoch 23/35\n",
      "50000/50000 [==============================] - 5s 95us/sample - loss: 2.1325 - accuracy: 0.1588 - val_loss: 2.0792 - val_accuracy: 0.1843\n",
      "Epoch 24/35\n",
      "50000/50000 [==============================] - 5s 95us/sample - loss: 2.1369 - accuracy: 0.1560 - val_loss: 2.0991 - val_accuracy: 0.1728\n",
      "Epoch 25/35\n",
      "50000/50000 [==============================] - 5s 96us/sample - loss: 2.1348 - accuracy: 0.1556 - val_loss: 2.0830 - val_accuracy: 0.1825\n",
      "Epoch 26/35\n",
      "50000/50000 [==============================] - 5s 90us/sample - loss: 2.1368 - accuracy: 0.1561 - val_loss: 2.0890 - val_accuracy: 0.1765\n",
      "Epoch 27/35\n",
      "50000/50000 [==============================] - 5s 95us/sample - loss: 2.1360 - accuracy: 0.1584 - val_loss: 2.0785 - val_accuracy: 0.1822\n",
      "Epoch 28/35\n",
      "50000/50000 [==============================] - 5s 95us/sample - loss: 2.1330 - accuracy: 0.1579 - val_loss: 2.0873 - val_accuracy: 0.1837\n",
      "Epoch 29/35\n",
      "50000/50000 [==============================] - 5s 90us/sample - loss: 2.1390 - accuracy: 0.1572 - val_loss: 2.1188 - val_accuracy: 0.1696\n",
      "Epoch 30/35\n",
      "50000/50000 [==============================] - 5s 94us/sample - loss: 2.1322 - accuracy: 0.1592 - val_loss: 2.0766 - val_accuracy: 0.1824\n",
      "Epoch 31/35\n",
      "50000/50000 [==============================] - 5s 91us/sample - loss: 2.1334 - accuracy: 0.1565 - val_loss: 2.1121 - val_accuracy: 0.1799\n",
      "Epoch 32/35\n",
      "50000/50000 [==============================] - 5s 96us/sample - loss: 2.1351 - accuracy: 0.1577 - val_loss: 2.0913 - val_accuracy: 0.1810\n",
      "Epoch 33/35\n",
      "50000/50000 [==============================] - 4s 87us/sample - loss: 2.1339 - accuracy: 0.1579 - val_loss: 2.0766 - val_accuracy: 0.1818\n",
      "Epoch 34/35\n",
      "50000/50000 [==============================] - 5s 92us/sample - loss: 2.1385 - accuracy: 0.1555 - val_loss: 2.0949 - val_accuracy: 0.1808\n",
      "Epoch 35/35\n",
      "50000/50000 [==============================] - 5s 93us/sample - loss: 2.1336 - accuracy: 0.1560 - val_loss: 2.0810 - val_accuracy: 0.1830\n",
      "RUN TIME : 00:02:47\n",
      "================================ PLOT ACCURACY AND LOSS ================================\n"
     ]
    },
    {
     "data": {
      "application/vnd.plotly.v1+json": {
       "config": {
        "linkText": "Export to plot.ly",
        "plotlyServerURL": "https://plot.ly",
        "showLink": false
       },
       "data": [
        {
         "marker": {
          "color": "Green"
         },
         "mode": "markers+lines",
         "name": "Training accuracy",
         "text": [
          "1",
          "2",
          "3",
          "4",
          "5",
          "6",
          "7",
          "8",
          "9",
          "10",
          "11",
          "12",
          "13",
          "14",
          "15",
          "16",
          "17",
          "18",
          "19",
          "20",
          "21",
          "22",
          "23",
          "24",
          "25",
          "26",
          "27",
          "28",
          "29",
          "30",
          "31",
          "32",
          "33",
          "34",
          "35"
         ],
         "type": "scatter",
         "x": [
          1,
          2,
          3,
          4,
          5,
          6,
          7,
          8,
          9,
          10,
          11,
          12,
          13,
          14,
          15,
          16,
          17,
          18,
          19,
          20,
          21,
          22,
          23,
          24,
          25,
          26,
          27,
          28,
          29,
          30,
          31,
          32,
          33,
          34,
          35
         ],
         "xaxis": "x",
         "y": [
          0.13446000218391418,
          0.15413999557495117,
          0.15731999278068542,
          0.15466000139713287,
          0.15676000714302063,
          0.15386000275611877,
          0.15846000611782074,
          0.15765999257564545,
          0.15636000037193298,
          0.15770000219345093,
          0.15573999285697937,
          0.15746000409126282,
          0.15591999888420105,
          0.15785999596118927,
          0.15530000627040863,
          0.1569799929857254,
          0.15765999257564545,
          0.15688000619411469,
          0.15639999508857727,
          0.15668000280857086,
          0.15741999447345734,
          0.15839999914169312,
          0.15884000062942505,
          0.15595999360084534,
          0.15559999644756317,
          0.15613999962806702,
          0.15839999914169312,
          0.15785999596118927,
          0.15717999637126923,
          0.15919999778270721,
          0.15649999678134918,
          0.15773999691009521,
          0.15794000029563904,
          0.15546000003814697,
          0.15598000586032867
         ],
         "yaxis": "y"
        },
        {
         "marker": {
          "color": "Red"
         },
         "mode": "markers+lines",
         "name": "Validation accuracy",
         "text": [
          "1",
          "2",
          "3",
          "4",
          "5",
          "6",
          "7",
          "8",
          "9",
          "10",
          "11",
          "12",
          "13",
          "14",
          "15",
          "16",
          "17",
          "18",
          "19",
          "20",
          "21",
          "22",
          "23",
          "24",
          "25",
          "26",
          "27",
          "28",
          "29",
          "30",
          "31",
          "32",
          "33",
          "34",
          "35"
         ],
         "type": "scatter",
         "x": [
          1,
          2,
          3,
          4,
          5,
          6,
          7,
          8,
          9,
          10,
          11,
          12,
          13,
          14,
          15,
          16,
          17,
          18,
          19,
          20,
          21,
          22,
          23,
          24,
          25,
          26,
          27,
          28,
          29,
          30,
          31,
          32,
          33,
          34,
          35
         ],
         "xaxis": "x",
         "y": [
          0.18410000205039978,
          0.18240000307559967,
          0.1851000040769577,
          0.17980000376701355,
          0.1808999925851822,
          0.1859000027179718,
          0.18649999797344208,
          0.18330000340938568,
          0.16990000009536743,
          0.1736000031232834,
          0.18539999425411224,
          0.17399999499320984,
          0.18569999933242798,
          0.17550000548362732,
          0.1867000013589859,
          0.18060000240802765,
          0.18469999730587006,
          0.18569999933242798,
          0.18140000104904175,
          0.1834000051021576,
          0.18209999799728394,
          0.17309999465942383,
          0.1843000054359436,
          0.1728000044822693,
          0.18250000476837158,
          0.17649999260902405,
          0.18219999969005585,
          0.18369999527931213,
          0.1695999950170517,
          0.18240000307559967,
          0.17990000545978546,
          0.1809999942779541,
          0.1817999929189682,
          0.18080000579357147,
          0.18299999833106995
         ],
         "yaxis": "y"
        },
        {
         "marker": {
          "color": "Blue"
         },
         "mode": "markers+lines",
         "name": "Training loss",
         "text": [
          "1",
          "2",
          "3",
          "4",
          "5",
          "6",
          "7",
          "8",
          "9",
          "10",
          "11",
          "12",
          "13",
          "14",
          "15",
          "16",
          "17",
          "18",
          "19",
          "20",
          "21",
          "22",
          "23",
          "24",
          "25",
          "26",
          "27",
          "28",
          "29",
          "30",
          "31",
          "32",
          "33",
          "34",
          "35"
         ],
         "type": "scatter",
         "x": [
          1,
          2,
          3,
          4,
          5,
          6,
          7,
          8,
          9,
          10,
          11,
          12,
          13,
          14,
          15,
          16,
          17,
          18,
          19,
          20,
          21,
          22,
          23,
          24,
          25,
          26,
          27,
          28,
          29,
          30,
          31,
          32,
          33,
          34,
          35
         ],
         "xaxis": "x2",
         "y": [
          2.273410621881485,
          2.165957027077675,
          2.1461651982069014,
          2.149644996643066,
          2.1463432108163834,
          2.1431661641597746,
          2.140278252243996,
          2.137278219938278,
          2.1373645545244218,
          2.1404392145872118,
          2.139833832859993,
          2.1387044533491135,
          2.139224757194519,
          2.139268264889717,
          2.1397195345163347,
          2.1404427629709244,
          2.1364715875387192,
          2.134288984656334,
          2.136322830796242,
          2.1348531838655473,
          2.1354029058218003,
          2.133914150595665,
          2.132514070749283,
          2.1369080951213837,
          2.1348003618717195,
          2.1367568920850752,
          2.1359763449430464,
          2.133048077940941,
          2.1390420345067978,
          2.1322439826726916,
          2.133362174987793,
          2.135114056587219,
          2.13390711581707,
          2.1384772543907165,
          2.1335793837308885
         ],
         "yaxis": "y2"
        },
        {
         "marker": {
          "color": "Magenta"
         },
         "mode": "markers+lines",
         "name": "Validation loss",
         "text": [
          "1",
          "2",
          "3",
          "4",
          "5",
          "6",
          "7",
          "8",
          "9",
          "10",
          "11",
          "12",
          "13",
          "14",
          "15",
          "16",
          "17",
          "18",
          "19",
          "20",
          "21",
          "22",
          "23",
          "24",
          "25",
          "26",
          "27",
          "28",
          "29",
          "30",
          "31",
          "32",
          "33",
          "34",
          "35"
         ],
         "type": "scatter",
         "x": [
          1,
          2,
          3,
          4,
          5,
          6,
          7,
          8,
          9,
          10,
          11,
          12,
          13,
          14,
          15,
          16,
          17,
          18,
          19,
          20,
          21,
          22,
          23,
          24,
          25,
          26,
          27,
          28,
          29,
          30,
          31,
          32,
          33,
          34,
          35
         ],
         "xaxis": "x2",
         "y": [
          2.1667550349235536,
          2.1245231330394745,
          2.0878348767757418,
          2.1040978276729585,
          2.086425015926361,
          2.0829282754659655,
          2.0869318610429763,
          2.079428335428238,
          2.077233960032463,
          2.1031792068481447,
          2.0850047737360002,
          2.103203114271164,
          2.083054113984108,
          2.0954047805070877,
          2.080210584402084,
          2.096146835684776,
          2.078287192583084,
          2.078173614144325,
          2.084696128964424,
          2.0810814368724824,
          2.078815630078316,
          2.111850334405899,
          2.079226158261299,
          2.0991361218690874,
          2.0829871249198915,
          2.0890210646390917,
          2.078529346585274,
          2.087346283197403,
          2.1187789988517762,
          2.076559042334557,
          2.1120819061994554,
          2.0912566620111464,
          2.0766072195768355,
          2.0949185729026794,
          2.0810146498680115
         ],
         "yaxis": "y2"
        }
       ],
       "layout": {
        "annotations": [
         {
          "font": {
           "size": 16
          },
          "showarrow": false,
          "text": "Training and validation accuracy",
          "x": 0.225,
          "xanchor": "center",
          "xref": "paper",
          "y": 1,
          "yanchor": "bottom",
          "yref": "paper"
         },
         {
          "font": {
           "size": 16
          },
          "showarrow": false,
          "text": "Training and validation loss",
          "x": 0.775,
          "xanchor": "center",
          "xref": "paper",
          "y": 1,
          "yanchor": "bottom",
          "yref": "paper"
         }
        ],
        "autosize": true,
        "template": {
         "data": {
          "bar": [
           {
            "error_x": {
             "color": "#2a3f5f"
            },
            "error_y": {
             "color": "#2a3f5f"
            },
            "marker": {
             "line": {
              "color": "#E5ECF6",
              "width": 0.5
             }
            },
            "type": "bar"
           }
          ],
          "barpolar": [
           {
            "marker": {
             "line": {
              "color": "#E5ECF6",
              "width": 0.5
             }
            },
            "type": "barpolar"
           }
          ],
          "carpet": [
           {
            "aaxis": {
             "endlinecolor": "#2a3f5f",
             "gridcolor": "white",
             "linecolor": "white",
             "minorgridcolor": "white",
             "startlinecolor": "#2a3f5f"
            },
            "baxis": {
             "endlinecolor": "#2a3f5f",
             "gridcolor": "white",
             "linecolor": "white",
             "minorgridcolor": "white",
             "startlinecolor": "#2a3f5f"
            },
            "type": "carpet"
           }
          ],
          "choropleth": [
           {
            "colorbar": {
             "outlinewidth": 0,
             "ticks": ""
            },
            "type": "choropleth"
           }
          ],
          "contour": [
           {
            "colorbar": {
             "outlinewidth": 0,
             "ticks": ""
            },
            "colorscale": [
             [
              0,
              "#0d0887"
             ],
             [
              0.1111111111111111,
              "#46039f"
             ],
             [
              0.2222222222222222,
              "#7201a8"
             ],
             [
              0.3333333333333333,
              "#9c179e"
             ],
             [
              0.4444444444444444,
              "#bd3786"
             ],
             [
              0.5555555555555556,
              "#d8576b"
             ],
             [
              0.6666666666666666,
              "#ed7953"
             ],
             [
              0.7777777777777778,
              "#fb9f3a"
             ],
             [
              0.8888888888888888,
              "#fdca26"
             ],
             [
              1,
              "#f0f921"
             ]
            ],
            "type": "contour"
           }
          ],
          "contourcarpet": [
           {
            "colorbar": {
             "outlinewidth": 0,
             "ticks": ""
            },
            "type": "contourcarpet"
           }
          ],
          "heatmap": [
           {
            "colorbar": {
             "outlinewidth": 0,
             "ticks": ""
            },
            "colorscale": [
             [
              0,
              "#0d0887"
             ],
             [
              0.1111111111111111,
              "#46039f"
             ],
             [
              0.2222222222222222,
              "#7201a8"
             ],
             [
              0.3333333333333333,
              "#9c179e"
             ],
             [
              0.4444444444444444,
              "#bd3786"
             ],
             [
              0.5555555555555556,
              "#d8576b"
             ],
             [
              0.6666666666666666,
              "#ed7953"
             ],
             [
              0.7777777777777778,
              "#fb9f3a"
             ],
             [
              0.8888888888888888,
              "#fdca26"
             ],
             [
              1,
              "#f0f921"
             ]
            ],
            "type": "heatmap"
           }
          ],
          "heatmapgl": [
           {
            "colorbar": {
             "outlinewidth": 0,
             "ticks": ""
            },
            "colorscale": [
             [
              0,
              "#0d0887"
             ],
             [
              0.1111111111111111,
              "#46039f"
             ],
             [
              0.2222222222222222,
              "#7201a8"
             ],
             [
              0.3333333333333333,
              "#9c179e"
             ],
             [
              0.4444444444444444,
              "#bd3786"
             ],
             [
              0.5555555555555556,
              "#d8576b"
             ],
             [
              0.6666666666666666,
              "#ed7953"
             ],
             [
              0.7777777777777778,
              "#fb9f3a"
             ],
             [
              0.8888888888888888,
              "#fdca26"
             ],
             [
              1,
              "#f0f921"
             ]
            ],
            "type": "heatmapgl"
           }
          ],
          "histogram": [
           {
            "marker": {
             "colorbar": {
              "outlinewidth": 0,
              "ticks": ""
             }
            },
            "type": "histogram"
           }
          ],
          "histogram2d": [
           {
            "colorbar": {
             "outlinewidth": 0,
             "ticks": ""
            },
            "colorscale": [
             [
              0,
              "#0d0887"
             ],
             [
              0.1111111111111111,
              "#46039f"
             ],
             [
              0.2222222222222222,
              "#7201a8"
             ],
             [
              0.3333333333333333,
              "#9c179e"
             ],
             [
              0.4444444444444444,
              "#bd3786"
             ],
             [
              0.5555555555555556,
              "#d8576b"
             ],
             [
              0.6666666666666666,
              "#ed7953"
             ],
             [
              0.7777777777777778,
              "#fb9f3a"
             ],
             [
              0.8888888888888888,
              "#fdca26"
             ],
             [
              1,
              "#f0f921"
             ]
            ],
            "type": "histogram2d"
           }
          ],
          "histogram2dcontour": [
           {
            "colorbar": {
             "outlinewidth": 0,
             "ticks": ""
            },
            "colorscale": [
             [
              0,
              "#0d0887"
             ],
             [
              0.1111111111111111,
              "#46039f"
             ],
             [
              0.2222222222222222,
              "#7201a8"
             ],
             [
              0.3333333333333333,
              "#9c179e"
             ],
             [
              0.4444444444444444,
              "#bd3786"
             ],
             [
              0.5555555555555556,
              "#d8576b"
             ],
             [
              0.6666666666666666,
              "#ed7953"
             ],
             [
              0.7777777777777778,
              "#fb9f3a"
             ],
             [
              0.8888888888888888,
              "#fdca26"
             ],
             [
              1,
              "#f0f921"
             ]
            ],
            "type": "histogram2dcontour"
           }
          ],
          "mesh3d": [
           {
            "colorbar": {
             "outlinewidth": 0,
             "ticks": ""
            },
            "type": "mesh3d"
           }
          ],
          "parcoords": [
           {
            "line": {
             "colorbar": {
              "outlinewidth": 0,
              "ticks": ""
             }
            },
            "type": "parcoords"
           }
          ],
          "pie": [
           {
            "automargin": true,
            "type": "pie"
           }
          ],
          "scatter": [
           {
            "marker": {
             "colorbar": {
              "outlinewidth": 0,
              "ticks": ""
             }
            },
            "type": "scatter"
           }
          ],
          "scatter3d": [
           {
            "line": {
             "colorbar": {
              "outlinewidth": 0,
              "ticks": ""
             }
            },
            "marker": {
             "colorbar": {
              "outlinewidth": 0,
              "ticks": ""
             }
            },
            "type": "scatter3d"
           }
          ],
          "scattercarpet": [
           {
            "marker": {
             "colorbar": {
              "outlinewidth": 0,
              "ticks": ""
             }
            },
            "type": "scattercarpet"
           }
          ],
          "scattergeo": [
           {
            "marker": {
             "colorbar": {
              "outlinewidth": 0,
              "ticks": ""
             }
            },
            "type": "scattergeo"
           }
          ],
          "scattergl": [
           {
            "marker": {
             "colorbar": {
              "outlinewidth": 0,
              "ticks": ""
             }
            },
            "type": "scattergl"
           }
          ],
          "scattermapbox": [
           {
            "marker": {
             "colorbar": {
              "outlinewidth": 0,
              "ticks": ""
             }
            },
            "type": "scattermapbox"
           }
          ],
          "scatterpolar": [
           {
            "marker": {
             "colorbar": {
              "outlinewidth": 0,
              "ticks": ""
             }
            },
            "type": "scatterpolar"
           }
          ],
          "scatterpolargl": [
           {
            "marker": {
             "colorbar": {
              "outlinewidth": 0,
              "ticks": ""
             }
            },
            "type": "scatterpolargl"
           }
          ],
          "scatterternary": [
           {
            "marker": {
             "colorbar": {
              "outlinewidth": 0,
              "ticks": ""
             }
            },
            "type": "scatterternary"
           }
          ],
          "surface": [
           {
            "colorbar": {
             "outlinewidth": 0,
             "ticks": ""
            },
            "colorscale": [
             [
              0,
              "#0d0887"
             ],
             [
              0.1111111111111111,
              "#46039f"
             ],
             [
              0.2222222222222222,
              "#7201a8"
             ],
             [
              0.3333333333333333,
              "#9c179e"
             ],
             [
              0.4444444444444444,
              "#bd3786"
             ],
             [
              0.5555555555555556,
              "#d8576b"
             ],
             [
              0.6666666666666666,
              "#ed7953"
             ],
             [
              0.7777777777777778,
              "#fb9f3a"
             ],
             [
              0.8888888888888888,
              "#fdca26"
             ],
             [
              1,
              "#f0f921"
             ]
            ],
            "type": "surface"
           }
          ],
          "table": [
           {
            "cells": {
             "fill": {
              "color": "#EBF0F8"
             },
             "line": {
              "color": "white"
             }
            },
            "header": {
             "fill": {
              "color": "#C8D4E3"
             },
             "line": {
              "color": "white"
             }
            },
            "type": "table"
           }
          ]
         },
         "layout": {
          "annotationdefaults": {
           "arrowcolor": "#2a3f5f",
           "arrowhead": 0,
           "arrowwidth": 1
          },
          "coloraxis": {
           "colorbar": {
            "outlinewidth": 0,
            "ticks": ""
           }
          },
          "colorscale": {
           "diverging": [
            [
             0,
             "#8e0152"
            ],
            [
             0.1,
             "#c51b7d"
            ],
            [
             0.2,
             "#de77ae"
            ],
            [
             0.3,
             "#f1b6da"
            ],
            [
             0.4,
             "#fde0ef"
            ],
            [
             0.5,
             "#f7f7f7"
            ],
            [
             0.6,
             "#e6f5d0"
            ],
            [
             0.7,
             "#b8e186"
            ],
            [
             0.8,
             "#7fbc41"
            ],
            [
             0.9,
             "#4d9221"
            ],
            [
             1,
             "#276419"
            ]
           ],
           "sequential": [
            [
             0,
             "#0d0887"
            ],
            [
             0.1111111111111111,
             "#46039f"
            ],
            [
             0.2222222222222222,
             "#7201a8"
            ],
            [
             0.3333333333333333,
             "#9c179e"
            ],
            [
             0.4444444444444444,
             "#bd3786"
            ],
            [
             0.5555555555555556,
             "#d8576b"
            ],
            [
             0.6666666666666666,
             "#ed7953"
            ],
            [
             0.7777777777777778,
             "#fb9f3a"
            ],
            [
             0.8888888888888888,
             "#fdca26"
            ],
            [
             1,
             "#f0f921"
            ]
           ],
           "sequentialminus": [
            [
             0,
             "#0d0887"
            ],
            [
             0.1111111111111111,
             "#46039f"
            ],
            [
             0.2222222222222222,
             "#7201a8"
            ],
            [
             0.3333333333333333,
             "#9c179e"
            ],
            [
             0.4444444444444444,
             "#bd3786"
            ],
            [
             0.5555555555555556,
             "#d8576b"
            ],
            [
             0.6666666666666666,
             "#ed7953"
            ],
            [
             0.7777777777777778,
             "#fb9f3a"
            ],
            [
             0.8888888888888888,
             "#fdca26"
            ],
            [
             1,
             "#f0f921"
            ]
           ]
          },
          "colorway": [
           "#636efa",
           "#EF553B",
           "#00cc96",
           "#ab63fa",
           "#FFA15A",
           "#19d3f3",
           "#FF6692",
           "#B6E880",
           "#FF97FF",
           "#FECB52"
          ],
          "font": {
           "color": "#2a3f5f"
          },
          "geo": {
           "bgcolor": "white",
           "lakecolor": "white",
           "landcolor": "#E5ECF6",
           "showlakes": true,
           "showland": true,
           "subunitcolor": "white"
          },
          "hoverlabel": {
           "align": "left"
          },
          "hovermode": "closest",
          "mapbox": {
           "style": "light"
          },
          "paper_bgcolor": "white",
          "plot_bgcolor": "#E5ECF6",
          "polar": {
           "angularaxis": {
            "gridcolor": "white",
            "linecolor": "white",
            "ticks": ""
           },
           "bgcolor": "#E5ECF6",
           "radialaxis": {
            "gridcolor": "white",
            "linecolor": "white",
            "ticks": ""
           }
          },
          "scene": {
           "xaxis": {
            "backgroundcolor": "#E5ECF6",
            "gridcolor": "white",
            "gridwidth": 2,
            "linecolor": "white",
            "showbackground": true,
            "ticks": "",
            "zerolinecolor": "white"
           },
           "yaxis": {
            "backgroundcolor": "#E5ECF6",
            "gridcolor": "white",
            "gridwidth": 2,
            "linecolor": "white",
            "showbackground": true,
            "ticks": "",
            "zerolinecolor": "white"
           },
           "zaxis": {
            "backgroundcolor": "#E5ECF6",
            "gridcolor": "white",
            "gridwidth": 2,
            "linecolor": "white",
            "showbackground": true,
            "ticks": "",
            "zerolinecolor": "white"
           }
          },
          "shapedefaults": {
           "line": {
            "color": "#2a3f5f"
           }
          },
          "ternary": {
           "aaxis": {
            "gridcolor": "white",
            "linecolor": "white",
            "ticks": ""
           },
           "baxis": {
            "gridcolor": "white",
            "linecolor": "white",
            "ticks": ""
           },
           "bgcolor": "#E5ECF6",
           "caxis": {
            "gridcolor": "white",
            "linecolor": "white",
            "ticks": ""
           }
          },
          "title": {
           "x": 0.05
          },
          "xaxis": {
           "automargin": true,
           "gridcolor": "white",
           "linecolor": "white",
           "ticks": "",
           "title": {
            "standoff": 15
           },
           "zerolinecolor": "white",
           "zerolinewidth": 2
          },
          "yaxis": {
           "automargin": true,
           "gridcolor": "white",
           "linecolor": "white",
           "ticks": "",
           "title": {
            "standoff": 15
           },
           "zerolinecolor": "white",
           "zerolinewidth": 2
          }
         }
        },
        "xaxis": {
         "anchor": "y",
         "autorange": true,
         "domain": [
          0,
          0.45
         ],
         "range": [
          -1.2515648400599053,
          37.251564840059906
         ],
         "title": {
          "text": "Epoch"
         },
         "type": "linear"
        },
        "xaxis2": {
         "anchor": "y2",
         "autorange": true,
         "domain": [
          0.55,
          1
         ],
         "range": [
          -1.2515648400599058,
          37.251564840059906
         ],
         "title": {
          "text": "Epoch"
         },
         "type": "linear"
        },
        "yaxis": {
         "anchor": "x",
         "domain": [
          0,
          1
         ],
         "range": [
          0,
          1
         ],
         "title": {
          "text": "Accuracy"
         },
         "type": "linear"
        },
        "yaxis2": {
         "anchor": "x2",
         "autorange": true,
         "domain": [
          0,
          1
         ],
         "range": [
          2.0621399775906735,
          2.2878296866253685
         ],
         "title": {
          "text": "Loss"
         },
         "type": "linear"
        }
       }
      },
      "text/html": [
       "<div>\n",
       "        \n",
       "        \n",
       "            <div id=\"aec73f04-ce02-4c4f-936e-e0f73488e66a\" class=\"plotly-graph-div\" style=\"height:525px; width:100%;\"></div>\n",
       "            <script type=\"text/javascript\">\n",
       "                require([\"plotly\"], function(Plotly) {\n",
       "                    window.PLOTLYENV=window.PLOTLYENV || {};\n",
       "                    \n",
       "                if (document.getElementById(\"aec73f04-ce02-4c4f-936e-e0f73488e66a\")) {\n",
       "                    Plotly.newPlot(\n",
       "                        'aec73f04-ce02-4c4f-936e-e0f73488e66a',\n",
       "                        [{\"marker\": {\"color\": \"Green\"}, \"mode\": \"markers+lines\", \"name\": \"Training accuracy\", \"text\": [\"1\", \"2\", \"3\", \"4\", \"5\", \"6\", \"7\", \"8\", \"9\", \"10\", \"11\", \"12\", \"13\", \"14\", \"15\", \"16\", \"17\", \"18\", \"19\", \"20\", \"21\", \"22\", \"23\", \"24\", \"25\", \"26\", \"27\", \"28\", \"29\", \"30\", \"31\", \"32\", \"33\", \"34\", \"35\"], \"type\": \"scatter\", \"x\": [1, 2, 3, 4, 5, 6, 7, 8, 9, 10, 11, 12, 13, 14, 15, 16, 17, 18, 19, 20, 21, 22, 23, 24, 25, 26, 27, 28, 29, 30, 31, 32, 33, 34, 35], \"xaxis\": \"x\", \"y\": [0.13446000218391418, 0.15413999557495117, 0.15731999278068542, 0.15466000139713287, 0.15676000714302063, 0.15386000275611877, 0.15846000611782074, 0.15765999257564545, 0.15636000037193298, 0.15770000219345093, 0.15573999285697937, 0.15746000409126282, 0.15591999888420105, 0.15785999596118927, 0.15530000627040863, 0.1569799929857254, 0.15765999257564545, 0.15688000619411469, 0.15639999508857727, 0.15668000280857086, 0.15741999447345734, 0.15839999914169312, 0.15884000062942505, 0.15595999360084534, 0.15559999644756317, 0.15613999962806702, 0.15839999914169312, 0.15785999596118927, 0.15717999637126923, 0.15919999778270721, 0.15649999678134918, 0.15773999691009521, 0.15794000029563904, 0.15546000003814697, 0.15598000586032867], \"yaxis\": \"y\"}, {\"marker\": {\"color\": \"Red\"}, \"mode\": \"markers+lines\", \"name\": \"Validation accuracy\", \"text\": [\"1\", \"2\", \"3\", \"4\", \"5\", \"6\", \"7\", \"8\", \"9\", \"10\", \"11\", \"12\", \"13\", \"14\", \"15\", \"16\", \"17\", \"18\", \"19\", \"20\", \"21\", \"22\", \"23\", \"24\", \"25\", \"26\", \"27\", \"28\", \"29\", \"30\", \"31\", \"32\", \"33\", \"34\", \"35\"], \"type\": \"scatter\", \"x\": [1, 2, 3, 4, 5, 6, 7, 8, 9, 10, 11, 12, 13, 14, 15, 16, 17, 18, 19, 20, 21, 22, 23, 24, 25, 26, 27, 28, 29, 30, 31, 32, 33, 34, 35], \"xaxis\": \"x\", \"y\": [0.18410000205039978, 0.18240000307559967, 0.1851000040769577, 0.17980000376701355, 0.1808999925851822, 0.1859000027179718, 0.18649999797344208, 0.18330000340938568, 0.16990000009536743, 0.1736000031232834, 0.18539999425411224, 0.17399999499320984, 0.18569999933242798, 0.17550000548362732, 0.1867000013589859, 0.18060000240802765, 0.18469999730587006, 0.18569999933242798, 0.18140000104904175, 0.1834000051021576, 0.18209999799728394, 0.17309999465942383, 0.1843000054359436, 0.1728000044822693, 0.18250000476837158, 0.17649999260902405, 0.18219999969005585, 0.18369999527931213, 0.1695999950170517, 0.18240000307559967, 0.17990000545978546, 0.1809999942779541, 0.1817999929189682, 0.18080000579357147, 0.18299999833106995], \"yaxis\": \"y\"}, {\"marker\": {\"color\": \"Blue\"}, \"mode\": \"markers+lines\", \"name\": \"Training loss\", \"text\": [\"1\", \"2\", \"3\", \"4\", \"5\", \"6\", \"7\", \"8\", \"9\", \"10\", \"11\", \"12\", \"13\", \"14\", \"15\", \"16\", \"17\", \"18\", \"19\", \"20\", \"21\", \"22\", \"23\", \"24\", \"25\", \"26\", \"27\", \"28\", \"29\", \"30\", \"31\", \"32\", \"33\", \"34\", \"35\"], \"type\": \"scatter\", \"x\": [1, 2, 3, 4, 5, 6, 7, 8, 9, 10, 11, 12, 13, 14, 15, 16, 17, 18, 19, 20, 21, 22, 23, 24, 25, 26, 27, 28, 29, 30, 31, 32, 33, 34, 35], \"xaxis\": \"x2\", \"y\": [2.273410621881485, 2.165957027077675, 2.1461651982069014, 2.149644996643066, 2.1463432108163834, 2.1431661641597746, 2.140278252243996, 2.137278219938278, 2.1373645545244218, 2.1404392145872118, 2.139833832859993, 2.1387044533491135, 2.139224757194519, 2.139268264889717, 2.1397195345163347, 2.1404427629709244, 2.1364715875387192, 2.134288984656334, 2.136322830796242, 2.1348531838655473, 2.1354029058218003, 2.133914150595665, 2.132514070749283, 2.1369080951213837, 2.1348003618717195, 2.1367568920850752, 2.1359763449430464, 2.133048077940941, 2.1390420345067978, 2.1322439826726916, 2.133362174987793, 2.135114056587219, 2.13390711581707, 2.1384772543907165, 2.1335793837308885], \"yaxis\": \"y2\"}, {\"marker\": {\"color\": \"Magenta\"}, \"mode\": \"markers+lines\", \"name\": \"Validation loss\", \"text\": [\"1\", \"2\", \"3\", \"4\", \"5\", \"6\", \"7\", \"8\", \"9\", \"10\", \"11\", \"12\", \"13\", \"14\", \"15\", \"16\", \"17\", \"18\", \"19\", \"20\", \"21\", \"22\", \"23\", \"24\", \"25\", \"26\", \"27\", \"28\", \"29\", \"30\", \"31\", \"32\", \"33\", \"34\", \"35\"], \"type\": \"scatter\", \"x\": [1, 2, 3, 4, 5, 6, 7, 8, 9, 10, 11, 12, 13, 14, 15, 16, 17, 18, 19, 20, 21, 22, 23, 24, 25, 26, 27, 28, 29, 30, 31, 32, 33, 34, 35], \"xaxis\": \"x2\", \"y\": [2.1667550349235536, 2.1245231330394745, 2.0878348767757418, 2.1040978276729585, 2.086425015926361, 2.0829282754659655, 2.0869318610429763, 2.079428335428238, 2.077233960032463, 2.1031792068481447, 2.0850047737360002, 2.103203114271164, 2.083054113984108, 2.0954047805070877, 2.080210584402084, 2.096146835684776, 2.078287192583084, 2.078173614144325, 2.084696128964424, 2.0810814368724824, 2.078815630078316, 2.111850334405899, 2.079226158261299, 2.0991361218690874, 2.0829871249198915, 2.0890210646390917, 2.078529346585274, 2.087346283197403, 2.1187789988517762, 2.076559042334557, 2.1120819061994554, 2.0912566620111464, 2.0766072195768355, 2.0949185729026794, 2.0810146498680115], \"yaxis\": \"y2\"}],\n",
       "                        {\"annotations\": [{\"font\": {\"size\": 16}, \"showarrow\": false, \"text\": \"Training and validation accuracy\", \"x\": 0.225, \"xanchor\": \"center\", \"xref\": \"paper\", \"y\": 1.0, \"yanchor\": \"bottom\", \"yref\": \"paper\"}, {\"font\": {\"size\": 16}, \"showarrow\": false, \"text\": \"Training and validation loss\", \"x\": 0.775, \"xanchor\": \"center\", \"xref\": \"paper\", \"y\": 1.0, \"yanchor\": \"bottom\", \"yref\": \"paper\"}], \"template\": {\"data\": {\"bar\": [{\"error_x\": {\"color\": \"#2a3f5f\"}, \"error_y\": {\"color\": \"#2a3f5f\"}, \"marker\": {\"line\": {\"color\": \"#E5ECF6\", \"width\": 0.5}}, \"type\": \"bar\"}], \"barpolar\": [{\"marker\": {\"line\": {\"color\": \"#E5ECF6\", \"width\": 0.5}}, \"type\": \"barpolar\"}], \"carpet\": [{\"aaxis\": {\"endlinecolor\": \"#2a3f5f\", \"gridcolor\": \"white\", \"linecolor\": \"white\", \"minorgridcolor\": \"white\", \"startlinecolor\": \"#2a3f5f\"}, \"baxis\": {\"endlinecolor\": \"#2a3f5f\", \"gridcolor\": \"white\", \"linecolor\": \"white\", \"minorgridcolor\": \"white\", \"startlinecolor\": \"#2a3f5f\"}, \"type\": \"carpet\"}], \"choropleth\": [{\"colorbar\": {\"outlinewidth\": 0, \"ticks\": \"\"}, \"type\": \"choropleth\"}], \"contour\": [{\"colorbar\": {\"outlinewidth\": 0, \"ticks\": \"\"}, \"colorscale\": [[0.0, \"#0d0887\"], [0.1111111111111111, \"#46039f\"], [0.2222222222222222, \"#7201a8\"], [0.3333333333333333, \"#9c179e\"], [0.4444444444444444, \"#bd3786\"], [0.5555555555555556, \"#d8576b\"], [0.6666666666666666, \"#ed7953\"], [0.7777777777777778, \"#fb9f3a\"], [0.8888888888888888, \"#fdca26\"], [1.0, \"#f0f921\"]], \"type\": \"contour\"}], \"contourcarpet\": [{\"colorbar\": {\"outlinewidth\": 0, \"ticks\": \"\"}, \"type\": \"contourcarpet\"}], \"heatmap\": [{\"colorbar\": {\"outlinewidth\": 0, \"ticks\": \"\"}, \"colorscale\": [[0.0, \"#0d0887\"], [0.1111111111111111, \"#46039f\"], [0.2222222222222222, \"#7201a8\"], [0.3333333333333333, \"#9c179e\"], [0.4444444444444444, \"#bd3786\"], [0.5555555555555556, \"#d8576b\"], [0.6666666666666666, \"#ed7953\"], [0.7777777777777778, \"#fb9f3a\"], [0.8888888888888888, \"#fdca26\"], [1.0, \"#f0f921\"]], \"type\": \"heatmap\"}], \"heatmapgl\": [{\"colorbar\": {\"outlinewidth\": 0, \"ticks\": \"\"}, \"colorscale\": [[0.0, \"#0d0887\"], [0.1111111111111111, \"#46039f\"], [0.2222222222222222, \"#7201a8\"], [0.3333333333333333, \"#9c179e\"], [0.4444444444444444, \"#bd3786\"], [0.5555555555555556, \"#d8576b\"], [0.6666666666666666, \"#ed7953\"], [0.7777777777777778, \"#fb9f3a\"], [0.8888888888888888, \"#fdca26\"], [1.0, \"#f0f921\"]], \"type\": \"heatmapgl\"}], \"histogram\": [{\"marker\": {\"colorbar\": {\"outlinewidth\": 0, \"ticks\": \"\"}}, \"type\": \"histogram\"}], \"histogram2d\": [{\"colorbar\": {\"outlinewidth\": 0, \"ticks\": \"\"}, \"colorscale\": [[0.0, \"#0d0887\"], [0.1111111111111111, \"#46039f\"], [0.2222222222222222, \"#7201a8\"], [0.3333333333333333, \"#9c179e\"], [0.4444444444444444, \"#bd3786\"], [0.5555555555555556, \"#d8576b\"], [0.6666666666666666, \"#ed7953\"], [0.7777777777777778, \"#fb9f3a\"], [0.8888888888888888, \"#fdca26\"], [1.0, \"#f0f921\"]], \"type\": \"histogram2d\"}], \"histogram2dcontour\": [{\"colorbar\": {\"outlinewidth\": 0, \"ticks\": \"\"}, \"colorscale\": [[0.0, \"#0d0887\"], [0.1111111111111111, \"#46039f\"], [0.2222222222222222, \"#7201a8\"], [0.3333333333333333, \"#9c179e\"], [0.4444444444444444, \"#bd3786\"], [0.5555555555555556, \"#d8576b\"], [0.6666666666666666, \"#ed7953\"], [0.7777777777777778, \"#fb9f3a\"], [0.8888888888888888, \"#fdca26\"], [1.0, \"#f0f921\"]], \"type\": \"histogram2dcontour\"}], \"mesh3d\": [{\"colorbar\": {\"outlinewidth\": 0, \"ticks\": \"\"}, \"type\": \"mesh3d\"}], \"parcoords\": [{\"line\": {\"colorbar\": {\"outlinewidth\": 0, \"ticks\": \"\"}}, \"type\": \"parcoords\"}], \"pie\": [{\"automargin\": true, \"type\": \"pie\"}], \"scatter\": [{\"marker\": {\"colorbar\": {\"outlinewidth\": 0, \"ticks\": \"\"}}, \"type\": \"scatter\"}], \"scatter3d\": [{\"line\": {\"colorbar\": {\"outlinewidth\": 0, \"ticks\": \"\"}}, \"marker\": {\"colorbar\": {\"outlinewidth\": 0, \"ticks\": \"\"}}, \"type\": \"scatter3d\"}], \"scattercarpet\": [{\"marker\": {\"colorbar\": {\"outlinewidth\": 0, \"ticks\": \"\"}}, \"type\": \"scattercarpet\"}], \"scattergeo\": [{\"marker\": {\"colorbar\": {\"outlinewidth\": 0, \"ticks\": \"\"}}, \"type\": \"scattergeo\"}], \"scattergl\": [{\"marker\": {\"colorbar\": {\"outlinewidth\": 0, \"ticks\": \"\"}}, \"type\": \"scattergl\"}], \"scattermapbox\": [{\"marker\": {\"colorbar\": {\"outlinewidth\": 0, \"ticks\": \"\"}}, \"type\": \"scattermapbox\"}], \"scatterpolar\": [{\"marker\": {\"colorbar\": {\"outlinewidth\": 0, \"ticks\": \"\"}}, \"type\": \"scatterpolar\"}], \"scatterpolargl\": [{\"marker\": {\"colorbar\": {\"outlinewidth\": 0, \"ticks\": \"\"}}, \"type\": \"scatterpolargl\"}], \"scatterternary\": [{\"marker\": {\"colorbar\": {\"outlinewidth\": 0, \"ticks\": \"\"}}, \"type\": \"scatterternary\"}], \"surface\": [{\"colorbar\": {\"outlinewidth\": 0, \"ticks\": \"\"}, \"colorscale\": [[0.0, \"#0d0887\"], [0.1111111111111111, \"#46039f\"], [0.2222222222222222, \"#7201a8\"], [0.3333333333333333, \"#9c179e\"], [0.4444444444444444, \"#bd3786\"], [0.5555555555555556, \"#d8576b\"], [0.6666666666666666, \"#ed7953\"], [0.7777777777777778, \"#fb9f3a\"], [0.8888888888888888, \"#fdca26\"], [1.0, \"#f0f921\"]], \"type\": \"surface\"}], \"table\": [{\"cells\": {\"fill\": {\"color\": \"#EBF0F8\"}, \"line\": {\"color\": \"white\"}}, \"header\": {\"fill\": {\"color\": \"#C8D4E3\"}, \"line\": {\"color\": \"white\"}}, \"type\": \"table\"}]}, \"layout\": {\"annotationdefaults\": {\"arrowcolor\": \"#2a3f5f\", \"arrowhead\": 0, \"arrowwidth\": 1}, \"coloraxis\": {\"colorbar\": {\"outlinewidth\": 0, \"ticks\": \"\"}}, \"colorscale\": {\"diverging\": [[0, \"#8e0152\"], [0.1, \"#c51b7d\"], [0.2, \"#de77ae\"], [0.3, \"#f1b6da\"], [0.4, \"#fde0ef\"], [0.5, \"#f7f7f7\"], [0.6, \"#e6f5d0\"], [0.7, \"#b8e186\"], [0.8, \"#7fbc41\"], [0.9, \"#4d9221\"], [1, \"#276419\"]], \"sequential\": [[0.0, \"#0d0887\"], [0.1111111111111111, \"#46039f\"], [0.2222222222222222, \"#7201a8\"], [0.3333333333333333, \"#9c179e\"], [0.4444444444444444, \"#bd3786\"], [0.5555555555555556, \"#d8576b\"], [0.6666666666666666, \"#ed7953\"], [0.7777777777777778, \"#fb9f3a\"], [0.8888888888888888, \"#fdca26\"], [1.0, \"#f0f921\"]], \"sequentialminus\": [[0.0, \"#0d0887\"], [0.1111111111111111, \"#46039f\"], [0.2222222222222222, \"#7201a8\"], [0.3333333333333333, \"#9c179e\"], [0.4444444444444444, \"#bd3786\"], [0.5555555555555556, \"#d8576b\"], [0.6666666666666666, \"#ed7953\"], [0.7777777777777778, \"#fb9f3a\"], [0.8888888888888888, \"#fdca26\"], [1.0, \"#f0f921\"]]}, \"colorway\": [\"#636efa\", \"#EF553B\", \"#00cc96\", \"#ab63fa\", \"#FFA15A\", \"#19d3f3\", \"#FF6692\", \"#B6E880\", \"#FF97FF\", \"#FECB52\"], \"font\": {\"color\": \"#2a3f5f\"}, \"geo\": {\"bgcolor\": \"white\", \"lakecolor\": \"white\", \"landcolor\": \"#E5ECF6\", \"showlakes\": true, \"showland\": true, \"subunitcolor\": \"white\"}, \"hoverlabel\": {\"align\": \"left\"}, \"hovermode\": \"closest\", \"mapbox\": {\"style\": \"light\"}, \"paper_bgcolor\": \"white\", \"plot_bgcolor\": \"#E5ECF6\", \"polar\": {\"angularaxis\": {\"gridcolor\": \"white\", \"linecolor\": \"white\", \"ticks\": \"\"}, \"bgcolor\": \"#E5ECF6\", \"radialaxis\": {\"gridcolor\": \"white\", \"linecolor\": \"white\", \"ticks\": \"\"}}, \"scene\": {\"xaxis\": {\"backgroundcolor\": \"#E5ECF6\", \"gridcolor\": \"white\", \"gridwidth\": 2, \"linecolor\": \"white\", \"showbackground\": true, \"ticks\": \"\", \"zerolinecolor\": \"white\"}, \"yaxis\": {\"backgroundcolor\": \"#E5ECF6\", \"gridcolor\": \"white\", \"gridwidth\": 2, \"linecolor\": \"white\", \"showbackground\": true, \"ticks\": \"\", \"zerolinecolor\": \"white\"}, \"zaxis\": {\"backgroundcolor\": \"#E5ECF6\", \"gridcolor\": \"white\", \"gridwidth\": 2, \"linecolor\": \"white\", \"showbackground\": true, \"ticks\": \"\", \"zerolinecolor\": \"white\"}}, \"shapedefaults\": {\"line\": {\"color\": \"#2a3f5f\"}}, \"ternary\": {\"aaxis\": {\"gridcolor\": \"white\", \"linecolor\": \"white\", \"ticks\": \"\"}, \"baxis\": {\"gridcolor\": \"white\", \"linecolor\": \"white\", \"ticks\": \"\"}, \"bgcolor\": \"#E5ECF6\", \"caxis\": {\"gridcolor\": \"white\", \"linecolor\": \"white\", \"ticks\": \"\"}}, \"title\": {\"x\": 0.05}, \"xaxis\": {\"automargin\": true, \"gridcolor\": \"white\", \"linecolor\": \"white\", \"ticks\": \"\", \"title\": {\"standoff\": 15}, \"zerolinecolor\": \"white\", \"zerolinewidth\": 2}, \"yaxis\": {\"automargin\": true, \"gridcolor\": \"white\", \"linecolor\": \"white\", \"ticks\": \"\", \"title\": {\"standoff\": 15}, \"zerolinecolor\": \"white\", \"zerolinewidth\": 2}}}, \"xaxis\": {\"anchor\": \"y\", \"domain\": [0.0, 0.45], \"title\": {\"text\": \"Epoch\"}}, \"xaxis2\": {\"anchor\": \"y2\", \"domain\": [0.55, 1.0], \"title\": {\"text\": \"Epoch\"}}, \"yaxis\": {\"anchor\": \"x\", \"domain\": [0.0, 1.0], \"range\": [0, 1], \"title\": {\"text\": \"Accuracy\"}}, \"yaxis2\": {\"anchor\": \"x2\", \"domain\": [0.0, 1.0], \"range\": [0, 1], \"title\": {\"text\": \"Loss\"}}},\n",
       "                        {\"responsive\": true}\n",
       "                    ).then(function(){\n",
       "                            \n",
       "var gd = document.getElementById('aec73f04-ce02-4c4f-936e-e0f73488e66a');\n",
       "var x = new MutationObserver(function (mutations, observer) {{\n",
       "        var display = window.getComputedStyle(gd).display;\n",
       "        if (!display || display === 'none') {{\n",
       "            console.log([gd, 'removed!']);\n",
       "            Plotly.purge(gd);\n",
       "            observer.disconnect();\n",
       "        }}\n",
       "}});\n",
       "\n",
       "// Listen for the removal of the full notebook cells\n",
       "var notebookContainer = gd.closest('#notebook-container');\n",
       "if (notebookContainer) {{\n",
       "    x.observe(notebookContainer, {childList: true});\n",
       "}}\n",
       "\n",
       "// Listen for the clearing of the current output cell\n",
       "var outputEl = gd.closest('.output');\n",
       "if (outputEl) {{\n",
       "    x.observe(outputEl, {childList: true});\n",
       "}}\n",
       "\n",
       "                        })\n",
       "                };\n",
       "                });\n",
       "            </script>\n",
       "        </div>"
      ]
     },
     "metadata": {},
     "output_type": "display_data"
    },
    {
     "name": "stdout",
     "output_type": "stream",
     "text": [
      "================================ EVALUATE MODEL ================================\n",
      "10000/10000 [==============================] - 0s 49us/sample - loss: 2.0810 - accuracy: 0.1830\n",
      "================================ PREDICITION ================================\n",
      "Predicted percent 18.3 %\n",
      "================================ PLOT PREDICITION ================================\n"
     ]
    },
    {
     "data": {
      "image/png": "[encoded data removed]",
      "text/plain": [
       "<Figure size 1080x1080 with 20 Axes>"
      ]
     },
     "metadata": {},
     "output_type": "display_data"
    },
    {
     "name": "stdout",
     "output_type": "stream",
     "text": [
      "================================ SAVE MODEL ================================\n",
      "INFO:tensorflow:Assets written to: D:\\Models\\model_run_10_02_2020_12-46-23_546304\\assets\n",
      "================================ GENERATE CSV HYPERPARAMS ================================\n"
     ]
    }
   ],
   "source": [
    "main()"
   ]
  },
  {
   "cell_type": "code",
   "execution_count": null,
   "metadata": {},
   "outputs": [],
   "source": []
  },
  {
   "cell_type": "code",
   "execution_count": null,
   "metadata": {},
   "outputs": [],
   "source": []
  }
 ],
 "metadata": {
  "kernelspec": {
   "display_name": "Python 3",
   "language": "python",
   "name": "python3"
  },
  "language_info": {
   "codemirror_mode": {
    "name": "ipython",
    "version": 3
   },
   "file_extension": ".py",
   "mimetype": "text/x-python",
   "name": "python",
   "nbconvert_exporter": "python",
   "pygments_lexer": "ipython3",
   "version": "3.6.9"
  }
 },
 "nbformat": 4,
 "nbformat_minor": 4
}
