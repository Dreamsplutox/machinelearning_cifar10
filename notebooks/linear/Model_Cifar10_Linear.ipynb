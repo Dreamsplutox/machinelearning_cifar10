{
 "cells": [
  {
   "cell_type": "markdown",
   "metadata": {},
   "source": [
    "<h1 style=\"color:#987753\"><center>============= IMPORT DEPANDENCIES =============</center></h1>"
   ]
  },
  {
   "cell_type": "code",
   "execution_count": 17,
   "metadata": {},
   "outputs": [],
   "source": [
    "import tensorflow as tf\n",
    "import numpy as np\n",
    "from random import shuffle\n",
    "from tensorflow.keras.datasets import cifar10\n",
    "from tensorflow.keras.preprocessing.image import ImageDataGenerator\n",
    "from tensorflow.keras.models import Sequential\n",
    "from tensorflow.keras.layers import Dense, Dropout, Activation, Flatten\n",
    "from tensorflow.keras.optimizers import Adam\n",
    "from tensorflow.keras import regularizers\n",
    "from matplotlib import pyplot as plt\n",
    "import time\n",
    "from tensorflow.keras.utils import plot_model\n",
    "import random\n",
    "from datetime import datetime\n",
    "from datetime import date\n",
    "from random import randint\n",
    "from tensorflow.keras.callbacks import TensorBoard\n",
    "import pandas as pd\n",
    "import csv\n",
    "import os\n",
    "from plotly import tools\n",
    "%matplotlib inline \n",
    "import plotly.graph_objs as go\n",
    "import plotly.figure_factory as ff\n",
    "import plotly\n",
    "from plotly import tools\n",
    "from plotly.offline import download_plotlyjs, init_notebook_mode, plot, iplot\n",
    "from tensorflow.keras.preprocessing.image import ImageDataGenerator"
   ]
  },
  {
   "cell_type": "markdown",
   "metadata": {},
   "source": [
    "<h1 style=\"color:#987753\"><center>============= UTILS FUNCTION =============</center></h1>"
   ]
  },
  {
   "cell_type": "code",
   "execution_count": 18,
   "metadata": {},
   "outputs": [],
   "source": [
    "def getTime():\n",
    "    \n",
    "    now = datetime.now()\n",
    "    current_time = now.strftime(\"%H-%M-%S\")\n",
    "    today = str(date.today()).split('-')\n",
    "    today = today[2]+\"_\"+today[1]+\"_\"+today[0]\n",
    "    runTime = (\"%s_%s\" %(today,current_time))\n",
    "    return runTime"
   ]
  },
  {
   "cell_type": "code",
   "execution_count": 19,
   "metadata": {},
   "outputs": [],
   "source": [
    "def logName():\n",
    "    \n",
    "    NAME = \"ModelCifar10_Linear_\"+str(ID)+\"_\"+getTime()\n",
    "    return NAME"
   ]
  },
  {
   "cell_type": "code",
   "execution_count": 74,
   "metadata": {},
   "outputs": [],
   "source": [
    "def hyperParams():\n",
    "        \n",
    "    modelParams = {\"Layers\":[\n",
    "                    {\"neurons\":1 , \"activation\":\"tanh\", \"dropOut\":False},\n",
    "                    {\"neurons\":10, \"activation\":\"softmax\", \"dropOut\":False}\n",
    "                    ],\n",
    "                   \"loss\":\"categorical_crossentropy\",\n",
    "                   \"optimizer\":\"SGD(lr=0.0001)\",\n",
    "                   \"metrics\":\"accuracy\",\n",
    "                   \"learningRate\":.0001,\n",
    "                   \"epochs\":35,\n",
    "                   \"batchSize\":500,\n",
    "                   \"testName\":\"Simple Linear Model\"\n",
    "                 }\n",
    "    return modelParams"
   ]
  },
  {
   "cell_type": "code",
   "execution_count": 75,
   "metadata": {},
   "outputs": [],
   "source": [
    "def humainesLabels(position):\n",
    "    labels = ['airplane', 'automobile', 'bird', 'cat', 'deer',\n",
    "               'dog', 'frog', 'horse', 'ship', 'truck']\n",
    "    return labels[position]"
   ]
  },
  {
   "cell_type": "code",
   "execution_count": 76,
   "metadata": {},
   "outputs": [],
   "source": [
    "def humanizeTime(secs):\n",
    "    mins, secs = divmod(secs, 60)\n",
    "    hours, mins = divmod(mins, 60)\n",
    "    return ('RUN TIME : %02d:%02d:%02d' % (hours, mins, secs))"
   ]
  },
  {
   "cell_type": "code",
   "execution_count": 77,
   "metadata": {},
   "outputs": [],
   "source": [
    "def loadData():\n",
    "    \n",
    "    (trainImages, trainLabels), (testImages, testLabels) = cifar10.load_data()\n",
    "    trainImages, testImages = trainImages / 255.0, testImages / 255.0\n",
    "    yTrain = testLabels\n",
    "    return trainImages, testImages, trainLabels, testLabels\n"
   ]
  },
  {
   "cell_type": "code",
   "execution_count": 78,
   "metadata": {},
   "outputs": [],
   "source": [
    "def plotFigure(images=False, labels=False, nbSamples=0, size=10):\n",
    "    \n",
    "    plt.figure(figsize=(size, size))\n",
    "    for i in range(nbSamples):\n",
    "        plt.subplot(5,5,i+1)\n",
    "        plt.xticks([])\n",
    "        plt.yticks([])\n",
    "        plt.grid(False)\n",
    "        plt.imshow(images[i], cmap=plt.cm.binary)\n",
    "       \n",
    "        plt.xlabel(humainesLabels(labels[i][0]))\n",
    "    plt.show()\n",
    "    "
   ]
  },
  {
   "cell_type": "markdown",
   "metadata": {},
   "source": [
    "<h1 style=\"color:#987753\"><center>============= INIT MODEL =============</center></h1>"
   ]
  },
  {
   "cell_type": "code",
   "execution_count": 79,
   "metadata": {},
   "outputs": [],
   "source": [
    "def oneHoteEncoding(trainLabels, testLabels):\n",
    "    \n",
    "    trainLabels = tf.keras.utils.to_categorical(trainLabels)\n",
    "    testLabels = tf.keras.utils.to_categorical(testLabels)\n",
    "    \n",
    "    return trainLabels, testLabels\n"
   ]
  },
  {
   "cell_type": "code",
   "execution_count": 80,
   "metadata": {},
   "outputs": [],
   "source": [
    "def createModel(params):\n",
    "    \n",
    "    model = Sequential()\n",
    "    model.add(Flatten(input_shape=(32, 32, 3)))\n",
    "    for layers in params['Layers']:\n",
    "        if layers['dropOut'] == False:\n",
    "            model.add(Dense(layers['neurons'], activation=layers['activation']))\n",
    "        else:\n",
    "            model.add(Dense(layers['neurons'], activation=layers['activation']))\n",
    "            model.add(Dropout(layers['dropOut']))\n",
    "    \n",
    "    opt = tf.keras.optimizers.SGD(learning_rate=0.1)\n",
    "    model.compile(loss=params['loss'],\n",
    "                   optimizer=opt,\n",
    "                   metrics=['accuracy'])\n",
    "    \n",
    "    model.summary()\n",
    "    return model\n"
   ]
  },
  {
   "cell_type": "markdown",
   "metadata": {},
   "source": [
    "<h1 style=\"color:#987753\"><center>============= TRAIN MODEL =============</center></h1>"
   ]
  },
  {
   "cell_type": "code",
   "execution_count": 81,
   "metadata": {},
   "outputs": [],
   "source": [
    "def reshapeInput(trainImages, testImages):\n",
    "    \n",
    "    trainImages.reshape(trainImages.shape[0], trainImages.shape[1] * trainImages.shape[2] * trainImages.shape[3]) #\n",
    "    testImages.reshape(testImages.shape[0], testImages.shape[1] * testImages.shape[2] * testImages.shape[3]) #\n",
    "    \n",
    "    return trainImages, testImages\n"
   ]
  },
  {
   "cell_type": "code",
   "execution_count": 82,
   "metadata": {},
   "outputs": [],
   "source": [
    "def fitModel(model, params, trainImages, trainLabels, testImges, testLabels):\n",
    "    \n",
    "    start_time = time.time()\n",
    "    tensorboard = TensorBoard(log_dir='D:\\logsProject\\{}'.format(logName()))\n",
    "    ################################ CALCULATE RUNTIME - START ###############################\n",
    "    history = model.fit(trainImages, trainLabels,\n",
    "                       epochs=params['epochs'],\n",
    "                       batch_size=params['batchSize'], verbose=1, callbacks=[tensorboard], validation_data=(testImges, testLabels))\n",
    "    ################################ CALCULATE RUNTIME - END ###############################\n",
    "    print(humanizeTime(time.time() - start_time))\n",
    "    return model, humanizeTime(time.time() - start_time), history"
   ]
  },
  {
   "cell_type": "markdown",
   "metadata": {},
   "source": [
    "<h1 style=\"color:#987753\"><center>============= EVALUATE MODEL =============</center></h1>"
   ]
  },
  {
   "cell_type": "code",
   "execution_count": 83,
   "metadata": {},
   "outputs": [],
   "source": [
    "def evaluateModel(model, testImages, testLabels):\n",
    "    \n",
    "    return model.evaluate(testImages, testLabels, batch_size=50)\n"
   ]
  },
  {
   "cell_type": "markdown",
   "metadata": {},
   "source": [
    "<h1 style=\"color:#987753\"><center>============= PREDICT =============</center></h1>"
   ]
  },
  {
   "cell_type": "code",
   "execution_count": 84,
   "metadata": {},
   "outputs": [],
   "source": [
    "def predictionPercent(model, testImages, testLabels):\n",
    "    \n",
    "    prediction = model.predict(testImages)\n",
    "    predicted = []\n",
    "    for i in range(len(prediction)):\n",
    "        if np.argmax(testLabels[i]) == np.argmax(prediction[i]):\n",
    "            predicted.append(1)\n",
    "        else:\n",
    "            predicted.append(0)\n",
    "    print(\"Predicted percent {} %\".format((sum(predicted)/(len(predicted)) * 100)))\n",
    "    result = (sum(predicted)/len(predicted)) * 100\n",
    "    \n",
    "    return prediction, result"
   ]
  },
  {
   "cell_type": "code",
   "execution_count": 85,
   "metadata": {},
   "outputs": [],
   "source": [
    "def plotPredictedResult(prediction, testImages, testLabels):\n",
    "    \n",
    "    plt.figure(figsize=(15, 15))\n",
    "    for i in range(20):\n",
    "        plt.subplot(5,7,i+1)\n",
    "        plt.xticks([])\n",
    "        plt.yticks([])\n",
    "        plt.grid(False)\n",
    "        plt.imshow(testImages[i])\n",
    "        plt.xlabel(\"True: \"+humainesLabels(np.argmax(testLabels[i]))+\"\\n\\n\\n\")\n",
    "        plt.title(\"\\nPredicted: \"+humainesLabels(np.argmax(prediction[i])))\n",
    "        \n",
    "    plt.show()"
   ]
  },
  {
   "cell_type": "markdown",
   "metadata": {},
   "source": [
    "<h1 style=\"color:#987753\"><center>============= PLOT ACCURACY AND LOSS =============</center></h1>"
   ]
  },
  {
   "cell_type": "code",
   "execution_count": 86,
   "metadata": {},
   "outputs": [],
   "source": [
    "def trace(x,y,imagesLabels,color):\n",
    "        trace = go.Scatter(\n",
    "            x = x,y = y,\n",
    "            name=imagesLabels,\n",
    "            marker=dict(color=color),\n",
    "            mode = \"markers+lines\",\n",
    "            text=x\n",
    "        )\n",
    "        return trace\n",
    "\n",
    "def plotAccLoss(model):\n",
    "    \n",
    "    hist = model.history\n",
    "    acc = hist['accuracy']\n",
    "    valAcc = hist['val_accuracy']\n",
    "    loss = hist['loss']\n",
    "    valLoss = hist['val_loss']\n",
    "\n",
    "    epochs = list(range(1,len(acc)+1))\n",
    "\n",
    "    traceA = trace(epochs,acc,\"Training accuracy\", \"Green\")\n",
    "    traceVa = trace(epochs,valAcc,\"Validation accuracy\", \"Red\")\n",
    "    traceL = trace(epochs,loss,\"Training loss\", \"Blue\")\n",
    "    traceVl = trace(epochs,valLoss,\"Validation loss\", \"Magenta\")\n",
    "\n",
    "    fig = plotly.subplots.make_subplots(rows=1,cols=2, subplot_titles=('Training and validation accuracy',\n",
    "                                                             'Training and validation loss'))\n",
    "    fig.append_trace(traceA,1,1)\n",
    "    fig.append_trace(traceVa,1,1)\n",
    "    fig.append_trace(traceL,1,2)\n",
    "    fig.append_trace(traceVl,1,2)\n",
    "    fig['layout']['xaxis'].update(title = 'Epoch')\n",
    "    fig['layout']['xaxis2'].update(title = 'Epoch')\n",
    "    fig['layout']['yaxis'].update(title = 'Accuracy', range=[0,1])\n",
    "    fig['layout']['yaxis2'].update(title = 'Loss', range=[0,1])\n",
    "\n",
    "\n",
    "    iplot(fig, filename='accuracy-loss')"
   ]
  },
  {
   "cell_type": "markdown",
   "metadata": {},
   "source": [
    "<h1 style=\"color:#987753\"><center>============= SAVE MODEL =============</center></h1>"
   ]
  },
  {
   "cell_type": "code",
   "execution_count": 87,
   "metadata": {},
   "outputs": [],
   "source": [
    "def saveModel(model, ID):\n",
    "    \n",
    "    now = datetime.now()\n",
    "    current_time = now.strftime(\"%H-%M-%S\")\n",
    "    today = str(date.today()).split('-')\n",
    "    today = today[2]+\"_\"+today[1]+\"_\"+today[0]\n",
    "    runTime = (\"%s_%s\" %(today,current_time))\n",
    "    model.save('D:\\Models\\model_run_'+runTime+\"_\"+str(ID))\n"
   ]
  },
  {
   "cell_type": "code",
   "execution_count": 88,
   "metadata": {},
   "outputs": [],
   "source": [
    "def readLogFile(path=\"D:/LogsProject/hyperParams/finalRecap.csv\", cols=None):\n",
    "    \n",
    "    try:\n",
    "        \n",
    "        df = pd.read_csv(path, sep=\";\" ,encoding='utf-8')\n",
    "        return df, path\n",
    "    \n",
    "    except Exception as e:\n",
    "        \n",
    "        print('-Erorr file not found, it will be created now... \\n-Error tracback : %s' %(e))\n",
    "        f = open(path, \"w\")\n",
    "        writer = csv.DictWriter(f, fieldnames=cols)\n",
    "        writer.writeheader()\n",
    "        f.close()\n",
    "        df = pd.read_csv(path, sep=\",\" ,encoding='utf-8')\n",
    "        return df, path"
   ]
  },
  {
   "cell_type": "code",
   "execution_count": 89,
   "metadata": {},
   "outputs": [],
   "source": [
    "def generateExcelParams(params, history, resultEV, runTime):\n",
    "    \n",
    "    pass\n",
    "\n",
    "    params['indiv_id'] = ID\n",
    "    params['Layers'] = ';'.join(str(dict_) for dict_ in params['Layers'])\n",
    "    params['valAccuracy'] = resultEV[1]\n",
    "    params['valLoss'] = resultEV[0]\n",
    "    params['trainAccuracy'] = round(history.history['accuracy'][params['epochs']-1].item(), 3)\n",
    "    params['trainLoss'] = round(history.history['loss'][params['epochs']-1].item(), 3)\n",
    "    params['runTime'] = runTime.split(' ')[3]\n",
    "    \n",
    "    \n",
    "    dictToCsv = dict()\n",
    "    for key, value in zip(params.keys(), params.values()):\n",
    "        \n",
    "        tmp = []\n",
    "        tmp.append(value)\n",
    "        dictToCsv[key] = tmp\n",
    "    \n",
    "    \n",
    "    df = pd.DataFrame(dictToCsv, columns=params.keys())\n",
    "    mainDirectory = os.getcwd() + \"\\\\logs\\\\linear\\\\logs_\" + getTime()+\"\\\\\"\n",
    "    os.mkdir(mainDirectory)\n",
    "    df.to_csv(mainDirectory+\"combined_recap.csv\", sep=\";\", index=None, header=True)\n",
    "#     logFile, path = readLogFile(cols=params.keys())\n",
    "#     dfMerged = pd.concat([logFile, df], ignore_index=True)\n",
    "#     os.remove(path)\n",
    "#     dfMerged.to_csv(path, sep=\";\", index=None, header=True)\n",
    "\n",
    "#     return dfMerged"
   ]
  },
  {
   "cell_type": "code",
   "execution_count": 90,
   "metadata": {},
   "outputs": [],
   "source": [
    "def main():\n",
    "    \n",
    "    global ID\n",
    "    ID = random.randint(1,1000000)\n",
    "    print(\"================================ ID RUN %s ================================\" % (ID))\n",
    "    params = hyperParams()\n",
    "    (trainImages, testImages, trainLabels, testLabels) = loadData()\n",
    "    \n",
    "    yTest = testLabels\n",
    "    print(\"================================ SHAPE ================================\")\n",
    "    print(\"\\t- NB TRAIN SAMPLES %s WIDTH %s HEIGHT %s COLOR %s\" % (trainImages.shape))\n",
    "    print(\"\\t- NB TEST SAMPLES %s WIDTH %s HEIGHT %s COLOR %s\" % (testImages.shape))\n",
    "    \n",
    "    print(\"================================ PLOT FIGURE ================================\")\n",
    "    plotFigure(trainImages, trainLabels, nbSamples=25)\n",
    "    \n",
    "    print(\"================================ ONEHOT ENCODING ================================\")\n",
    "    trainLabels, testLabels = oneHoteEncoding(trainLabels, testLabels)\n",
    "    \n",
    "    print(\"================================ CREATE MODEL ================================\")\n",
    "    model = createModel(params)\n",
    "    \n",
    "    plot_model(model, \"GraphModel/model_\"+str(ID)+\"_.png\")\n",
    "    \n",
    "    print(\"================================ RESHAPE INPUTS ================================\")\n",
    "    trainImages, testImages = reshapeInput(trainImages, testImages)\n",
    "    \n",
    "    print(\"================================ FIT MODEL ================================\")\n",
    "    model, runTime, history = fitModel(model, params, trainImages, trainLabels, testImages, testLabels)\n",
    "    \n",
    "    print(\"================================ PLOT ACCURACY AND LOSS ================================\")\n",
    "    plotAccLoss(history)\n",
    "    \n",
    "    print(\"================================ EVALUATE MODEL ================================\")\n",
    "    resultEV = evaluateModel(model, testImages, testLabels)\n",
    "    \n",
    "    print(\"================================ PREDICITION ================================\")\n",
    "    prediction, result = predictionPercent(model, testImages, testLabels)\n",
    "    \n",
    "    print(\"================================ PLOT PREDICITION ================================\")\n",
    "    plotPredictedResult(prediction, testImages, testLabels)\n",
    "    \n",
    "    print(\"================================ SAVE MODEL ================================\")\n",
    "    saveModel(model, ID)\n",
    "    \n",
    "    print(\"================================ GENERATE CSV HYPERPARAMS ================================\")\n",
    "    jsonDf = generateExcelParams(params, history, resultEV, runTime)"
   ]
  },
  {
   "cell_type": "code",
   "execution_count": 91,
   "metadata": {},
   "outputs": [
    {
     "name": "stdout",
     "output_type": "stream",
     "text": [
      "================================ ID RUN 700569 ================================\n",
      "================================ SHAPE ================================\n",
      "\t- NB TRAIN SAMPLES 50000 WIDTH 32 HEIGHT 32 COLOR 3\n",
      "\t- NB TEST SAMPLES 10000 WIDTH 32 HEIGHT 32 COLOR 3\n",
      "================================ PLOT FIGURE ================================\n"
     ]
    },
    {
     "data": {
      "image/png": "[encoded data removed]",
      "text/plain": [
       "<Figure size 720x720 with 25 Axes>"
      ]
     },
     "metadata": {},
     "output_type": "display_data"
    },
    {
     "name": "stdout",
     "output_type": "stream",
     "text": [
      "================================ ONEHOT ENCODING ================================\n",
      "================================ CREATE MODEL ================================\n",
      "Model: \"sequential_3\"\n",
      "_________________________________________________________________\n",
      "Layer (type)                 Output Shape              Param #   \n",
      "=================================================================\n",
      "flatten_3 (Flatten)          (None, 3072)              0         \n",
      "_________________________________________________________________\n",
      "dense_6 (Dense)              (None, 1)                 3073      \n",
      "_________________________________________________________________\n",
      "dense_7 (Dense)              (None, 10)                20        \n",
      "=================================================================\n",
      "Total params: 3,093\n",
      "Trainable params: 3,093\n",
      "Non-trainable params: 0\n",
      "_________________________________________________________________\n",
      "================================ RESHAPE INPUTS ================================\n",
      "================================ FIT MODEL ================================\n",
      "Train on 50000 samples, validate on 10000 samples\n",
      "Epoch 1/35\n",
      "50000/50000 [==============================] - 1s 23us/sample - loss: 2.2547 - accuracy: 0.1293 - val_loss: 2.1957 - val_accuracy: 0.1421\n",
      "Epoch 2/35\n",
      "50000/50000 [==============================] - 1s 19us/sample - loss: 2.1635 - accuracy: 0.1595 - val_loss: 2.1257 - val_accuracy: 0.1714\n",
      "Epoch 3/35\n",
      "50000/50000 [==============================] - 1s 18us/sample - loss: 2.1300 - accuracy: 0.1706 - val_loss: 2.1074 - val_accuracy: 0.1722\n",
      "Epoch 4/35\n",
      "50000/50000 [==============================] - 1s 19us/sample - loss: 2.1164 - accuracy: 0.1737 - val_loss: 2.1042 - val_accuracy: 0.1757\n",
      "Epoch 5/35\n",
      "50000/50000 [==============================] - 1s 19us/sample - loss: 2.1096 - accuracy: 0.1749 - val_loss: 2.0966 - val_accuracy: 0.1778\n",
      "Epoch 6/35\n",
      "50000/50000 [==============================] - 1s 17us/sample - loss: 2.1018 - accuracy: 0.1765 - val_loss: 2.0878 - val_accuracy: 0.1783\n",
      "Epoch 7/35\n",
      "50000/50000 [==============================] - 1s 18us/sample - loss: 2.1027 - accuracy: 0.1774 - val_loss: 2.1716 - val_accuracy: 0.1627\n",
      "Epoch 8/35\n",
      "50000/50000 [==============================] - 1s 18us/sample - loss: 2.0943 - accuracy: 0.1772 - val_loss: 2.0821 - val_accuracy: 0.1794\n",
      "Epoch 9/35\n",
      "50000/50000 [==============================] - 1s 18us/sample - loss: 2.0943 - accuracy: 0.1774 - val_loss: 2.0781 - val_accuracy: 0.1785\n",
      "Epoch 10/35\n",
      "50000/50000 [==============================] - 1s 17us/sample - loss: 2.0991 - accuracy: 0.1772 - val_loss: 2.0895 - val_accuracy: 0.1798\n",
      "Epoch 11/35\n",
      "50000/50000 [==============================] - 1s 17us/sample - loss: 2.0877 - accuracy: 0.1778 - val_loss: 2.0768 - val_accuracy: 0.1779\n",
      "Epoch 12/35\n",
      "50000/50000 [==============================] - 1s 17us/sample - loss: 2.0868 - accuracy: 0.1797 - val_loss: 2.0935 - val_accuracy: 0.1802\n",
      "Epoch 13/35\n",
      "50000/50000 [==============================] - 1s 20us/sample - loss: 2.0915 - accuracy: 0.1789 - val_loss: 2.0801 - val_accuracy: 0.1772\n",
      "Epoch 14/35\n",
      "50000/50000 [==============================] - 1s 20us/sample - loss: 2.0868 - accuracy: 0.1788 - val_loss: 2.1358 - val_accuracy: 0.1734\n",
      "Epoch 15/35\n",
      "50000/50000 [==============================] - 1s 21us/sample - loss: 2.0851 - accuracy: 0.1800 - val_loss: 2.0782 - val_accuracy: 0.1802\n",
      "Epoch 16/35\n",
      "50000/50000 [==============================] - 1s 20us/sample - loss: 2.0858 - accuracy: 0.1787 - val_loss: 2.0955 - val_accuracy: 0.1749\n",
      "Epoch 17/35\n",
      "50000/50000 [==============================] - 1s 20us/sample - loss: 2.0894 - accuracy: 0.1780 - val_loss: 2.0919 - val_accuracy: 0.1788\n",
      "Epoch 18/35\n",
      "50000/50000 [==============================] - 1s 20us/sample - loss: 2.0814 - accuracy: 0.1800 - val_loss: 2.0693 - val_accuracy: 0.1813\n",
      "Epoch 19/35\n",
      "50000/50000 [==============================] - 1s 20us/sample - loss: 2.0841 - accuracy: 0.1789 - val_loss: 2.0697 - val_accuracy: 0.1826\n",
      "Epoch 20/35\n",
      "50000/50000 [==============================] - 1s 19us/sample - loss: 2.0850 - accuracy: 0.1797 - val_loss: 2.0802 - val_accuracy: 0.1781\n",
      "Epoch 21/35\n",
      "50000/50000 [==============================] - 1s 20us/sample - loss: 2.0772 - accuracy: 0.1796 - val_loss: 2.0815 - val_accuracy: 0.1792\n",
      "Epoch 22/35\n",
      "50000/50000 [==============================] - 1s 20us/sample - loss: 2.0845 - accuracy: 0.1796 - val_loss: 2.0679 - val_accuracy: 0.1798\n",
      "Epoch 23/35\n",
      "50000/50000 [==============================] - 1s 22us/sample - loss: 2.0817 - accuracy: 0.1795 - val_loss: 2.1559 - val_accuracy: 0.1735\n",
      "Epoch 24/35\n",
      "50000/50000 [==============================] - 1s 27us/sample - loss: 2.0783 - accuracy: 0.1799 - val_loss: 2.0844 - val_accuracy: 0.1777\n",
      "Epoch 25/35\n",
      "50000/50000 [==============================] - 1s 24us/sample - loss: 2.0840 - accuracy: 0.1790 - val_loss: 2.0839 - val_accuracy: 0.1809\n",
      "Epoch 26/35\n",
      "50000/50000 [==============================] - 1s 22us/sample - loss: 2.0837 - accuracy: 0.1797 - val_loss: 2.0755 - val_accuracy: 0.1821\n",
      "Epoch 27/35\n",
      "50000/50000 [==============================] - 1s 21us/sample - loss: 2.0768 - accuracy: 0.1812 - val_loss: 2.1144 - val_accuracy: 0.1679\n",
      "Epoch 28/35\n",
      "50000/50000 [==============================] - 1s 21us/sample - loss: 2.0827 - accuracy: 0.1795 - val_loss: 2.1338 - val_accuracy: 0.1761\n",
      "Epoch 29/35\n",
      "50000/50000 [==============================] - 1s 22us/sample - loss: 2.0791 - accuracy: 0.1799 - val_loss: 2.0758 - val_accuracy: 0.1788\n",
      "Epoch 30/35\n",
      "50000/50000 [==============================] - 1s 20us/sample - loss: 2.0721 - accuracy: 0.1830 - val_loss: 2.0635 - val_accuracy: 0.1826\n",
      "Epoch 31/35\n",
      "50000/50000 [==============================] - 1s 23us/sample - loss: 2.0773 - accuracy: 0.1803 - val_loss: 2.0780 - val_accuracy: 0.1807\n",
      "Epoch 32/35\n",
      "50000/50000 [==============================] - 1s 22us/sample - loss: 2.0770 - accuracy: 0.1806 - val_loss: 2.0731 - val_accuracy: 0.1822\n",
      "Epoch 33/35\n",
      "50000/50000 [==============================] - 1s 27us/sample - loss: 2.0798 - accuracy: 0.1800 - val_loss: 2.0667 - val_accuracy: 0.1839\n",
      "Epoch 34/35\n",
      "50000/50000 [==============================] - 1s 22us/sample - loss: 2.0774 - accuracy: 0.1806 - val_loss: 2.0642 - val_accuracy: 0.1816\n",
      "Epoch 35/35\n",
      "50000/50000 [==============================] - 1s 20us/sample - loss: 2.0788 - accuracy: 0.1793 - val_loss: 2.0820 - val_accuracy: 0.1824\n",
      "RUN TIME : 00:00:36\n",
      "================================ PLOT ACCURACY AND LOSS ================================\n"
     ]
    },
    {
     "data": {
      "application/vnd.plotly.v1+json": {
       "config": {
        "linkText": "Export to plot.ly",
        "plotlyServerURL": "https://plot.ly",
        "showLink": false
       },
       "data": [
        {
         "marker": {
          "color": "Green"
         },
         "mode": "markers+lines",
         "name": "Training accuracy",
         "text": [
          "1",
          "2",
          "3",
          "4",
          "5",
          "6",
          "7",
          "8",
          "9",
          "10",
          "11",
          "12",
          "13",
          "14",
          "15",
          "16",
          "17",
          "18",
          "19",
          "20",
          "21",
          "22",
          "23",
          "24",
          "25",
          "26",
          "27",
          "28",
          "29",
          "30",
          "31",
          "32",
          "33",
          "34",
          "35"
         ],
         "type": "scatter",
         "x": [
          1,
          2,
          3,
          4,
          5,
          6,
          7,
          8,
          9,
          10,
          11,
          12,
          13,
          14,
          15,
          16,
          17,
          18,
          19,
          20,
          21,
          22,
          23,
          24,
          25,
          26,
          27,
          28,
          29,
          30,
          31,
          32,
          33,
          34,
          35
         ],
         "xaxis": "x",
         "y": [
          0.12933999300003052,
          0.15953999757766724,
          0.17056000232696533,
          0.17373999953269958,
          0.17494000494480133,
          0.1764799952507019,
          0.17739999294281006,
          0.17715999484062195,
          0.17735999822616577,
          0.17715999484062195,
          0.1777999997138977,
          0.17970000207424164,
          0.17892000079154968,
          0.17880000174045563,
          0.18002000451087952,
          0.178739994764328,
          0.17795999348163605,
          0.18000000715255737,
          0.17885999381542206,
          0.17966000735759735,
          0.17960000038146973,
          0.17958000302314758,
          0.17951999604701996,
          0.17990000545978546,
          0.1790200024843216,
          0.17973999679088593,
          0.18118000030517578,
          0.17949999868869781,
          0.17985999584197998,
          0.18303999304771423,
          0.18027999997138977,
          0.18063999712467194,
          0.1799599975347519,
          0.1805800050497055,
          0.17927999794483185
         ],
         "yaxis": "y"
        },
        {
         "marker": {
          "color": "Red"
         },
         "mode": "markers+lines",
         "name": "Validation accuracy",
         "text": [
          "1",
          "2",
          "3",
          "4",
          "5",
          "6",
          "7",
          "8",
          "9",
          "10",
          "11",
          "12",
          "13",
          "14",
          "15",
          "16",
          "17",
          "18",
          "19",
          "20",
          "21",
          "22",
          "23",
          "24",
          "25",
          "26",
          "27",
          "28",
          "29",
          "30",
          "31",
          "32",
          "33",
          "34",
          "35"
         ],
         "type": "scatter",
         "x": [
          1,
          2,
          3,
          4,
          5,
          6,
          7,
          8,
          9,
          10,
          11,
          12,
          13,
          14,
          15,
          16,
          17,
          18,
          19,
          20,
          21,
          22,
          23,
          24,
          25,
          26,
          27,
          28,
          29,
          30,
          31,
          32,
          33,
          34,
          35
         ],
         "xaxis": "x",
         "y": [
          0.1421000063419342,
          0.17139999568462372,
          0.17219999432563782,
          0.17569999396800995,
          0.1777999997138977,
          0.17829999327659607,
          0.16269999742507935,
          0.1793999969959259,
          0.1784999966621399,
          0.17980000376701355,
          0.17790000140666962,
          0.18019999563694,
          0.17720000445842743,
          0.17339999973773956,
          0.18019999563694,
          0.17489999532699585,
          0.17880000174045563,
          0.18129999935626984,
          0.1826000064611435,
          0.17810000479221344,
          0.17919999361038208,
          0.17980000376701355,
          0.17350000143051147,
          0.1776999980211258,
          0.1808999925851822,
          0.18209999799728394,
          0.1678999960422516,
          0.1761000007390976,
          0.17880000174045563,
          0.1826000064611435,
          0.18070000410079956,
          0.18219999969005585,
          0.18389999866485596,
          0.18160000443458557,
          0.18240000307559967
         ],
         "yaxis": "y"
        },
        {
         "marker": {
          "color": "Blue"
         },
         "mode": "markers+lines",
         "name": "Training loss",
         "text": [
          "1",
          "2",
          "3",
          "4",
          "5",
          "6",
          "7",
          "8",
          "9",
          "10",
          "11",
          "12",
          "13",
          "14",
          "15",
          "16",
          "17",
          "18",
          "19",
          "20",
          "21",
          "22",
          "23",
          "24",
          "25",
          "26",
          "27",
          "28",
          "29",
          "30",
          "31",
          "32",
          "33",
          "34",
          "35"
         ],
         "type": "scatter",
         "x": [
          1,
          2,
          3,
          4,
          5,
          6,
          7,
          8,
          9,
          10,
          11,
          12,
          13,
          14,
          15,
          16,
          17,
          18,
          19,
          20,
          21,
          22,
          23,
          24,
          25,
          26,
          27,
          28,
          29,
          30,
          31,
          32,
          33,
          34,
          35
         ],
         "xaxis": "x2",
         "y": [
          2.2547238636016846,
          2.163531994819641,
          2.1300084090232847,
          2.11643025636673,
          2.1096023511886597,
          2.1018479013442994,
          2.102745444774628,
          2.094256775379181,
          2.094331386089325,
          2.0990810680389402,
          2.087714231014252,
          2.086812913417816,
          2.0915475416183473,
          2.0867809867858886,
          2.085124547481537,
          2.0857533383369447,
          2.089440686702728,
          2.081443574428558,
          2.084082405567169,
          2.085015544891357,
          2.077168679237366,
          2.0844696712493898,
          2.0816571259498597,
          2.078277815580368,
          2.0840081214904784,
          2.0837380385398863,
          2.0768195033073424,
          2.082741611003876,
          2.07910320520401,
          2.0720888996124267,
          2.0773177409172057,
          2.077012621164322,
          2.0798145842552187,
          2.0773887991905213,
          2.078756613731384
         ],
         "yaxis": "y2"
        },
        {
         "marker": {
          "color": "Magenta"
         },
         "mode": "markers+lines",
         "name": "Validation loss",
         "text": [
          "1",
          "2",
          "3",
          "4",
          "5",
          "6",
          "7",
          "8",
          "9",
          "10",
          "11",
          "12",
          "13",
          "14",
          "15",
          "16",
          "17",
          "18",
          "19",
          "20",
          "21",
          "22",
          "23",
          "24",
          "25",
          "26",
          "27",
          "28",
          "29",
          "30",
          "31",
          "32",
          "33",
          "34",
          "35"
         ],
         "type": "scatter",
         "x": [
          1,
          2,
          3,
          4,
          5,
          6,
          7,
          8,
          9,
          10,
          11,
          12,
          13,
          14,
          15,
          16,
          17,
          18,
          19,
          20,
          21,
          22,
          23,
          24,
          25,
          26,
          27,
          28,
          29,
          30,
          31,
          32,
          33,
          34,
          35
         ],
         "xaxis": "x2",
         "y": [
          2.195667099952698,
          2.1257449865341185,
          2.107373130321503,
          2.10423059463501,
          2.096616804599762,
          2.0878257513046266,
          2.171634352207184,
          2.0821226239204407,
          2.078111743927002,
          2.08951016664505,
          2.076767146587372,
          2.0935238003730774,
          2.0800841569900514,
          2.1357900738716125,
          2.0781669855117797,
          2.0954744935035707,
          2.0919097661972046,
          2.069301462173462,
          2.0696983456611635,
          2.080239176750183,
          2.081489789485931,
          2.067886698246002,
          2.155929911136627,
          2.0843721628189087,
          2.083863878250122,
          2.075500953197479,
          2.1143665075302125,
          2.1338100910186766,
          2.0757532477378846,
          2.0635373830795287,
          2.0780364513397216,
          2.0730979681015014,
          2.066745138168335,
          2.064179027080536,
          2.082028663158417
         ],
         "yaxis": "y2"
        }
       ],
       "layout": {
        "annotations": [
         {
          "font": {
           "size": 16
          },
          "showarrow": false,
          "text": "Training and validation accuracy",
          "x": 0.225,
          "xanchor": "center",
          "xref": "paper",
          "y": 1,
          "yanchor": "bottom",
          "yref": "paper"
         },
         {
          "font": {
           "size": 16
          },
          "showarrow": false,
          "text": "Training and validation loss",
          "x": 0.775,
          "xanchor": "center",
          "xref": "paper",
          "y": 1,
          "yanchor": "bottom",
          "yref": "paper"
         }
        ],
        "autosize": true,
        "template": {
         "data": {
          "bar": [
           {
            "error_x": {
             "color": "#2a3f5f"
            },
            "error_y": {
             "color": "#2a3f5f"
            },
            "marker": {
             "line": {
              "color": "#E5ECF6",
              "width": 0.5
             }
            },
            "type": "bar"
           }
          ],
          "barpolar": [
           {
            "marker": {
             "line": {
              "color": "#E5ECF6",
              "width": 0.5
             }
            },
            "type": "barpolar"
           }
          ],
          "carpet": [
           {
            "aaxis": {
             "endlinecolor": "#2a3f5f",
             "gridcolor": "white",
             "linecolor": "white",
             "minorgridcolor": "white",
             "startlinecolor": "#2a3f5f"
            },
            "baxis": {
             "endlinecolor": "#2a3f5f",
             "gridcolor": "white",
             "linecolor": "white",
             "minorgridcolor": "white",
             "startlinecolor": "#2a3f5f"
            },
            "type": "carpet"
           }
          ],
          "choropleth": [
           {
            "colorbar": {
             "outlinewidth": 0,
             "ticks": ""
            },
            "type": "choropleth"
           }
          ],
          "contour": [
           {
            "colorbar": {
             "outlinewidth": 0,
             "ticks": ""
            },
            "colorscale": [
             [
              0,
              "#0d0887"
             ],
             [
              0.1111111111111111,
              "#46039f"
             ],
             [
              0.2222222222222222,
              "#7201a8"
             ],
             [
              0.3333333333333333,
              "#9c179e"
             ],
             [
              0.4444444444444444,
              "#bd3786"
             ],
             [
              0.5555555555555556,
              "#d8576b"
             ],
             [
              0.6666666666666666,
              "#ed7953"
             ],
             [
              0.7777777777777778,
              "#fb9f3a"
             ],
             [
              0.8888888888888888,
              "#fdca26"
             ],
             [
              1,
              "#f0f921"
             ]
            ],
            "type": "contour"
           }
          ],
          "contourcarpet": [
           {
            "colorbar": {
             "outlinewidth": 0,
             "ticks": ""
            },
            "type": "contourcarpet"
           }
          ],
          "heatmap": [
           {
            "colorbar": {
             "outlinewidth": 0,
             "ticks": ""
            },
            "colorscale": [
             [
              0,
              "#0d0887"
             ],
             [
              0.1111111111111111,
              "#46039f"
             ],
             [
              0.2222222222222222,
              "#7201a8"
             ],
             [
              0.3333333333333333,
              "#9c179e"
             ],
             [
              0.4444444444444444,
              "#bd3786"
             ],
             [
              0.5555555555555556,
              "#d8576b"
             ],
             [
              0.6666666666666666,
              "#ed7953"
             ],
             [
              0.7777777777777778,
              "#fb9f3a"
             ],
             [
              0.8888888888888888,
              "#fdca26"
             ],
             [
              1,
              "#f0f921"
             ]
            ],
            "type": "heatmap"
           }
          ],
          "heatmapgl": [
           {
            "colorbar": {
             "outlinewidth": 0,
             "ticks": ""
            },
            "colorscale": [
             [
              0,
              "#0d0887"
             ],
             [
              0.1111111111111111,
              "#46039f"
             ],
             [
              0.2222222222222222,
              "#7201a8"
             ],
             [
              0.3333333333333333,
              "#9c179e"
             ],
             [
              0.4444444444444444,
              "#bd3786"
             ],
             [
              0.5555555555555556,
              "#d8576b"
             ],
             [
              0.6666666666666666,
              "#ed7953"
             ],
             [
              0.7777777777777778,
              "#fb9f3a"
             ],
             [
              0.8888888888888888,
              "#fdca26"
             ],
             [
              1,
              "#f0f921"
             ]
            ],
            "type": "heatmapgl"
           }
          ],
          "histogram": [
           {
            "marker": {
             "colorbar": {
              "outlinewidth": 0,
              "ticks": ""
             }
            },
            "type": "histogram"
           }
          ],
          "histogram2d": [
           {
            "colorbar": {
             "outlinewidth": 0,
             "ticks": ""
            },
            "colorscale": [
             [
              0,
              "#0d0887"
             ],
             [
              0.1111111111111111,
              "#46039f"
             ],
             [
              0.2222222222222222,
              "#7201a8"
             ],
             [
              0.3333333333333333,
              "#9c179e"
             ],
             [
              0.4444444444444444,
              "#bd3786"
             ],
             [
              0.5555555555555556,
              "#d8576b"
             ],
             [
              0.6666666666666666,
              "#ed7953"
             ],
             [
              0.7777777777777778,
              "#fb9f3a"
             ],
             [
              0.8888888888888888,
              "#fdca26"
             ],
             [
              1,
              "#f0f921"
             ]
            ],
            "type": "histogram2d"
           }
          ],
          "histogram2dcontour": [
           {
            "colorbar": {
             "outlinewidth": 0,
             "ticks": ""
            },
            "colorscale": [
             [
              0,
              "#0d0887"
             ],
             [
              0.1111111111111111,
              "#46039f"
             ],
             [
              0.2222222222222222,
              "#7201a8"
             ],
             [
              0.3333333333333333,
              "#9c179e"
             ],
             [
              0.4444444444444444,
              "#bd3786"
             ],
             [
              0.5555555555555556,
              "#d8576b"
             ],
             [
              0.6666666666666666,
              "#ed7953"
             ],
             [
              0.7777777777777778,
              "#fb9f3a"
             ],
             [
              0.8888888888888888,
              "#fdca26"
             ],
             [
              1,
              "#f0f921"
             ]
            ],
            "type": "histogram2dcontour"
           }
          ],
          "mesh3d": [
           {
            "colorbar": {
             "outlinewidth": 0,
             "ticks": ""
            },
            "type": "mesh3d"
           }
          ],
          "parcoords": [
           {
            "line": {
             "colorbar": {
              "outlinewidth": 0,
              "ticks": ""
             }
            },
            "type": "parcoords"
           }
          ],
          "pie": [
           {
            "automargin": true,
            "type": "pie"
           }
          ],
          "scatter": [
           {
            "marker": {
             "colorbar": {
              "outlinewidth": 0,
              "ticks": ""
             }
            },
            "type": "scatter"
           }
          ],
          "scatter3d": [
           {
            "line": {
             "colorbar": {
              "outlinewidth": 0,
              "ticks": ""
             }
            },
            "marker": {
             "colorbar": {
              "outlinewidth": 0,
              "ticks": ""
             }
            },
            "type": "scatter3d"
           }
          ],
          "scattercarpet": [
           {
            "marker": {
             "colorbar": {
              "outlinewidth": 0,
              "ticks": ""
             }
            },
            "type": "scattercarpet"
           }
          ],
          "scattergeo": [
           {
            "marker": {
             "colorbar": {
              "outlinewidth": 0,
              "ticks": ""
             }
            },
            "type": "scattergeo"
           }
          ],
          "scattergl": [
           {
            "marker": {
             "colorbar": {
              "outlinewidth": 0,
              "ticks": ""
             }
            },
            "type": "scattergl"
           }
          ],
          "scattermapbox": [
           {
            "marker": {
             "colorbar": {
              "outlinewidth": 0,
              "ticks": ""
             }
            },
            "type": "scattermapbox"
           }
          ],
          "scatterpolar": [
           {
            "marker": {
             "colorbar": {
              "outlinewidth": 0,
              "ticks": ""
             }
            },
            "type": "scatterpolar"
           }
          ],
          "scatterpolargl": [
           {
            "marker": {
             "colorbar": {
              "outlinewidth": 0,
              "ticks": ""
             }
            },
            "type": "scatterpolargl"
           }
          ],
          "scatterternary": [
           {
            "marker": {
             "colorbar": {
              "outlinewidth": 0,
              "ticks": ""
             }
            },
            "type": "scatterternary"
           }
          ],
          "surface": [
           {
            "colorbar": {
             "outlinewidth": 0,
             "ticks": ""
            },
            "colorscale": [
             [
              0,
              "#0d0887"
             ],
             [
              0.1111111111111111,
              "#46039f"
             ],
             [
              0.2222222222222222,
              "#7201a8"
             ],
             [
              0.3333333333333333,
              "#9c179e"
             ],
             [
              0.4444444444444444,
              "#bd3786"
             ],
             [
              0.5555555555555556,
              "#d8576b"
             ],
             [
              0.6666666666666666,
              "#ed7953"
             ],
             [
              0.7777777777777778,
              "#fb9f3a"
             ],
             [
              0.8888888888888888,
              "#fdca26"
             ],
             [
              1,
              "#f0f921"
             ]
            ],
            "type": "surface"
           }
          ],
          "table": [
           {
            "cells": {
             "fill": {
              "color": "#EBF0F8"
             },
             "line": {
              "color": "white"
             }
            },
            "header": {
             "fill": {
              "color": "#C8D4E3"
             },
             "line": {
              "color": "white"
             }
            },
            "type": "table"
           }
          ]
         },
         "layout": {
          "annotationdefaults": {
           "arrowcolor": "#2a3f5f",
           "arrowhead": 0,
           "arrowwidth": 1
          },
          "coloraxis": {
           "colorbar": {
            "outlinewidth": 0,
            "ticks": ""
           }
          },
          "colorscale": {
           "diverging": [
            [
             0,
             "#8e0152"
            ],
            [
             0.1,
             "#c51b7d"
            ],
            [
             0.2,
             "#de77ae"
            ],
            [
             0.3,
             "#f1b6da"
            ],
            [
             0.4,
             "#fde0ef"
            ],
            [
             0.5,
             "#f7f7f7"
            ],
            [
             0.6,
             "#e6f5d0"
            ],
            [
             0.7,
             "#b8e186"
            ],
            [
             0.8,
             "#7fbc41"
            ],
            [
             0.9,
             "#4d9221"
            ],
            [
             1,
             "#276419"
            ]
           ],
           "sequential": [
            [
             0,
             "#0d0887"
            ],
            [
             0.1111111111111111,
             "#46039f"
            ],
            [
             0.2222222222222222,
             "#7201a8"
            ],
            [
             0.3333333333333333,
             "#9c179e"
            ],
            [
             0.4444444444444444,
             "#bd3786"
            ],
            [
             0.5555555555555556,
             "#d8576b"
            ],
            [
             0.6666666666666666,
             "#ed7953"
            ],
            [
             0.7777777777777778,
             "#fb9f3a"
            ],
            [
             0.8888888888888888,
             "#fdca26"
            ],
            [
             1,
             "#f0f921"
            ]
           ],
           "sequentialminus": [
            [
             0,
             "#0d0887"
            ],
            [
             0.1111111111111111,
             "#46039f"
            ],
            [
             0.2222222222222222,
             "#7201a8"
            ],
            [
             0.3333333333333333,
             "#9c179e"
            ],
            [
             0.4444444444444444,
             "#bd3786"
            ],
            [
             0.5555555555555556,
             "#d8576b"
            ],
            [
             0.6666666666666666,
             "#ed7953"
            ],
            [
             0.7777777777777778,
             "#fb9f3a"
            ],
            [
             0.8888888888888888,
             "#fdca26"
            ],
            [
             1,
             "#f0f921"
            ]
           ]
          },
          "colorway": [
           "#636efa",
           "#EF553B",
           "#00cc96",
           "#ab63fa",
           "#FFA15A",
           "#19d3f3",
           "#FF6692",
           "#B6E880",
           "#FF97FF",
           "#FECB52"
          ],
          "font": {
           "color": "#2a3f5f"
          },
          "geo": {
           "bgcolor": "white",
           "lakecolor": "white",
           "landcolor": "#E5ECF6",
           "showlakes": true,
           "showland": true,
           "subunitcolor": "white"
          },
          "hoverlabel": {
           "align": "left"
          },
          "hovermode": "closest",
          "mapbox": {
           "style": "light"
          },
          "paper_bgcolor": "white",
          "plot_bgcolor": "#E5ECF6",
          "polar": {
           "angularaxis": {
            "gridcolor": "white",
            "linecolor": "white",
            "ticks": ""
           },
           "bgcolor": "#E5ECF6",
           "radialaxis": {
            "gridcolor": "white",
            "linecolor": "white",
            "ticks": ""
           }
          },
          "scene": {
           "xaxis": {
            "backgroundcolor": "#E5ECF6",
            "gridcolor": "white",
            "gridwidth": 2,
            "linecolor": "white",
            "showbackground": true,
            "ticks": "",
            "zerolinecolor": "white"
           },
           "yaxis": {
            "backgroundcolor": "#E5ECF6",
            "gridcolor": "white",
            "gridwidth": 2,
            "linecolor": "white",
            "showbackground": true,
            "ticks": "",
            "zerolinecolor": "white"
           },
           "zaxis": {
            "backgroundcolor": "#E5ECF6",
            "gridcolor": "white",
            "gridwidth": 2,
            "linecolor": "white",
            "showbackground": true,
            "ticks": "",
            "zerolinecolor": "white"
           }
          },
          "shapedefaults": {
           "line": {
            "color": "#2a3f5f"
           }
          },
          "ternary": {
           "aaxis": {
            "gridcolor": "white",
            "linecolor": "white",
            "ticks": ""
           },
           "baxis": {
            "gridcolor": "white",
            "linecolor": "white",
            "ticks": ""
           },
           "bgcolor": "#E5ECF6",
           "caxis": {
            "gridcolor": "white",
            "linecolor": "white",
            "ticks": ""
           }
          },
          "title": {
           "x": 0.05
          },
          "xaxis": {
           "automargin": true,
           "gridcolor": "white",
           "linecolor": "white",
           "ticks": "",
           "title": {
            "standoff": 15
           },
           "zerolinecolor": "white",
           "zerolinewidth": 2
          },
          "yaxis": {
           "automargin": true,
           "gridcolor": "white",
           "linecolor": "white",
           "ticks": "",
           "title": {
            "standoff": 15
           },
           "zerolinecolor": "white",
           "zerolinewidth": 2
          }
         }
        },
        "xaxis": {
         "anchor": "y",
         "autorange": true,
         "domain": [
          0,
          0.45
         ],
         "range": [
          -1.2515648400599053,
          37.251564840059906
         ],
         "title": {
          "text": "Epoch"
         },
         "type": "linear"
        },
        "xaxis2": {
         "anchor": "y2",
         "autorange": true,
         "domain": [
          0.55,
          1
         ],
         "range": [
          -1.2515648400599058,
          37.251564840059906
         ],
         "title": {
          "text": "Epoch"
         },
         "type": "linear"
        },
        "yaxis": {
         "anchor": "x",
         "domain": [
          0,
          1
         ],
         "range": [
          0,
          1
         ],
         "title": {
          "text": "Accuracy"
         },
         "type": "linear"
        },
        "yaxis2": {
         "anchor": "x2",
         "autorange": true,
         "domain": [
          0,
          1
         ],
         "range": [
          2.0495332778183517,
          2.2687279688628617
         ],
         "title": {
          "text": "Loss"
         },
         "type": "linear"
        }
       }
      },
      "image/png": "[encoded data removed]",
      "text/html": [
       "<div>\n",
       "        \n",
       "        \n",
       "            <div id=\"a60ee125-47fc-4eff-931e-2d0c0fe59d97\" class=\"plotly-graph-div\" style=\"height:525px; width:100%;\"></div>\n",
       "            <script type=\"text/javascript\">\n",
       "                require([\"plotly\"], function(Plotly) {\n",
       "                    window.PLOTLYENV=window.PLOTLYENV || {};\n",
       "                    \n",
       "                if (document.getElementById(\"a60ee125-47fc-4eff-931e-2d0c0fe59d97\")) {\n",
       "                    Plotly.newPlot(\n",
       "                        'a60ee125-47fc-4eff-931e-2d0c0fe59d97',\n",
       "                        [{\"marker\": {\"color\": \"Green\"}, \"mode\": \"markers+lines\", \"name\": \"Training accuracy\", \"text\": [\"1\", \"2\", \"3\", \"4\", \"5\", \"6\", \"7\", \"8\", \"9\", \"10\", \"11\", \"12\", \"13\", \"14\", \"15\", \"16\", \"17\", \"18\", \"19\", \"20\", \"21\", \"22\", \"23\", \"24\", \"25\", \"26\", \"27\", \"28\", \"29\", \"30\", \"31\", \"32\", \"33\", \"34\", \"35\"], \"type\": \"scatter\", \"x\": [1, 2, 3, 4, 5, 6, 7, 8, 9, 10, 11, 12, 13, 14, 15, 16, 17, 18, 19, 20, 21, 22, 23, 24, 25, 26, 27, 28, 29, 30, 31, 32, 33, 34, 35], \"xaxis\": \"x\", \"y\": [0.12933999300003052, 0.15953999757766724, 0.17056000232696533, 0.17373999953269958, 0.17494000494480133, 0.1764799952507019, 0.17739999294281006, 0.17715999484062195, 0.17735999822616577, 0.17715999484062195, 0.1777999997138977, 0.17970000207424164, 0.17892000079154968, 0.17880000174045563, 0.18002000451087952, 0.178739994764328, 0.17795999348163605, 0.18000000715255737, 0.17885999381542206, 0.17966000735759735, 0.17960000038146973, 0.17958000302314758, 0.17951999604701996, 0.17990000545978546, 0.1790200024843216, 0.17973999679088593, 0.18118000030517578, 0.17949999868869781, 0.17985999584197998, 0.18303999304771423, 0.18027999997138977, 0.18063999712467194, 0.1799599975347519, 0.1805800050497055, 0.17927999794483185], \"yaxis\": \"y\"}, {\"marker\": {\"color\": \"Red\"}, \"mode\": \"markers+lines\", \"name\": \"Validation accuracy\", \"text\": [\"1\", \"2\", \"3\", \"4\", \"5\", \"6\", \"7\", \"8\", \"9\", \"10\", \"11\", \"12\", \"13\", \"14\", \"15\", \"16\", \"17\", \"18\", \"19\", \"20\", \"21\", \"22\", \"23\", \"24\", \"25\", \"26\", \"27\", \"28\", \"29\", \"30\", \"31\", \"32\", \"33\", \"34\", \"35\"], \"type\": \"scatter\", \"x\": [1, 2, 3, 4, 5, 6, 7, 8, 9, 10, 11, 12, 13, 14, 15, 16, 17, 18, 19, 20, 21, 22, 23, 24, 25, 26, 27, 28, 29, 30, 31, 32, 33, 34, 35], \"xaxis\": \"x\", \"y\": [0.1421000063419342, 0.17139999568462372, 0.17219999432563782, 0.17569999396800995, 0.1777999997138977, 0.17829999327659607, 0.16269999742507935, 0.1793999969959259, 0.1784999966621399, 0.17980000376701355, 0.17790000140666962, 0.18019999563694, 0.17720000445842743, 0.17339999973773956, 0.18019999563694, 0.17489999532699585, 0.17880000174045563, 0.18129999935626984, 0.1826000064611435, 0.17810000479221344, 0.17919999361038208, 0.17980000376701355, 0.17350000143051147, 0.1776999980211258, 0.1808999925851822, 0.18209999799728394, 0.1678999960422516, 0.1761000007390976, 0.17880000174045563, 0.1826000064611435, 0.18070000410079956, 0.18219999969005585, 0.18389999866485596, 0.18160000443458557, 0.18240000307559967], \"yaxis\": \"y\"}, {\"marker\": {\"color\": \"Blue\"}, \"mode\": \"markers+lines\", \"name\": \"Training loss\", \"text\": [\"1\", \"2\", \"3\", \"4\", \"5\", \"6\", \"7\", \"8\", \"9\", \"10\", \"11\", \"12\", \"13\", \"14\", \"15\", \"16\", \"17\", \"18\", \"19\", \"20\", \"21\", \"22\", \"23\", \"24\", \"25\", \"26\", \"27\", \"28\", \"29\", \"30\", \"31\", \"32\", \"33\", \"34\", \"35\"], \"type\": \"scatter\", \"x\": [1, 2, 3, 4, 5, 6, 7, 8, 9, 10, 11, 12, 13, 14, 15, 16, 17, 18, 19, 20, 21, 22, 23, 24, 25, 26, 27, 28, 29, 30, 31, 32, 33, 34, 35], \"xaxis\": \"x2\", \"y\": [2.2547238636016846, 2.163531994819641, 2.1300084090232847, 2.11643025636673, 2.1096023511886597, 2.1018479013442994, 2.102745444774628, 2.094256775379181, 2.094331386089325, 2.0990810680389402, 2.087714231014252, 2.086812913417816, 2.0915475416183473, 2.0867809867858886, 2.085124547481537, 2.0857533383369447, 2.089440686702728, 2.081443574428558, 2.084082405567169, 2.085015544891357, 2.077168679237366, 2.0844696712493898, 2.0816571259498597, 2.078277815580368, 2.0840081214904784, 2.0837380385398863, 2.0768195033073424, 2.082741611003876, 2.07910320520401, 2.0720888996124267, 2.0773177409172057, 2.077012621164322, 2.0798145842552187, 2.0773887991905213, 2.078756613731384], \"yaxis\": \"y2\"}, {\"marker\": {\"color\": \"Magenta\"}, \"mode\": \"markers+lines\", \"name\": \"Validation loss\", \"text\": [\"1\", \"2\", \"3\", \"4\", \"5\", \"6\", \"7\", \"8\", \"9\", \"10\", \"11\", \"12\", \"13\", \"14\", \"15\", \"16\", \"17\", \"18\", \"19\", \"20\", \"21\", \"22\", \"23\", \"24\", \"25\", \"26\", \"27\", \"28\", \"29\", \"30\", \"31\", \"32\", \"33\", \"34\", \"35\"], \"type\": \"scatter\", \"x\": [1, 2, 3, 4, 5, 6, 7, 8, 9, 10, 11, 12, 13, 14, 15, 16, 17, 18, 19, 20, 21, 22, 23, 24, 25, 26, 27, 28, 29, 30, 31, 32, 33, 34, 35], \"xaxis\": \"x2\", \"y\": [2.195667099952698, 2.1257449865341185, 2.107373130321503, 2.10423059463501, 2.096616804599762, 2.0878257513046266, 2.171634352207184, 2.0821226239204407, 2.078111743927002, 2.08951016664505, 2.076767146587372, 2.0935238003730774, 2.0800841569900514, 2.1357900738716125, 2.0781669855117797, 2.0954744935035707, 2.0919097661972046, 2.069301462173462, 2.0696983456611635, 2.080239176750183, 2.081489789485931, 2.067886698246002, 2.155929911136627, 2.0843721628189087, 2.083863878250122, 2.075500953197479, 2.1143665075302125, 2.1338100910186766, 2.0757532477378846, 2.0635373830795287, 2.0780364513397216, 2.0730979681015014, 2.066745138168335, 2.064179027080536, 2.082028663158417], \"yaxis\": \"y2\"}],\n",
       "                        {\"annotations\": [{\"font\": {\"size\": 16}, \"showarrow\": false, \"text\": \"Training and validation accuracy\", \"x\": 0.225, \"xanchor\": \"center\", \"xref\": \"paper\", \"y\": 1.0, \"yanchor\": \"bottom\", \"yref\": \"paper\"}, {\"font\": {\"size\": 16}, \"showarrow\": false, \"text\": \"Training and validation loss\", \"x\": 0.775, \"xanchor\": \"center\", \"xref\": \"paper\", \"y\": 1.0, \"yanchor\": \"bottom\", \"yref\": \"paper\"}], \"template\": {\"data\": {\"bar\": [{\"error_x\": {\"color\": \"#2a3f5f\"}, \"error_y\": {\"color\": \"#2a3f5f\"}, \"marker\": {\"line\": {\"color\": \"#E5ECF6\", \"width\": 0.5}}, \"type\": \"bar\"}], \"barpolar\": [{\"marker\": {\"line\": {\"color\": \"#E5ECF6\", \"width\": 0.5}}, \"type\": \"barpolar\"}], \"carpet\": [{\"aaxis\": {\"endlinecolor\": \"#2a3f5f\", \"gridcolor\": \"white\", \"linecolor\": \"white\", \"minorgridcolor\": \"white\", \"startlinecolor\": \"#2a3f5f\"}, \"baxis\": {\"endlinecolor\": \"#2a3f5f\", \"gridcolor\": \"white\", \"linecolor\": \"white\", \"minorgridcolor\": \"white\", \"startlinecolor\": \"#2a3f5f\"}, \"type\": \"carpet\"}], \"choropleth\": [{\"colorbar\": {\"outlinewidth\": 0, \"ticks\": \"\"}, \"type\": \"choropleth\"}], \"contour\": [{\"colorbar\": {\"outlinewidth\": 0, \"ticks\": \"\"}, \"colorscale\": [[0.0, \"#0d0887\"], [0.1111111111111111, \"#46039f\"], [0.2222222222222222, \"#7201a8\"], [0.3333333333333333, \"#9c179e\"], [0.4444444444444444, \"#bd3786\"], [0.5555555555555556, \"#d8576b\"], [0.6666666666666666, \"#ed7953\"], [0.7777777777777778, \"#fb9f3a\"], [0.8888888888888888, \"#fdca26\"], [1.0, \"#f0f921\"]], \"type\": \"contour\"}], \"contourcarpet\": [{\"colorbar\": {\"outlinewidth\": 0, \"ticks\": \"\"}, \"type\": \"contourcarpet\"}], \"heatmap\": [{\"colorbar\": {\"outlinewidth\": 0, \"ticks\": \"\"}, \"colorscale\": [[0.0, \"#0d0887\"], [0.1111111111111111, \"#46039f\"], [0.2222222222222222, \"#7201a8\"], [0.3333333333333333, \"#9c179e\"], [0.4444444444444444, \"#bd3786\"], [0.5555555555555556, \"#d8576b\"], [0.6666666666666666, \"#ed7953\"], [0.7777777777777778, \"#fb9f3a\"], [0.8888888888888888, \"#fdca26\"], [1.0, \"#f0f921\"]], \"type\": \"heatmap\"}], \"heatmapgl\": [{\"colorbar\": {\"outlinewidth\": 0, \"ticks\": \"\"}, \"colorscale\": [[0.0, \"#0d0887\"], [0.1111111111111111, \"#46039f\"], [0.2222222222222222, \"#7201a8\"], [0.3333333333333333, \"#9c179e\"], [0.4444444444444444, \"#bd3786\"], [0.5555555555555556, \"#d8576b\"], [0.6666666666666666, \"#ed7953\"], [0.7777777777777778, \"#fb9f3a\"], [0.8888888888888888, \"#fdca26\"], [1.0, \"#f0f921\"]], \"type\": \"heatmapgl\"}], \"histogram\": [{\"marker\": {\"colorbar\": {\"outlinewidth\": 0, \"ticks\": \"\"}}, \"type\": \"histogram\"}], \"histogram2d\": [{\"colorbar\": {\"outlinewidth\": 0, \"ticks\": \"\"}, \"colorscale\": [[0.0, \"#0d0887\"], [0.1111111111111111, \"#46039f\"], [0.2222222222222222, \"#7201a8\"], [0.3333333333333333, \"#9c179e\"], [0.4444444444444444, \"#bd3786\"], [0.5555555555555556, \"#d8576b\"], [0.6666666666666666, \"#ed7953\"], [0.7777777777777778, \"#fb9f3a\"], [0.8888888888888888, \"#fdca26\"], [1.0, \"#f0f921\"]], \"type\": \"histogram2d\"}], \"histogram2dcontour\": [{\"colorbar\": {\"outlinewidth\": 0, \"ticks\": \"\"}, \"colorscale\": [[0.0, \"#0d0887\"], [0.1111111111111111, \"#46039f\"], [0.2222222222222222, \"#7201a8\"], [0.3333333333333333, \"#9c179e\"], [0.4444444444444444, \"#bd3786\"], [0.5555555555555556, \"#d8576b\"], [0.6666666666666666, \"#ed7953\"], [0.7777777777777778, \"#fb9f3a\"], [0.8888888888888888, \"#fdca26\"], [1.0, \"#f0f921\"]], \"type\": \"histogram2dcontour\"}], \"mesh3d\": [{\"colorbar\": {\"outlinewidth\": 0, \"ticks\": \"\"}, \"type\": \"mesh3d\"}], \"parcoords\": [{\"line\": {\"colorbar\": {\"outlinewidth\": 0, \"ticks\": \"\"}}, \"type\": \"parcoords\"}], \"pie\": [{\"automargin\": true, \"type\": \"pie\"}], \"scatter\": [{\"marker\": {\"colorbar\": {\"outlinewidth\": 0, \"ticks\": \"\"}}, \"type\": \"scatter\"}], \"scatter3d\": [{\"line\": {\"colorbar\": {\"outlinewidth\": 0, \"ticks\": \"\"}}, \"marker\": {\"colorbar\": {\"outlinewidth\": 0, \"ticks\": \"\"}}, \"type\": \"scatter3d\"}], \"scattercarpet\": [{\"marker\": {\"colorbar\": {\"outlinewidth\": 0, \"ticks\": \"\"}}, \"type\": \"scattercarpet\"}], \"scattergeo\": [{\"marker\": {\"colorbar\": {\"outlinewidth\": 0, \"ticks\": \"\"}}, \"type\": \"scattergeo\"}], \"scattergl\": [{\"marker\": {\"colorbar\": {\"outlinewidth\": 0, \"ticks\": \"\"}}, \"type\": \"scattergl\"}], \"scattermapbox\": [{\"marker\": {\"colorbar\": {\"outlinewidth\": 0, \"ticks\": \"\"}}, \"type\": \"scattermapbox\"}], \"scatterpolar\": [{\"marker\": {\"colorbar\": {\"outlinewidth\": 0, \"ticks\": \"\"}}, \"type\": \"scatterpolar\"}], \"scatterpolargl\": [{\"marker\": {\"colorbar\": {\"outlinewidth\": 0, \"ticks\": \"\"}}, \"type\": \"scatterpolargl\"}], \"scatterternary\": [{\"marker\": {\"colorbar\": {\"outlinewidth\": 0, \"ticks\": \"\"}}, \"type\": \"scatterternary\"}], \"surface\": [{\"colorbar\": {\"outlinewidth\": 0, \"ticks\": \"\"}, \"colorscale\": [[0.0, \"#0d0887\"], [0.1111111111111111, \"#46039f\"], [0.2222222222222222, \"#7201a8\"], [0.3333333333333333, \"#9c179e\"], [0.4444444444444444, \"#bd3786\"], [0.5555555555555556, \"#d8576b\"], [0.6666666666666666, \"#ed7953\"], [0.7777777777777778, \"#fb9f3a\"], [0.8888888888888888, \"#fdca26\"], [1.0, \"#f0f921\"]], \"type\": \"surface\"}], \"table\": [{\"cells\": {\"fill\": {\"color\": \"#EBF0F8\"}, \"line\": {\"color\": \"white\"}}, \"header\": {\"fill\": {\"color\": \"#C8D4E3\"}, \"line\": {\"color\": \"white\"}}, \"type\": \"table\"}]}, \"layout\": {\"annotationdefaults\": {\"arrowcolor\": \"#2a3f5f\", \"arrowhead\": 0, \"arrowwidth\": 1}, \"coloraxis\": {\"colorbar\": {\"outlinewidth\": 0, \"ticks\": \"\"}}, \"colorscale\": {\"diverging\": [[0, \"#8e0152\"], [0.1, \"#c51b7d\"], [0.2, \"#de77ae\"], [0.3, \"#f1b6da\"], [0.4, \"#fde0ef\"], [0.5, \"#f7f7f7\"], [0.6, \"#e6f5d0\"], [0.7, \"#b8e186\"], [0.8, \"#7fbc41\"], [0.9, \"#4d9221\"], [1, \"#276419\"]], \"sequential\": [[0.0, \"#0d0887\"], [0.1111111111111111, \"#46039f\"], [0.2222222222222222, \"#7201a8\"], [0.3333333333333333, \"#9c179e\"], [0.4444444444444444, \"#bd3786\"], [0.5555555555555556, \"#d8576b\"], [0.6666666666666666, \"#ed7953\"], [0.7777777777777778, \"#fb9f3a\"], [0.8888888888888888, \"#fdca26\"], [1.0, \"#f0f921\"]], \"sequentialminus\": [[0.0, \"#0d0887\"], [0.1111111111111111, \"#46039f\"], [0.2222222222222222, \"#7201a8\"], [0.3333333333333333, \"#9c179e\"], [0.4444444444444444, \"#bd3786\"], [0.5555555555555556, \"#d8576b\"], [0.6666666666666666, \"#ed7953\"], [0.7777777777777778, \"#fb9f3a\"], [0.8888888888888888, \"#fdca26\"], [1.0, \"#f0f921\"]]}, \"colorway\": [\"#636efa\", \"#EF553B\", \"#00cc96\", \"#ab63fa\", \"#FFA15A\", \"#19d3f3\", \"#FF6692\", \"#B6E880\", \"#FF97FF\", \"#FECB52\"], \"font\": {\"color\": \"#2a3f5f\"}, \"geo\": {\"bgcolor\": \"white\", \"lakecolor\": \"white\", \"landcolor\": \"#E5ECF6\", \"showlakes\": true, \"showland\": true, \"subunitcolor\": \"white\"}, \"hoverlabel\": {\"align\": \"left\"}, \"hovermode\": \"closest\", \"mapbox\": {\"style\": \"light\"}, \"paper_bgcolor\": \"white\", \"plot_bgcolor\": \"#E5ECF6\", \"polar\": {\"angularaxis\": {\"gridcolor\": \"white\", \"linecolor\": \"white\", \"ticks\": \"\"}, \"bgcolor\": \"#E5ECF6\", \"radialaxis\": {\"gridcolor\": \"white\", \"linecolor\": \"white\", \"ticks\": \"\"}}, \"scene\": {\"xaxis\": {\"backgroundcolor\": \"#E5ECF6\", \"gridcolor\": \"white\", \"gridwidth\": 2, \"linecolor\": \"white\", \"showbackground\": true, \"ticks\": \"\", \"zerolinecolor\": \"white\"}, \"yaxis\": {\"backgroundcolor\": \"#E5ECF6\", \"gridcolor\": \"white\", \"gridwidth\": 2, \"linecolor\": \"white\", \"showbackground\": true, \"ticks\": \"\", \"zerolinecolor\": \"white\"}, \"zaxis\": {\"backgroundcolor\": \"#E5ECF6\", \"gridcolor\": \"white\", \"gridwidth\": 2, \"linecolor\": \"white\", \"showbackground\": true, \"ticks\": \"\", \"zerolinecolor\": \"white\"}}, \"shapedefaults\": {\"line\": {\"color\": \"#2a3f5f\"}}, \"ternary\": {\"aaxis\": {\"gridcolor\": \"white\", \"linecolor\": \"white\", \"ticks\": \"\"}, \"baxis\": {\"gridcolor\": \"white\", \"linecolor\": \"white\", \"ticks\": \"\"}, \"bgcolor\": \"#E5ECF6\", \"caxis\": {\"gridcolor\": \"white\", \"linecolor\": \"white\", \"ticks\": \"\"}}, \"title\": {\"x\": 0.05}, \"xaxis\": {\"automargin\": true, \"gridcolor\": \"white\", \"linecolor\": \"white\", \"ticks\": \"\", \"title\": {\"standoff\": 15}, \"zerolinecolor\": \"white\", \"zerolinewidth\": 2}, \"yaxis\": {\"automargin\": true, \"gridcolor\": \"white\", \"linecolor\": \"white\", \"ticks\": \"\", \"title\": {\"standoff\": 15}, \"zerolinecolor\": \"white\", \"zerolinewidth\": 2}}}, \"xaxis\": {\"anchor\": \"y\", \"domain\": [0.0, 0.45], \"title\": {\"text\": \"Epoch\"}}, \"xaxis2\": {\"anchor\": \"y2\", \"domain\": [0.55, 1.0], \"title\": {\"text\": \"Epoch\"}}, \"yaxis\": {\"anchor\": \"x\", \"domain\": [0.0, 1.0], \"range\": [0, 1], \"title\": {\"text\": \"Accuracy\"}}, \"yaxis2\": {\"anchor\": \"x2\", \"domain\": [0.0, 1.0], \"range\": [0, 1], \"title\": {\"text\": \"Loss\"}}},\n",
       "                        {\"responsive\": true}\n",
       "                    ).then(function(){\n",
       "                            \n",
       "var gd = document.getElementById('a60ee125-47fc-4eff-931e-2d0c0fe59d97');\n",
       "var x = new MutationObserver(function (mutations, observer) {{\n",
       "        var display = window.getComputedStyle(gd).display;\n",
       "        if (!display || display === 'none') {{\n",
       "            console.log([gd, 'removed!']);\n",
       "            Plotly.purge(gd);\n",
       "            observer.disconnect();\n",
       "        }}\n",
       "}});\n",
       "\n",
       "// Listen for the removal of the full notebook cells\n",
       "var notebookContainer = gd.closest('#notebook-container');\n",
       "if (notebookContainer) {{\n",
       "    x.observe(notebookContainer, {childList: true});\n",
       "}}\n",
       "\n",
       "// Listen for the clearing of the current output cell\n",
       "var outputEl = gd.closest('.output');\n",
       "if (outputEl) {{\n",
       "    x.observe(outputEl, {childList: true});\n",
       "}}\n",
       "\n",
       "                        })\n",
       "                };\n",
       "                });\n",
       "            </script>\n",
       "        </div>"
      ]
     },
     "metadata": {},
     "output_type": "display_data"
    },
    {
     "name": "stdout",
     "output_type": "stream",
     "text": [
      "================================ EVALUATE MODEL ================================\n",
      "10000/10000 [==============================] - 0s 40us/sample - loss: 2.0820 - accuracy: 0.1824\n",
      "================================ PREDICITION ================================\n",
      "Predicted percent 18.240000000000002 %\n",
      "================================ PLOT PREDICITION ================================\n"
     ]
    },
    {
     "data": {
      "image/png": "[encoded data removed]",
      "text/plain": [
       "<Figure size 1080x1080 with 20 Axes>"
      ]
     },
     "metadata": {},
     "output_type": "display_data"
    },
    {
     "name": "stdout",
     "output_type": "stream",
     "text": [
      "================================ SAVE MODEL ================================\n",
      "INFO:tensorflow:Assets written to: D:\\Models\\model_run_10_02_2020_19-30-29_700569\\assets\n",
      "================================ GENERATE CSV HYPERPARAMS ================================\n"
     ]
    }
   ],
   "source": [
    "main()"
   ]
  },
  {
   "cell_type": "code",
   "execution_count": null,
   "metadata": {},
   "outputs": [],
   "source": []
  },
  {
   "cell_type": "code",
   "execution_count": null,
   "metadata": {},
   "outputs": [],
   "source": []
  }
 ],
 "metadata": {
  "kernelspec": {
   "display_name": "Python 3",
   "language": "python",
   "name": "python3"
  },
  "language_info": {
   "codemirror_mode": {
    "name": "ipython",
    "version": 3
   },
   "file_extension": ".py",
   "mimetype": "text/x-python",
   "name": "python",
   "nbconvert_exporter": "python",
   "pygments_lexer": "ipython3",
   "version": "3.6.9"
  }
 },
 "nbformat": 4,
 "nbformat_minor": 4
}
