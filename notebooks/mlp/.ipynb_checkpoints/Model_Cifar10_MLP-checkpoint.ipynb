{
 "cells": [
  {
   "cell_type": "markdown",
   "metadata": {},
   "source": [
    "<h1 style=\"color:#987753\"><center>============= IMPORT DEPANDENCIES =============</center></h1>"
   ]
  },
  {
   "cell_type": "code",
   "execution_count": 1,
   "metadata": {},
   "outputs": [],
   "source": [
    "import tensorflow as tf\n",
    "import numpy as np\n",
    "from random import shuffle\n",
    "from tensorflow.keras.datasets import cifar10\n",
    "from tensorflow.keras.preprocessing.image import ImageDataGenerator\n",
    "from tensorflow.keras.models import Sequential\n",
    "from tensorflow.keras.layers import Dense, Dropout, Activation, Flatten\n",
    "from tensorflow.keras.optimizers import Adam\n",
    "from tensorflow.keras import regularizers\n",
    "from matplotlib import pyplot as plt\n",
    "import time\n",
    "from tensorflow.keras.utils import plot_model\n",
    "import random\n",
    "from datetime import datetime\n",
    "from datetime import date\n",
    "from random import randint\n",
    "from tensorflow.keras.callbacks import TensorBoard\n",
    "import pandas as pd\n",
    "import csv\n",
    "import os\n",
    "from plotly import tools\n",
    "%matplotlib inline \n",
    "import plotly.graph_objs as go\n",
    "import plotly.figure_factory as ff\n",
    "import plotly\n",
    "from plotly import tools\n",
    "from plotly.offline import download_plotlyjs, init_notebook_mode, plot, iplot"
   ]
  },
  {
   "cell_type": "markdown",
   "metadata": {},
   "source": [
    "<h1 style=\"color:#987753\"><center>============= UTILS FUNCTION =============</center></h1>"
   ]
  },
  {
   "cell_type": "code",
   "execution_count": 100,
   "metadata": {},
   "outputs": [],
   "source": [
    "def getTime():\n",
    "    \n",
    "    now = datetime.now()\n",
    "    current_time = now.strftime(\"%H-%M-%S\")\n",
    "    today = str(date.today()).split('-')\n",
    "    today = today[2]+\"_\"+today[1]+\"_\"+today[0]\n",
    "    runTime = (\"%s_%s\" %(today,current_time))\n",
    "    return runTime"
   ]
  },
  {
   "cell_type": "code",
   "execution_count": 3,
   "metadata": {},
   "outputs": [],
   "source": [
    "def logName():\n",
    "    \n",
    "    NAME = \"ModelCifar10_MLP_\"+str(ID)+\"_\"+getTime()\n",
    "    return NAME"
   ]
  },
  {
   "cell_type": "code",
   "execution_count": 69,
   "metadata": {},
   "outputs": [],
   "source": [
    "def hyperParams():\n",
    "    \n",
    "    #model.add(Dense(64, input_dim=64, kernel_regularizer=regularizers.l2(0.01), activity_regularizer=regularizers.l1(0.01)))\n",
    "    \n",
    "    modelParams = {\"Layers\":[#{\"neurons\":10 , \"activation\":\"relu\",\"dropOut\":False, \"kernel_regularizer\":\"regularizers.l1(0.0001)\", \"activity_regularizer\":False},\n",
    "                    {\"neurons\":46 , \"activation\":\"relu\", \"dropOut\":False, \"kernel_regularizer\":False, \"activity_regularizer\":False},\n",
    "                    {\"neurons\":2500 , \"activation\":\"relu\", \"dropOut\":False, \"kernel_regularizer\":False, \"activity_regularizer\":False},\n",
    "                    {\"neurons\":10, \"activation\":\"softmax\", \"dropOut\":False, \"kernel_regularizer\":False, \"activity_regularizer\":False}],\n",
    "                   \"loss\":\"categorical_crossentropy\",\n",
    "                   \"optimizer\":\"Adam(lr=0.001)\",\n",
    "                   \"metrics\":\"accuracy\",\n",
    "                   \"learningRate\":.001,\n",
    "                   \"epochs\":30,\n",
    "                   \"batchSize\":500,\n",
    "                   \"testName\":\"Regu\"\n",
    "                 }\n",
    "    return modelParams"
   ]
  },
  {
   "cell_type": "code",
   "execution_count": 70,
   "metadata": {},
   "outputs": [],
   "source": [
    "def humainesLabels(position):\n",
    "    labels = ['airplane', 'automobile', 'bird', 'cat', 'deer',\n",
    "               'dog', 'frog', 'horse', 'ship', 'truck']\n",
    "    return labels[position]"
   ]
  },
  {
   "cell_type": "code",
   "execution_count": 71,
   "metadata": {},
   "outputs": [],
   "source": [
    "def humanizeTime(secs):\n",
    "    mins, secs = divmod(secs, 60)\n",
    "    hours, mins = divmod(mins, 60)\n",
    "    return ('RUN TIME : %02d:%02d:%02d' % (hours, mins, secs))"
   ]
  },
  {
   "cell_type": "code",
   "execution_count": 72,
   "metadata": {},
   "outputs": [],
   "source": [
    "def loadData():\n",
    "    \n",
    "    (trainImages, trainLabels), (testImages, testLabels) = cifar10.load_data()\n",
    "    trainImages, testImages = trainImages / 255.0, testImages / 255.0\n",
    "    yTrain = testLabels\n",
    "    return trainImages, testImages, trainLabels, testLabels\n"
   ]
  },
  {
   "cell_type": "code",
   "execution_count": 73,
   "metadata": {},
   "outputs": [],
   "source": [
    "def plotFigure(images=False, labels=False, nbSamples=0, size=10):\n",
    "    \n",
    "    plt.figure(figsize=(size, size))\n",
    "    for i in range(nbSamples):\n",
    "        plt.subplot(5,5,i+1)\n",
    "        plt.xticks([])\n",
    "        plt.yticks([])\n",
    "        plt.grid(False)\n",
    "        plt.imshow(images[i], cmap=plt.cm.binary)\n",
    "       \n",
    "        plt.xlabel(humainesLabels(labels[i][0]))\n",
    "    plt.show()\n",
    "    "
   ]
  },
  {
   "cell_type": "markdown",
   "metadata": {},
   "source": [
    "<h1 style=\"color:#987753\"><center>============= INIT MODEL =============</center></h1>"
   ]
  },
  {
   "cell_type": "code",
   "execution_count": 74,
   "metadata": {},
   "outputs": [],
   "source": [
    "def oneHoteEncoding(trainLabels, testLabels):\n",
    "    \n",
    "    trainLabels = tf.keras.utils.to_categorical(trainLabels)\n",
    "    testLabels = tf.keras.utils.to_categorical(testLabels)\n",
    "    \n",
    "    return trainLabels, testLabels\n"
   ]
  },
  {
   "cell_type": "code",
   "execution_count": 75,
   "metadata": {},
   "outputs": [],
   "source": [
    "def createModel(params):\n",
    "    \n",
    "    model = Sequential()\n",
    "\n",
    "    model.add(Flatten(input_shape=(32, 32, 3)))\n",
    "    for layers in params['Layers']:\n",
    "        \n",
    "        # ================ If kernel_regu & activity_regu == False ==============\n",
    "        if (layers['kernel_regularizer'] == False) and (layers['activity_regularizer'] == False):\n",
    "            model.add(Dense(layers['neurons'], activation=layers['activation']))\n",
    "        # ============================== End False ==============================\n",
    "        \n",
    "        # ================ If kernel_regu & activity_regu True ==============\n",
    "        elif (layers['kernel_regularizer'] == True) and (layers['activity_regularizer'] == True):\n",
    "            model.add(Dense(layers['neurons'], activation=layers['activation'], kernel_regularizer=layers['kernel_regularizer'], activity_regularizer=layers['activity_regularizer']))\n",
    "        \n",
    "        # ================ If kernel_regu = True ==============\n",
    "        elif (layers['kernel_regularizer'] == True) and (layers['activity_regularizer'] == False):\n",
    "            model.add(Dense(layers['neurons'], activation=layers['activation'], kernel_regularizer=layers['kernel_regularizer']))\n",
    "        \n",
    "        # ================ If kernel_regu & activity_regu True ==============\n",
    "        elif (layers['kernel_regularizer'] == False) and (layers['activity_regularizer'] == True):\n",
    "            model.add(Dense(layers['neurons'], activation=layers['activation'], activity_regularizer=layers['activity_regularizer']))\n",
    "            \n",
    "        # ================ If dropout ==============\n",
    "        if (layers['dropOut'] != False):\n",
    "            model.add(Dropout(layers['dropOut']))\n",
    "    \n",
    "    opt = Adam(lr=0.001, beta_1=0.9)\n",
    "    model.compile(loss=params['loss'],\n",
    "                   optimizer=opt,\n",
    "                   metrics=['accuracy'])\n",
    "    \n",
    "    model.summary()\n",
    "    return model\n"
   ]
  },
  {
   "cell_type": "markdown",
   "metadata": {},
   "source": [
    "<h1 style=\"color:#987753\"><center>============= TRAIN MODEL =============</center></h1>"
   ]
  },
  {
   "cell_type": "code",
   "execution_count": 76,
   "metadata": {},
   "outputs": [],
   "source": [
    "def reshapeInput(trainImages, testImages):\n",
    "    \n",
    "    trainImages.reshape(trainImages.shape[0], trainImages.shape[1] * trainImages.shape[2] * trainImages.shape[3]) #\n",
    "    testImages.reshape(testImages.shape[0], testImages.shape[1] * testImages.shape[2] * testImages.shape[3]) #\n",
    "    \n",
    "    return trainImages, testImages\n"
   ]
  },
  {
   "cell_type": "code",
   "execution_count": 77,
   "metadata": {},
   "outputs": [],
   "source": [
    "def fitModel(model, params, trainImages, trainLabels, testImges, testLabels):\n",
    "    \n",
    "    start_time = time.time()\n",
    "    tensorboard = TensorBoard(log_dir='D:\\logsProject\\{}'.format(logName()))\n",
    "    ################################ CALCULATE RUNTIME - START ###############################\n",
    "    history = model.fit(trainImages, trainLabels,\n",
    "                       epochs=params['epochs'],\n",
    "                       batch_size=params['batchSize'], verbose=1, callbacks=[tensorboard], validation_data=(testImges, testLabels))\n",
    "    ################################ CALCULATE RUNTIME - END ###############################\n",
    "    print(humanizeTime(time.time() - start_time))\n",
    "    return model, humanizeTime(time.time() - start_time), history"
   ]
  },
  {
   "cell_type": "markdown",
   "metadata": {},
   "source": [
    "<h1 style=\"color:#987753\"><center>============= EVALUATE MODEL =============</center></h1>"
   ]
  },
  {
   "cell_type": "code",
   "execution_count": 78,
   "metadata": {},
   "outputs": [],
   "source": [
    "def evaluateModel(model, testImages, testLabels):\n",
    "    \n",
    "    return model.evaluate(testImages, testLabels, batch_size=50)\n"
   ]
  },
  {
   "cell_type": "markdown",
   "metadata": {},
   "source": [
    "<h1 style=\"color:#987753\"><center>============= PREDICT =============</center></h1>"
   ]
  },
  {
   "cell_type": "code",
   "execution_count": 79,
   "metadata": {},
   "outputs": [],
   "source": [
    "def predictionPercent(model, testImages, testLabels):\n",
    "    \n",
    "    prediction = model.predict(testImages)\n",
    "    predicted = []\n",
    "    for i in range(len(prediction)):\n",
    "        if np.argmax(testLabels[i]) == np.argmax(prediction[i]):\n",
    "            predicted.append(1)\n",
    "        else:\n",
    "            predicted.append(0)\n",
    "    print(\"Predicted percent {} %\".format((sum(predicted)/(len(predicted)) * 100)))\n",
    "    result = (sum(predicted)/len(predicted)) * 100\n",
    "    \n",
    "    return prediction, result"
   ]
  },
  {
   "cell_type": "code",
   "execution_count": 80,
   "metadata": {},
   "outputs": [],
   "source": [
    "def plotPredictedResult(prediction, testImages, testLabels):\n",
    "    \n",
    "    plt.figure(figsize=(15, 15))\n",
    "    for i in range(20):\n",
    "        plt.subplot(5,7,i+1)\n",
    "        plt.xticks([])\n",
    "        plt.yticks([])\n",
    "        plt.grid(False)\n",
    "        plt.imshow(testImages[i])\n",
    "        plt.xlabel(\"True: \"+humainesLabels(np.argmax(testLabels[i]))+\"\\n\\n\\n\")\n",
    "        plt.title(\"\\nPredicted: \"+humainesLabels(np.argmax(prediction[i])))\n",
    "        \n",
    "    plt.show()"
   ]
  },
  {
   "cell_type": "markdown",
   "metadata": {},
   "source": [
    "<h1 style=\"color:#987753\"><center>============= PLOT ACCURACY AND LOSS =============</center></h1>"
   ]
  },
  {
   "cell_type": "code",
   "execution_count": 94,
   "metadata": {},
   "outputs": [],
   "source": [
    "def trace(x,y,imagesLabels,color):\n",
    "        trace = go.Scatter(\n",
    "            x = x,y = y,\n",
    "            name=imagesLabels,\n",
    "            marker=dict(color=color),\n",
    "            mode = \"markers+lines\",\n",
    "            text=x\n",
    "        )\n",
    "        return trace\n",
    "\n",
    "def plotAccLoss(model):\n",
    "    \n",
    "    hist = model.history\n",
    "    acc = hist['accuracy']\n",
    "    valAcc = hist['val_accuracy']\n",
    "    loss = hist['loss']\n",
    "    valLoss = hist['val_loss']\n",
    "\n",
    "    epochs = list(range(1,len(acc)+1))\n",
    "\n",
    "    traceA = trace(epochs,acc,\"Training accuracy\", \"Green\")\n",
    "    traceVa = trace(epochs,valAcc,\"Validation accuracy\", \"Red\")\n",
    "    traceL = trace(epochs,loss,\"Training loss\", \"Blue\")\n",
    "    traceVl = trace(epochs,valLoss,\"Validation loss\", \"Magenta\")\n",
    "\n",
    "    fig = plotly.subplots.make_subplots(rows=1,cols=2, subplot_titles=('Training and validation accuracy',\n",
    "                                                             'Training and validation loss'))\n",
    "    fig.append_trace(traceA,1,1)\n",
    "    fig.append_trace(traceVa,1,1)\n",
    "    fig.append_trace(traceL,1,1)\n",
    "    fig.append_trace(traceVl,1,1)\n",
    "    fig['layout']['xaxis'].update(title = 'Epoch')\n",
    "    fig['layout']['xaxis2'].update(title = 'Epoch')\n",
    "    fig['layout']['yaxis'].update(title = 'Accuracy', range=[0,1])\n",
    "    fig['layout']['yaxis2'].update(title = 'Loss', range=[0,1])\n",
    "\n",
    "\n",
    "    iplot(fig, filename='accuracy-loss')"
   ]
  },
  {
   "cell_type": "markdown",
   "metadata": {},
   "source": [
    "<h1 style=\"color:#987753\"><center>============= SAVE MODEL =============</center></h1>"
   ]
  },
  {
   "cell_type": "code",
   "execution_count": 95,
   "metadata": {},
   "outputs": [],
   "source": [
    "def saveModel(model, ID):\n",
    "    \n",
    "    now = datetime.now()\n",
    "    current_time = now.strftime(\"%H-%M-%S\")\n",
    "    today = str(date.today()).split('-')\n",
    "    today = today[2]+\"_\"+today[1]+\"_\"+today[0]\n",
    "    runTime = (\"%s_%s\" %(today,current_time))\n",
    "    model.save('D:\\Models\\model_run_'+runTime+\"_\"+str(ID))\n"
   ]
  },
  {
   "cell_type": "code",
   "execution_count": 96,
   "metadata": {},
   "outputs": [],
   "source": [
    "def readLogFile(path=\"D:/LogsProject/hyperParams/finalRecap.csv\", cols=None):\n",
    "    \n",
    "    try:\n",
    "        \n",
    "        df = pd.read_csv(path, sep=\";\" ,encoding='utf-8')\n",
    "        return df, path\n",
    "    \n",
    "    except Exception as e:\n",
    "        \n",
    "        print('-Erorr file not found, it will be created now... \\n-Error tracback : %s' %(e))\n",
    "        f = open(path, \"w\")\n",
    "        writer = csv.DictWriter(f, fieldnames=cols)\n",
    "        writer.writeheader()\n",
    "        f.close()\n",
    "        df = pd.read_csv(path, sep=\",\" ,encoding='utf-8')\n",
    "        return df, path"
   ]
  },
  {
   "cell_type": "code",
   "execution_count": 97,
   "metadata": {},
   "outputs": [],
   "source": [
    "def generateExcelParams(params, history, resultEV, runTime):\n",
    "    \n",
    "    pass\n",
    "\n",
    "    params['indiv_id'] = ID\n",
    "    params['Layers'] = ';'.join(str(dict_) for dict_ in params['Layers'])\n",
    "    params['valAccuracy'] = resultEV[1]\n",
    "    params['valLoss'] = resultEV[0]\n",
    "    params['trainAccuracy'] = round(history.history['accuracy'][params['epochs']-1].item(), 3)\n",
    "    params['trainLoss'] = round(history.history['loss'][params['epochs']-1].item(), 3)\n",
    "    params['runTime'] = runTime.split(' ')[3]\n",
    "    \n",
    "    \n",
    "    dictToCsv = dict()\n",
    "    for key, value in zip(params.keys(), params.values()):\n",
    "        \n",
    "        tmp = []\n",
    "        tmp.append(value)\n",
    "        dictToCsv[key] = tmp\n",
    "    \n",
    "    \n",
    "    df = pd.DataFrame(dictToCsv, columns=params.keys())\n",
    "    mainDirectory = os.getcwd() + \"\\\\logs\\\\mlp\\\\logs_\" + getTime()+\"\\\\\"\n",
    "    os.mkdir(mainDirectory)\n",
    "    df.to_csv(mainDirectory+\"combined_recap.csv\", sep=\";\", index=None, header=True)\n",
    "#     logFile, path = readLogFile(cols=params.keys())\n",
    "#     dfMerged = pd.concat([logFile, df], ignore_index=True)\n",
    "#     os.remove(path)\n",
    "#     dfMerged.to_csv(path, sep=\";\", index=None, header=True)\n",
    "\n",
    "#     return dfMerged"
   ]
  },
  {
   "cell_type": "code",
   "execution_count": 98,
   "metadata": {},
   "outputs": [],
   "source": [
    "def main():\n",
    "    \n",
    "    global ID\n",
    "    ID = random.randint(1,1000000)\n",
    "    print(\"================================ ID RUN %s ================================\" % (ID))\n",
    "    params = hyperParams()\n",
    "    (trainImages, testImages, trainLabels, testLabels) = loadData()\n",
    "    \n",
    "    yTest = testLabels\n",
    "    print(\"================================ SHAPE ================================\")\n",
    "    print(\"\\t- NB TRAIN SAMPLES %s WIDTH %s HEIGHT %s COLOR %s\" % (trainImages.shape))\n",
    "    print(\"\\t- NB TEST SAMPLES %s WIDTH %s HEIGHT %s COLOR %s\" % (testImages.shape))\n",
    "    \n",
    "    print(\"================================ PLOT FIGURE ================================\")\n",
    "    plotFigure(trainImages, trainLabels, nbSamples=25)\n",
    "    \n",
    "    print(\"================================ ONEHOT ENCODING ================================\")\n",
    "    trainLabels, testLabels = oneHoteEncoding(trainLabels, testLabels)\n",
    "    \n",
    "    print(\"================================ CREATE MODEL ================================\")\n",
    "    model = createModel(params)\n",
    "    \n",
    "    plot_model(model, \"model_\"+str(ID)+\"_.png\")\n",
    "    \n",
    "    print(\"================================ RESHAPE INPUTS ================================\")\n",
    "    trainImages, testImages = reshapeInput(trainImages, testImages)\n",
    "    \n",
    "    print(\"================================ FIT MODEL ================================\")\n",
    "    model, runTime, history = fitModel(model, params, trainImages, trainLabels, testImages, testLabels)\n",
    "    \n",
    "    print(\"================================ PLOT ACCURACY AND LOSS ================================\")\n",
    "    plotAccLoss(history)\n",
    "    \n",
    "    print(\"================================ EVALUATE MODEL ================================\")\n",
    "    resultEV = evaluateModel(model, testImages, testLabels)\n",
    "    \n",
    "    print(\"================================ PREDICITION ================================\")\n",
    "    prediction, result = predictionPercent(model, testImages, testLabels)\n",
    "    \n",
    "    print(\"================================ PLOT PREDICITION ================================\")\n",
    "    plotPredictedResult(prediction, testImages, testLabels)\n",
    "    \n",
    "    print(\"================================ SAVE MODEL ================================\")\n",
    "    saveModel(model, ID)\n",
    "    \n",
    "    print(\"================================ GENERATE CSV HYPERPARAMS ================================\")\n",
    "    jsonDf = generateExcelParams(params, history, resultEV, runTime)"
   ]
  },
  {
   "cell_type": "code",
   "execution_count": 99,
   "metadata": {},
   "outputs": [
    {
     "name": "stdout",
     "output_type": "stream",
     "text": [
      "================================ ID RUN 459710 ================================\n",
      "================================ SHAPE ================================\n",
      "\t- NB TRAIN SAMPLES 50000 WIDTH 32 HEIGHT 32 COLOR 3\n",
      "\t- NB TEST SAMPLES 10000 WIDTH 32 HEIGHT 32 COLOR 3\n",
      "================================ PLOT FIGURE ================================\n"
     ]
    },
    {
     "data": {
      "image/png": "[encoded data removed]",
      "text/plain": [
       "<Figure size 720x720 with 25 Axes>"
      ]
     },
     "metadata": {},
     "output_type": "display_data"
    },
    {
     "name": "stdout",
     "output_type": "stream",
     "text": [
      "================================ ONEHOT ENCODING ================================\n",
      "================================ CREATE MODEL ================================\n",
      "Model: \"sequential_9\"\n",
      "_________________________________________________________________\n",
      "Layer (type)                 Output Shape              Param #   \n",
      "=================================================================\n",
      "flatten_9 (Flatten)          (None, 3072)              0         \n",
      "_________________________________________________________________\n",
      "dense_23 (Dense)             (None, 46)                141358    \n",
      "_________________________________________________________________\n",
      "dense_24 (Dense)             (None, 2500)              117500    \n",
      "_________________________________________________________________\n",
      "dense_25 (Dense)             (None, 10)                25010     \n",
      "=================================================================\n",
      "Total params: 283,868\n",
      "Trainable params: 283,868\n",
      "Non-trainable params: 0\n",
      "_________________________________________________________________\n",
      "================================ RESHAPE INPUTS ================================\n",
      "================================ FIT MODEL ================================\n",
      "Train on 50000 samples, validate on 10000 samples\n",
      "Epoch 1/30\n",
      "50000/50000 [==============================] - 3s 52us/sample - loss: 1.9040 - accuracy: 0.3131 - val_loss: 1.7631 - val_accuracy: 0.3595\n",
      "Epoch 2/30\n",
      "50000/50000 [==============================] - 3s 50us/sample - loss: 1.7182 - accuracy: 0.3852 - val_loss: 1.6686 - val_accuracy: 0.4005\n",
      "Epoch 3/30\n",
      "50000/50000 [==============================] - 3s 54us/sample - loss: 1.6433 - accuracy: 0.4125 - val_loss: 1.6327 - val_accuracy: 0.4196\n",
      "Epoch 4/30\n",
      "50000/50000 [==============================] - 2s 48us/sample - loss: 1.5969 - accuracy: 0.4305 - val_loss: 1.5675 - val_accuracy: 0.4451\n",
      "Epoch 5/30\n",
      "50000/50000 [==============================] - 2s 47us/sample - loss: 1.5351 - accuracy: 0.4504 - val_loss: 1.5390 - val_accuracy: 0.4469\n",
      "Epoch 6/30\n",
      "50000/50000 [==============================] - 2s 46us/sample - loss: 1.5060 - accuracy: 0.4619 - val_loss: 1.5320 - val_accuracy: 0.4580\n",
      "Epoch 7/30\n",
      "50000/50000 [==============================] - 3s 52us/sample - loss: 1.4741 - accuracy: 0.4721 - val_loss: 1.4664 - val_accuracy: 0.4800- loss: 1.4764 - \n",
      "Epoch 8/30\n",
      "50000/50000 [==============================] - 3s 58us/sample - loss: 1.4572 - accuracy: 0.4790 - val_loss: 1.4922 - val_accuracy: 0.4702\n",
      "Epoch 9/30\n",
      "50000/50000 [==============================] - 3s 58us/sample - loss: 1.4326 - accuracy: 0.4894 - val_loss: 1.4780 - val_accuracy: 0.4716\n",
      "Epoch 10/30\n",
      "50000/50000 [==============================] - 3s 58us/sample - loss: 1.4159 - accuracy: 0.4976 - val_loss: 1.4844 - val_accuracy: 0.4695\n",
      "Epoch 11/30\n",
      "50000/50000 [==============================] - 3s 56us/sample - loss: 1.3954 - accuracy: 0.5016 - val_loss: 1.4470 - val_accuracy: 0.4847\n",
      "Epoch 12/30\n",
      "50000/50000 [==============================] - 3s 56us/sample - loss: 1.3760 - accuracy: 0.5090 - val_loss: 1.4552 - val_accuracy: 0.4842\n",
      "Epoch 13/30\n",
      "50000/50000 [==============================] - 3s 60us/sample - loss: 1.3647 - accuracy: 0.5148 - val_loss: 1.4355 - val_accuracy: 0.4882\n",
      "Epoch 14/30\n",
      "50000/50000 [==============================] - 3s 62us/sample - loss: 1.3526 - accuracy: 0.5169 - val_loss: 1.4432 - val_accuracy: 0.4864\n",
      "Epoch 15/30\n",
      "50000/50000 [==============================] - 3s 60us/sample - loss: 1.3361 - accuracy: 0.5231 - val_loss: 1.4056 - val_accuracy: 0.5022\n",
      "Epoch 16/30\n",
      "50000/50000 [==============================] - 3s 65us/sample - loss: 1.3316 - accuracy: 0.5260 - val_loss: 1.4092 - val_accuracy: 0.5026\n",
      "Epoch 17/30\n",
      "50000/50000 [==============================] - 3s 64us/sample - loss: 1.3051 - accuracy: 0.5356 - val_loss: 1.3947 - val_accuracy: 0.5055\n",
      "Epoch 18/30\n",
      "50000/50000 [==============================] - 3s 59us/sample - loss: 1.2973 - accuracy: 0.5403 - val_loss: 1.3968 - val_accuracy: 0.5075\n",
      "Epoch 19/30\n",
      "50000/50000 [==============================] - 3s 57us/sample - loss: 1.2849 - accuracy: 0.5443 - val_loss: 1.4016 - val_accuracy: 0.5002\n",
      "Epoch 20/30\n",
      "50000/50000 [==============================] - 3s 60us/sample - loss: 1.2767 - accuracy: 0.5448 - val_loss: 1.4051 - val_accuracy: 0.5053\n",
      "Epoch 21/30\n",
      "50000/50000 [==============================] - 3s 52us/sample - loss: 1.2674 - accuracy: 0.5496 - val_loss: 1.4164 - val_accuracy: 0.5004\n",
      "Epoch 22/30\n",
      "50000/50000 [==============================] - 2s 50us/sample - loss: 1.2436 - accuracy: 0.5598 - val_loss: 1.3909 - val_accuracy: 0.5068\n",
      "Epoch 23/30\n",
      "50000/50000 [==============================] - 3s 52us/sample - loss: 1.2360 - accuracy: 0.5611 - val_loss: 1.4433 - val_accuracy: 0.4930\n",
      "Epoch 24/30\n",
      "50000/50000 [==============================] - 3s 52us/sample - loss: 1.2317 - accuracy: 0.5619 - val_loss: 1.4287 - val_accuracy: 0.4926\n",
      "Epoch 25/30\n",
      "50000/50000 [==============================] - 3s 55us/sample - loss: 1.2277 - accuracy: 0.5623 - val_loss: 1.3862 - val_accuracy: 0.5097\n",
      "Epoch 26/30\n",
      "50000/50000 [==============================] - 3s 52us/sample - loss: 1.2057 - accuracy: 0.5716 - val_loss: 1.3746 - val_accuracy: 0.5108\n",
      "Epoch 27/30\n",
      "50000/50000 [==============================] - 3s 52us/sample - loss: 1.2034 - accuracy: 0.5715 - val_loss: 1.3768 - val_accuracy: 0.5161\n",
      "Epoch 28/30\n",
      "50000/50000 [==============================] - 3s 52us/sample - loss: 1.1922 - accuracy: 0.5743 - val_loss: 1.3774 - val_accuracy: 0.5154\n",
      "Epoch 29/30\n",
      "50000/50000 [==============================] - 3s 53us/sample - loss: 1.1838 - accuracy: 0.5781 - val_loss: 1.3768 - val_accuracy: 0.5198\n",
      "Epoch 30/30\n",
      "50000/50000 [==============================] - 2s 49us/sample - loss: 1.1738 - accuracy: 0.5841 - val_loss: 1.3952 - val_accuracy: 0.5091\n",
      "RUN TIME : 00:01:22\n",
      "================================ EVALUATE MODEL ================================\n",
      "10000/10000 [==============================] - 1s 53us/sample - loss: 1.3952 - accuracy: 0.5091\n",
      "================================ PREDICITION ================================\n",
      "Predicted percent 50.91 %\n",
      "================================ PLOT PREDICITION ================================\n"
     ]
    },
    {
     "data": {
      "application/vnd.plotly.v1+json": {
       "config": {
        "linkText": "Export to plot.ly",
        "plotlyServerURL": "https://plot.ly",
        "showLink": false
       },
       "data": [
        {
         "marker": {
          "color": "Blue"
         },
         "mode": "markers+lines",
         "name": "Training loss",
         "text": [
          "1",
          "2",
          "3",
          "4",
          "5",
          "6",
          "7",
          "8",
          "9",
          "10",
          "11",
          "12",
          "13",
          "14",
          "15",
          "16",
          "17",
          "18",
          "19",
          "20",
          "21",
          "22",
          "23",
          "24",
          "25",
          "26",
          "27",
          "28",
          "29",
          "30"
         ],
         "type": "scatter",
         "x": [
          1,
          2,
          3,
          4,
          5,
          6,
          7,
          8,
          9,
          10,
          11,
          12,
          13,
          14,
          15,
          16,
          17,
          18,
          19,
          20,
          21,
          22,
          23,
          24,
          25,
          26,
          27,
          28,
          29,
          30
         ],
         "xaxis": "x",
         "y": [
          1.9040047526359558,
          1.7181692683696748,
          1.6432639563083649,
          1.596891736984253,
          1.5350787615776063,
          1.506019492149353,
          1.4741011142730713,
          1.457247133255005,
          1.4325884401798248,
          1.4159060156345367,
          1.3954035568237304,
          1.3759704625606537,
          1.3646672654151917,
          1.3525507545471191,
          1.336092460155487,
          1.3315692603588105,
          1.3051327466964722,
          1.2973080492019653,
          1.2848516643047332,
          1.2767459309101106,
          1.267423437833786,
          1.243632880449295,
          1.236041247844696,
          1.2317339825630187,
          1.2276517343521118,
          1.2057167422771453,
          1.2033606719970704,
          1.1922093307971955,
          1.1837509036064149,
          1.173824200630188
         ],
         "yaxis": "y"
        },
        {
         "marker": {
          "color": "Magenta"
         },
         "mode": "markers+lines",
         "name": "Validation loss",
         "text": [
          "1",
          "2",
          "3",
          "4",
          "5",
          "6",
          "7",
          "8",
          "9",
          "10",
          "11",
          "12",
          "13",
          "14",
          "15",
          "16",
          "17",
          "18",
          "19",
          "20",
          "21",
          "22",
          "23",
          "24",
          "25",
          "26",
          "27",
          "28",
          "29",
          "30"
         ],
         "type": "scatter",
         "x": [
          1,
          2,
          3,
          4,
          5,
          6,
          7,
          8,
          9,
          10,
          11,
          12,
          13,
          14,
          15,
          16,
          17,
          18,
          19,
          20,
          21,
          22,
          23,
          24,
          25,
          26,
          27,
          28,
          29,
          30
         ],
         "xaxis": "x",
         "y": [
          1.7630696952342988,
          1.6686229705810547,
          1.6327438831329346,
          1.5675210297107696,
          1.5390439748764038,
          1.531980323791504,
          1.466368740797043,
          1.4921717524528504,
          1.477972936630249,
          1.4843905031681062,
          1.4469844281673432,
          1.4552002668380737,
          1.4355004370212554,
          1.4432047188282013,
          1.405613398551941,
          1.4092256903648377,
          1.3947002589702606,
          1.3967576980590821,
          1.4016299188137054,
          1.4050784468650819,
          1.416444832086563,
          1.3908888101577759,
          1.4433043122291564,
          1.4287293314933778,
          1.3862477362155914,
          1.3745533347129821,
          1.3768045485019684,
          1.3774474740028382,
          1.3768217384815216,
          1.3952380836009979
         ],
         "yaxis": "y"
        }
       ],
       "layout": {
        "annotations": [
         {
          "font": {
           "size": 16
          },
          "showarrow": false,
          "text": "Training and validation accuracy",
          "x": 0.225,
          "xanchor": "center",
          "xref": "paper",
          "y": 1,
          "yanchor": "bottom",
          "yref": "paper"
         },
         {
          "font": {
           "size": 16
          },
          "showarrow": false,
          "text": "Training and validation loss",
          "x": 0.775,
          "xanchor": "center",
          "xref": "paper",
          "y": 1,
          "yanchor": "bottom",
          "yref": "paper"
         }
        ],
        "autosize": true,
        "template": {
         "data": {
          "bar": [
           {
            "error_x": {
             "color": "#2a3f5f"
            },
            "error_y": {
             "color": "#2a3f5f"
            },
            "marker": {
             "line": {
              "color": "#E5ECF6",
              "width": 0.5
             }
            },
            "type": "bar"
           }
          ],
          "barpolar": [
           {
            "marker": {
             "line": {
              "color": "#E5ECF6",
              "width": 0.5
             }
            },
            "type": "barpolar"
           }
          ],
          "carpet": [
           {
            "aaxis": {
             "endlinecolor": "#2a3f5f",
             "gridcolor": "white",
             "linecolor": "white",
             "minorgridcolor": "white",
             "startlinecolor": "#2a3f5f"
            },
            "baxis": {
             "endlinecolor": "#2a3f5f",
             "gridcolor": "white",
             "linecolor": "white",
             "minorgridcolor": "white",
             "startlinecolor": "#2a3f5f"
            },
            "type": "carpet"
           }
          ],
          "choropleth": [
           {
            "colorbar": {
             "outlinewidth": 0,
             "ticks": ""
            },
            "type": "choropleth"
           }
          ],
          "contour": [
           {
            "colorbar": {
             "outlinewidth": 0,
             "ticks": ""
            },
            "colorscale": [
             [
              0,
              "#0d0887"
             ],
             [
              0.1111111111111111,
              "#46039f"
             ],
             [
              0.2222222222222222,
              "#7201a8"
             ],
             [
              0.3333333333333333,
              "#9c179e"
             ],
             [
              0.4444444444444444,
              "#bd3786"
             ],
             [
              0.5555555555555556,
              "#d8576b"
             ],
             [
              0.6666666666666666,
              "#ed7953"
             ],
             [
              0.7777777777777778,
              "#fb9f3a"
             ],
             [
              0.8888888888888888,
              "#fdca26"
             ],
             [
              1,
              "#f0f921"
             ]
            ],
            "type": "contour"
           }
          ],
          "contourcarpet": [
           {
            "colorbar": {
             "outlinewidth": 0,
             "ticks": ""
            },
            "type": "contourcarpet"
           }
          ],
          "heatmap": [
           {
            "colorbar": {
             "outlinewidth": 0,
             "ticks": ""
            },
            "colorscale": [
             [
              0,
              "#0d0887"
             ],
             [
              0.1111111111111111,
              "#46039f"
             ],
             [
              0.2222222222222222,
              "#7201a8"
             ],
             [
              0.3333333333333333,
              "#9c179e"
             ],
             [
              0.4444444444444444,
              "#bd3786"
             ],
             [
              0.5555555555555556,
              "#d8576b"
             ],
             [
              0.6666666666666666,
              "#ed7953"
             ],
             [
              0.7777777777777778,
              "#fb9f3a"
             ],
             [
              0.8888888888888888,
              "#fdca26"
             ],
             [
              1,
              "#f0f921"
             ]
            ],
            "type": "heatmap"
           }
          ],
          "heatmapgl": [
           {
            "colorbar": {
             "outlinewidth": 0,
             "ticks": ""
            },
            "colorscale": [
             [
              0,
              "#0d0887"
             ],
             [
              0.1111111111111111,
              "#46039f"
             ],
             [
              0.2222222222222222,
              "#7201a8"
             ],
             [
              0.3333333333333333,
              "#9c179e"
             ],
             [
              0.4444444444444444,
              "#bd3786"
             ],
             [
              0.5555555555555556,
              "#d8576b"
             ],
             [
              0.6666666666666666,
              "#ed7953"
             ],
             [
              0.7777777777777778,
              "#fb9f3a"
             ],
             [
              0.8888888888888888,
              "#fdca26"
             ],
             [
              1,
              "#f0f921"
             ]
            ],
            "type": "heatmapgl"
           }
          ],
          "histogram": [
           {
            "marker": {
             "colorbar": {
              "outlinewidth": 0,
              "ticks": ""
             }
            },
            "type": "histogram"
           }
          ],
          "histogram2d": [
           {
            "colorbar": {
             "outlinewidth": 0,
             "ticks": ""
            },
            "colorscale": [
             [
              0,
              "#0d0887"
             ],
             [
              0.1111111111111111,
              "#46039f"
             ],
             [
              0.2222222222222222,
              "#7201a8"
             ],
             [
              0.3333333333333333,
              "#9c179e"
             ],
             [
              0.4444444444444444,
              "#bd3786"
             ],
             [
              0.5555555555555556,
              "#d8576b"
             ],
             [
              0.6666666666666666,
              "#ed7953"
             ],
             [
              0.7777777777777778,
              "#fb9f3a"
             ],
             [
              0.8888888888888888,
              "#fdca26"
             ],
             [
              1,
              "#f0f921"
             ]
            ],
            "type": "histogram2d"
           }
          ],
          "histogram2dcontour": [
           {
            "colorbar": {
             "outlinewidth": 0,
             "ticks": ""
            },
            "colorscale": [
             [
              0,
              "#0d0887"
             ],
             [
              0.1111111111111111,
              "#46039f"
             ],
             [
              0.2222222222222222,
              "#7201a8"
             ],
             [
              0.3333333333333333,
              "#9c179e"
             ],
             [
              0.4444444444444444,
              "#bd3786"
             ],
             [
              0.5555555555555556,
              "#d8576b"
             ],
             [
              0.6666666666666666,
              "#ed7953"
             ],
             [
              0.7777777777777778,
              "#fb9f3a"
             ],
             [
              0.8888888888888888,
              "#fdca26"
             ],
             [
              1,
              "#f0f921"
             ]
            ],
            "type": "histogram2dcontour"
           }
          ],
          "mesh3d": [
           {
            "colorbar": {
             "outlinewidth": 0,
             "ticks": ""
            },
            "type": "mesh3d"
           }
          ],
          "parcoords": [
           {
            "line": {
             "colorbar": {
              "outlinewidth": 0,
              "ticks": ""
             }
            },
            "type": "parcoords"
           }
          ],
          "pie": [
           {
            "automargin": true,
            "type": "pie"
           }
          ],
          "scatter": [
           {
            "marker": {
             "colorbar": {
              "outlinewidth": 0,
              "ticks": ""
             }
            },
            "type": "scatter"
           }
          ],
          "scatter3d": [
           {
            "line": {
             "colorbar": {
              "outlinewidth": 0,
              "ticks": ""
             }
            },
            "marker": {
             "colorbar": {
              "outlinewidth": 0,
              "ticks": ""
             }
            },
            "type": "scatter3d"
           }
          ],
          "scattercarpet": [
           {
            "marker": {
             "colorbar": {
              "outlinewidth": 0,
              "ticks": ""
             }
            },
            "type": "scattercarpet"
           }
          ],
          "scattergeo": [
           {
            "marker": {
             "colorbar": {
              "outlinewidth": 0,
              "ticks": ""
             }
            },
            "type": "scattergeo"
           }
          ],
          "scattergl": [
           {
            "marker": {
             "colorbar": {
              "outlinewidth": 0,
              "ticks": ""
             }
            },
            "type": "scattergl"
           }
          ],
          "scattermapbox": [
           {
            "marker": {
             "colorbar": {
              "outlinewidth": 0,
              "ticks": ""
             }
            },
            "type": "scattermapbox"
           }
          ],
          "scatterpolar": [
           {
            "marker": {
             "colorbar": {
              "outlinewidth": 0,
              "ticks": ""
             }
            },
            "type": "scatterpolar"
           }
          ],
          "scatterpolargl": [
           {
            "marker": {
             "colorbar": {
              "outlinewidth": 0,
              "ticks": ""
             }
            },
            "type": "scatterpolargl"
           }
          ],
          "scatterternary": [
           {
            "marker": {
             "colorbar": {
              "outlinewidth": 0,
              "ticks": ""
             }
            },
            "type": "scatterternary"
           }
          ],
          "surface": [
           {
            "colorbar": {
             "outlinewidth": 0,
             "ticks": ""
            },
            "colorscale": [
             [
              0,
              "#0d0887"
             ],
             [
              0.1111111111111111,
              "#46039f"
             ],
             [
              0.2222222222222222,
              "#7201a8"
             ],
             [
              0.3333333333333333,
              "#9c179e"
             ],
             [
              0.4444444444444444,
              "#bd3786"
             ],
             [
              0.5555555555555556,
              "#d8576b"
             ],
             [
              0.6666666666666666,
              "#ed7953"
             ],
             [
              0.7777777777777778,
              "#fb9f3a"
             ],
             [
              0.8888888888888888,
              "#fdca26"
             ],
             [
              1,
              "#f0f921"
             ]
            ],
            "type": "surface"
           }
          ],
          "table": [
           {
            "cells": {
             "fill": {
              "color": "#EBF0F8"
             },
             "line": {
              "color": "white"
             }
            },
            "header": {
             "fill": {
              "color": "#C8D4E3"
             },
             "line": {
              "color": "white"
             }
            },
            "type": "table"
           }
          ]
         },
         "layout": {
          "annotationdefaults": {
           "arrowcolor": "#2a3f5f",
           "arrowhead": 0,
           "arrowwidth": 1
          },
          "coloraxis": {
           "colorbar": {
            "outlinewidth": 0,
            "ticks": ""
           }
          },
          "colorscale": {
           "diverging": [
            [
             0,
             "#8e0152"
            ],
            [
             0.1,
             "#c51b7d"
            ],
            [
             0.2,
             "#de77ae"
            ],
            [
             0.3,
             "#f1b6da"
            ],
            [
             0.4,
             "#fde0ef"
            ],
            [
             0.5,
             "#f7f7f7"
            ],
            [
             0.6,
             "#e6f5d0"
            ],
            [
             0.7,
             "#b8e186"
            ],
            [
             0.8,
             "#7fbc41"
            ],
            [
             0.9,
             "#4d9221"
            ],
            [
             1,
             "#276419"
            ]
           ],
           "sequential": [
            [
             0,
             "#0d0887"
            ],
            [
             0.1111111111111111,
             "#46039f"
            ],
            [
             0.2222222222222222,
             "#7201a8"
            ],
            [
             0.3333333333333333,
             "#9c179e"
            ],
            [
             0.4444444444444444,
             "#bd3786"
            ],
            [
             0.5555555555555556,
             "#d8576b"
            ],
            [
             0.6666666666666666,
             "#ed7953"
            ],
            [
             0.7777777777777778,
             "#fb9f3a"
            ],
            [
             0.8888888888888888,
             "#fdca26"
            ],
            [
             1,
             "#f0f921"
            ]
           ],
           "sequentialminus": [
            [
             0,
             "#0d0887"
            ],
            [
             0.1111111111111111,
             "#46039f"
            ],
            [
             0.2222222222222222,
             "#7201a8"
            ],
            [
             0.3333333333333333,
             "#9c179e"
            ],
            [
             0.4444444444444444,
             "#bd3786"
            ],
            [
             0.5555555555555556,
             "#d8576b"
            ],
            [
             0.6666666666666666,
             "#ed7953"
            ],
            [
             0.7777777777777778,
             "#fb9f3a"
            ],
            [
             0.8888888888888888,
             "#fdca26"
            ],
            [
             1,
             "#f0f921"
            ]
           ]
          },
          "colorway": [
           "#636efa",
           "#EF553B",
           "#00cc96",
           "#ab63fa",
           "#FFA15A",
           "#19d3f3",
           "#FF6692",
           "#B6E880",
           "#FF97FF",
           "#FECB52"
          ],
          "font": {
           "color": "#2a3f5f"
          },
          "geo": {
           "bgcolor": "white",
           "lakecolor": "white",
           "landcolor": "#E5ECF6",
           "showlakes": true,
           "showland": true,
           "subunitcolor": "white"
          },
          "hoverlabel": {
           "align": "left"
          },
          "hovermode": "closest",
          "mapbox": {
           "style": "light"
          },
          "paper_bgcolor": "white",
          "plot_bgcolor": "#E5ECF6",
          "polar": {
           "angularaxis": {
            "gridcolor": "white",
            "linecolor": "white",
            "ticks": ""
           },
           "bgcolor": "#E5ECF6",
           "radialaxis": {
            "gridcolor": "white",
            "linecolor": "white",
            "ticks": ""
           }
          },
          "scene": {
           "xaxis": {
            "backgroundcolor": "#E5ECF6",
            "gridcolor": "white",
            "gridwidth": 2,
            "linecolor": "white",
            "showbackground": true,
            "ticks": "",
            "zerolinecolor": "white"
           },
           "yaxis": {
            "backgroundcolor": "#E5ECF6",
            "gridcolor": "white",
            "gridwidth": 2,
            "linecolor": "white",
            "showbackground": true,
            "ticks": "",
            "zerolinecolor": "white"
           },
           "zaxis": {
            "backgroundcolor": "#E5ECF6",
            "gridcolor": "white",
            "gridwidth": 2,
            "linecolor": "white",
            "showbackground": true,
            "ticks": "",
            "zerolinecolor": "white"
           }
          },
          "shapedefaults": {
           "line": {
            "color": "#2a3f5f"
           }
          },
          "ternary": {
           "aaxis": {
            "gridcolor": "white",
            "linecolor": "white",
            "ticks": ""
           },
           "baxis": {
            "gridcolor": "white",
            "linecolor": "white",
            "ticks": ""
           },
           "bgcolor": "#E5ECF6",
           "caxis": {
            "gridcolor": "white",
            "linecolor": "white",
            "ticks": ""
           }
          },
          "title": {
           "x": 0.05
          },
          "xaxis": {
           "automargin": true,
           "gridcolor": "white",
           "linecolor": "white",
           "ticks": "",
           "title": {
            "standoff": 15
           },
           "zerolinecolor": "white",
           "zerolinewidth": 2
          },
          "yaxis": {
           "automargin": true,
           "gridcolor": "white",
           "linecolor": "white",
           "ticks": "",
           "title": {
            "standoff": 15
           },
           "zerolinecolor": "white",
           "zerolinewidth": 2
          }
         }
        },
        "xaxis": {
         "anchor": "y",
         "autorange": true,
         "domain": [
          0,
          0.45
         ],
         "range": [
          -0.9114226066209365,
          31.91142260662094
         ],
         "title": {
          "text": "Epoch"
         },
         "type": "linear"
        },
        "xaxis2": {
         "anchor": "y2",
         "domain": [
          0.55,
          1
         ],
         "title": {
          "text": "Epoch"
         }
        },
        "yaxis": {
         "anchor": "x",
         "domain": [
          0,
          1
         ],
         "range": [
          0,
          1
         ],
         "title": {
          "text": "Accuracy"
         },
         "type": "linear"
        },
        "yaxis2": {
         "anchor": "x2",
         "domain": [
          0,
          1
         ],
         "range": [
          0,
          1
         ],
         "title": {
          "text": "Loss"
         }
        }
       }
      },
      "image/png": "[encoded data removed]",
      "text/html": [
       "<div>\n",
       "        \n",
       "        \n",
       "            <div id=\"843a2f5c-1f44-4448-a3c4-91248fe8a5f5\" class=\"plotly-graph-div\" style=\"height:525px; width:100%;\"></div>\n",
       "            <script type=\"text/javascript\">\n",
       "                require([\"plotly\"], function(Plotly) {\n",
       "                    window.PLOTLYENV=window.PLOTLYENV || {};\n",
       "                    \n",
       "                if (document.getElementById(\"843a2f5c-1f44-4448-a3c4-91248fe8a5f5\")) {\n",
       "                    Plotly.newPlot(\n",
       "                        '843a2f5c-1f44-4448-a3c4-91248fe8a5f5',\n",
       "                        [{\"marker\": {\"color\": \"Blue\"}, \"mode\": \"markers+lines\", \"name\": \"Training loss\", \"text\": [\"1\", \"2\", \"3\", \"4\", \"5\", \"6\", \"7\", \"8\", \"9\", \"10\", \"11\", \"12\", \"13\", \"14\", \"15\", \"16\", \"17\", \"18\", \"19\", \"20\", \"21\", \"22\", \"23\", \"24\", \"25\", \"26\", \"27\", \"28\", \"29\", \"30\"], \"type\": \"scatter\", \"x\": [1, 2, 3, 4, 5, 6, 7, 8, 9, 10, 11, 12, 13, 14, 15, 16, 17, 18, 19, 20, 21, 22, 23, 24, 25, 26, 27, 28, 29, 30], \"xaxis\": \"x\", \"y\": [1.9040047526359558, 1.7181692683696748, 1.6432639563083649, 1.596891736984253, 1.5350787615776063, 1.506019492149353, 1.4741011142730713, 1.457247133255005, 1.4325884401798248, 1.4159060156345367, 1.3954035568237304, 1.3759704625606537, 1.3646672654151917, 1.3525507545471191, 1.336092460155487, 1.3315692603588105, 1.3051327466964722, 1.2973080492019653, 1.2848516643047332, 1.2767459309101106, 1.267423437833786, 1.243632880449295, 1.236041247844696, 1.2317339825630187, 1.2276517343521118, 1.2057167422771453, 1.2033606719970704, 1.1922093307971955, 1.1837509036064149, 1.173824200630188], \"yaxis\": \"y\"}, {\"marker\": {\"color\": \"Magenta\"}, \"mode\": \"markers+lines\", \"name\": \"Validation loss\", \"text\": [\"1\", \"2\", \"3\", \"4\", \"5\", \"6\", \"7\", \"8\", \"9\", \"10\", \"11\", \"12\", \"13\", \"14\", \"15\", \"16\", \"17\", \"18\", \"19\", \"20\", \"21\", \"22\", \"23\", \"24\", \"25\", \"26\", \"27\", \"28\", \"29\", \"30\"], \"type\": \"scatter\", \"x\": [1, 2, 3, 4, 5, 6, 7, 8, 9, 10, 11, 12, 13, 14, 15, 16, 17, 18, 19, 20, 21, 22, 23, 24, 25, 26, 27, 28, 29, 30], \"xaxis\": \"x\", \"y\": [1.7630696952342988, 1.6686229705810547, 1.6327438831329346, 1.5675210297107696, 1.5390439748764038, 1.531980323791504, 1.466368740797043, 1.4921717524528504, 1.477972936630249, 1.4843905031681062, 1.4469844281673432, 1.4552002668380737, 1.4355004370212554, 1.4432047188282013, 1.405613398551941, 1.4092256903648377, 1.3947002589702606, 1.3967576980590821, 1.4016299188137054, 1.4050784468650819, 1.416444832086563, 1.3908888101577759, 1.4433043122291564, 1.4287293314933778, 1.3862477362155914, 1.3745533347129821, 1.3768045485019684, 1.3774474740028382, 1.3768217384815216, 1.3952380836009979], \"yaxis\": \"y\"}],\n",
       "                        {\"annotations\": [{\"font\": {\"size\": 16}, \"showarrow\": false, \"text\": \"Training and validation accuracy\", \"x\": 0.225, \"xanchor\": \"center\", \"xref\": \"paper\", \"y\": 1.0, \"yanchor\": \"bottom\", \"yref\": \"paper\"}, {\"font\": {\"size\": 16}, \"showarrow\": false, \"text\": \"Training and validation loss\", \"x\": 0.775, \"xanchor\": \"center\", \"xref\": \"paper\", \"y\": 1.0, \"yanchor\": \"bottom\", \"yref\": \"paper\"}], \"template\": {\"data\": {\"bar\": [{\"error_x\": {\"color\": \"#2a3f5f\"}, \"error_y\": {\"color\": \"#2a3f5f\"}, \"marker\": {\"line\": {\"color\": \"#E5ECF6\", \"width\": 0.5}}, \"type\": \"bar\"}], \"barpolar\": [{\"marker\": {\"line\": {\"color\": \"#E5ECF6\", \"width\": 0.5}}, \"type\": \"barpolar\"}], \"carpet\": [{\"aaxis\": {\"endlinecolor\": \"#2a3f5f\", \"gridcolor\": \"white\", \"linecolor\": \"white\", \"minorgridcolor\": \"white\", \"startlinecolor\": \"#2a3f5f\"}, \"baxis\": {\"endlinecolor\": \"#2a3f5f\", \"gridcolor\": \"white\", \"linecolor\": \"white\", \"minorgridcolor\": \"white\", \"startlinecolor\": \"#2a3f5f\"}, \"type\": \"carpet\"}], \"choropleth\": [{\"colorbar\": {\"outlinewidth\": 0, \"ticks\": \"\"}, \"type\": \"choropleth\"}], \"contour\": [{\"colorbar\": {\"outlinewidth\": 0, \"ticks\": \"\"}, \"colorscale\": [[0.0, \"#0d0887\"], [0.1111111111111111, \"#46039f\"], [0.2222222222222222, \"#7201a8\"], [0.3333333333333333, \"#9c179e\"], [0.4444444444444444, \"#bd3786\"], [0.5555555555555556, \"#d8576b\"], [0.6666666666666666, \"#ed7953\"], [0.7777777777777778, \"#fb9f3a\"], [0.8888888888888888, \"#fdca26\"], [1.0, \"#f0f921\"]], \"type\": \"contour\"}], \"contourcarpet\": [{\"colorbar\": {\"outlinewidth\": 0, \"ticks\": \"\"}, \"type\": \"contourcarpet\"}], \"heatmap\": [{\"colorbar\": {\"outlinewidth\": 0, \"ticks\": \"\"}, \"colorscale\": [[0.0, \"#0d0887\"], [0.1111111111111111, \"#46039f\"], [0.2222222222222222, \"#7201a8\"], [0.3333333333333333, \"#9c179e\"], [0.4444444444444444, \"#bd3786\"], [0.5555555555555556, \"#d8576b\"], [0.6666666666666666, \"#ed7953\"], [0.7777777777777778, \"#fb9f3a\"], [0.8888888888888888, \"#fdca26\"], [1.0, \"#f0f921\"]], \"type\": \"heatmap\"}], \"heatmapgl\": [{\"colorbar\": {\"outlinewidth\": 0, \"ticks\": \"\"}, \"colorscale\": [[0.0, \"#0d0887\"], [0.1111111111111111, \"#46039f\"], [0.2222222222222222, \"#7201a8\"], [0.3333333333333333, \"#9c179e\"], [0.4444444444444444, \"#bd3786\"], [0.5555555555555556, \"#d8576b\"], [0.6666666666666666, \"#ed7953\"], [0.7777777777777778, \"#fb9f3a\"], [0.8888888888888888, \"#fdca26\"], [1.0, \"#f0f921\"]], \"type\": \"heatmapgl\"}], \"histogram\": [{\"marker\": {\"colorbar\": {\"outlinewidth\": 0, \"ticks\": \"\"}}, \"type\": \"histogram\"}], \"histogram2d\": [{\"colorbar\": {\"outlinewidth\": 0, \"ticks\": \"\"}, \"colorscale\": [[0.0, \"#0d0887\"], [0.1111111111111111, \"#46039f\"], [0.2222222222222222, \"#7201a8\"], [0.3333333333333333, \"#9c179e\"], [0.4444444444444444, \"#bd3786\"], [0.5555555555555556, \"#d8576b\"], [0.6666666666666666, \"#ed7953\"], [0.7777777777777778, \"#fb9f3a\"], [0.8888888888888888, \"#fdca26\"], [1.0, \"#f0f921\"]], \"type\": \"histogram2d\"}], \"histogram2dcontour\": [{\"colorbar\": {\"outlinewidth\": 0, \"ticks\": \"\"}, \"colorscale\": [[0.0, \"#0d0887\"], [0.1111111111111111, \"#46039f\"], [0.2222222222222222, \"#7201a8\"], [0.3333333333333333, \"#9c179e\"], [0.4444444444444444, \"#bd3786\"], [0.5555555555555556, \"#d8576b\"], [0.6666666666666666, \"#ed7953\"], [0.7777777777777778, \"#fb9f3a\"], [0.8888888888888888, \"#fdca26\"], [1.0, \"#f0f921\"]], \"type\": \"histogram2dcontour\"}], \"mesh3d\": [{\"colorbar\": {\"outlinewidth\": 0, \"ticks\": \"\"}, \"type\": \"mesh3d\"}], \"parcoords\": [{\"line\": {\"colorbar\": {\"outlinewidth\": 0, \"ticks\": \"\"}}, \"type\": \"parcoords\"}], \"pie\": [{\"automargin\": true, \"type\": \"pie\"}], \"scatter\": [{\"marker\": {\"colorbar\": {\"outlinewidth\": 0, \"ticks\": \"\"}}, \"type\": \"scatter\"}], \"scatter3d\": [{\"line\": {\"colorbar\": {\"outlinewidth\": 0, \"ticks\": \"\"}}, \"marker\": {\"colorbar\": {\"outlinewidth\": 0, \"ticks\": \"\"}}, \"type\": \"scatter3d\"}], \"scattercarpet\": [{\"marker\": {\"colorbar\": {\"outlinewidth\": 0, \"ticks\": \"\"}}, \"type\": \"scattercarpet\"}], \"scattergeo\": [{\"marker\": {\"colorbar\": {\"outlinewidth\": 0, \"ticks\": \"\"}}, \"type\": \"scattergeo\"}], \"scattergl\": [{\"marker\": {\"colorbar\": {\"outlinewidth\": 0, \"ticks\": \"\"}}, \"type\": \"scattergl\"}], \"scattermapbox\": [{\"marker\": {\"colorbar\": {\"outlinewidth\": 0, \"ticks\": \"\"}}, \"type\": \"scattermapbox\"}], \"scatterpolar\": [{\"marker\": {\"colorbar\": {\"outlinewidth\": 0, \"ticks\": \"\"}}, \"type\": \"scatterpolar\"}], \"scatterpolargl\": [{\"marker\": {\"colorbar\": {\"outlinewidth\": 0, \"ticks\": \"\"}}, \"type\": \"scatterpolargl\"}], \"scatterternary\": [{\"marker\": {\"colorbar\": {\"outlinewidth\": 0, \"ticks\": \"\"}}, \"type\": \"scatterternary\"}], \"surface\": [{\"colorbar\": {\"outlinewidth\": 0, \"ticks\": \"\"}, \"colorscale\": [[0.0, \"#0d0887\"], [0.1111111111111111, \"#46039f\"], [0.2222222222222222, \"#7201a8\"], [0.3333333333333333, \"#9c179e\"], [0.4444444444444444, \"#bd3786\"], [0.5555555555555556, \"#d8576b\"], [0.6666666666666666, \"#ed7953\"], [0.7777777777777778, \"#fb9f3a\"], [0.8888888888888888, \"#fdca26\"], [1.0, \"#f0f921\"]], \"type\": \"surface\"}], \"table\": [{\"cells\": {\"fill\": {\"color\": \"#EBF0F8\"}, \"line\": {\"color\": \"white\"}}, \"header\": {\"fill\": {\"color\": \"#C8D4E3\"}, \"line\": {\"color\": \"white\"}}, \"type\": \"table\"}]}, \"layout\": {\"annotationdefaults\": {\"arrowcolor\": \"#2a3f5f\", \"arrowhead\": 0, \"arrowwidth\": 1}, \"coloraxis\": {\"colorbar\": {\"outlinewidth\": 0, \"ticks\": \"\"}}, \"colorscale\": {\"diverging\": [[0, \"#8e0152\"], [0.1, \"#c51b7d\"], [0.2, \"#de77ae\"], [0.3, \"#f1b6da\"], [0.4, \"#fde0ef\"], [0.5, \"#f7f7f7\"], [0.6, \"#e6f5d0\"], [0.7, \"#b8e186\"], [0.8, \"#7fbc41\"], [0.9, \"#4d9221\"], [1, \"#276419\"]], \"sequential\": [[0.0, \"#0d0887\"], [0.1111111111111111, \"#46039f\"], [0.2222222222222222, \"#7201a8\"], [0.3333333333333333, \"#9c179e\"], [0.4444444444444444, \"#bd3786\"], [0.5555555555555556, \"#d8576b\"], [0.6666666666666666, \"#ed7953\"], [0.7777777777777778, \"#fb9f3a\"], [0.8888888888888888, \"#fdca26\"], [1.0, \"#f0f921\"]], \"sequentialminus\": [[0.0, \"#0d0887\"], [0.1111111111111111, \"#46039f\"], [0.2222222222222222, \"#7201a8\"], [0.3333333333333333, \"#9c179e\"], [0.4444444444444444, \"#bd3786\"], [0.5555555555555556, \"#d8576b\"], [0.6666666666666666, \"#ed7953\"], [0.7777777777777778, \"#fb9f3a\"], [0.8888888888888888, \"#fdca26\"], [1.0, \"#f0f921\"]]}, \"colorway\": [\"#636efa\", \"#EF553B\", \"#00cc96\", \"#ab63fa\", \"#FFA15A\", \"#19d3f3\", \"#FF6692\", \"#B6E880\", \"#FF97FF\", \"#FECB52\"], \"font\": {\"color\": \"#2a3f5f\"}, \"geo\": {\"bgcolor\": \"white\", \"lakecolor\": \"white\", \"landcolor\": \"#E5ECF6\", \"showlakes\": true, \"showland\": true, \"subunitcolor\": \"white\"}, \"hoverlabel\": {\"align\": \"left\"}, \"hovermode\": \"closest\", \"mapbox\": {\"style\": \"light\"}, \"paper_bgcolor\": \"white\", \"plot_bgcolor\": \"#E5ECF6\", \"polar\": {\"angularaxis\": {\"gridcolor\": \"white\", \"linecolor\": \"white\", \"ticks\": \"\"}, \"bgcolor\": \"#E5ECF6\", \"radialaxis\": {\"gridcolor\": \"white\", \"linecolor\": \"white\", \"ticks\": \"\"}}, \"scene\": {\"xaxis\": {\"backgroundcolor\": \"#E5ECF6\", \"gridcolor\": \"white\", \"gridwidth\": 2, \"linecolor\": \"white\", \"showbackground\": true, \"ticks\": \"\", \"zerolinecolor\": \"white\"}, \"yaxis\": {\"backgroundcolor\": \"#E5ECF6\", \"gridcolor\": \"white\", \"gridwidth\": 2, \"linecolor\": \"white\", \"showbackground\": true, \"ticks\": \"\", \"zerolinecolor\": \"white\"}, \"zaxis\": {\"backgroundcolor\": \"#E5ECF6\", \"gridcolor\": \"white\", \"gridwidth\": 2, \"linecolor\": \"white\", \"showbackground\": true, \"ticks\": \"\", \"zerolinecolor\": \"white\"}}, \"shapedefaults\": {\"line\": {\"color\": \"#2a3f5f\"}}, \"ternary\": {\"aaxis\": {\"gridcolor\": \"white\", \"linecolor\": \"white\", \"ticks\": \"\"}, \"baxis\": {\"gridcolor\": \"white\", \"linecolor\": \"white\", \"ticks\": \"\"}, \"bgcolor\": \"#E5ECF6\", \"caxis\": {\"gridcolor\": \"white\", \"linecolor\": \"white\", \"ticks\": \"\"}}, \"title\": {\"x\": 0.05}, \"xaxis\": {\"automargin\": true, \"gridcolor\": \"white\", \"linecolor\": \"white\", \"ticks\": \"\", \"title\": {\"standoff\": 15}, \"zerolinecolor\": \"white\", \"zerolinewidth\": 2}, \"yaxis\": {\"automargin\": true, \"gridcolor\": \"white\", \"linecolor\": \"white\", \"ticks\": \"\", \"title\": {\"standoff\": 15}, \"zerolinecolor\": \"white\", \"zerolinewidth\": 2}}}, \"xaxis\": {\"anchor\": \"y\", \"domain\": [0.0, 0.45], \"title\": {\"text\": \"Epoch\"}}, \"xaxis2\": {\"anchor\": \"y2\", \"domain\": [0.55, 1.0], \"title\": {\"text\": \"Epoch\"}}, \"yaxis\": {\"anchor\": \"x\", \"domain\": [0.0, 1.0], \"range\": [0, 1], \"title\": {\"text\": \"Accuracy\"}}, \"yaxis2\": {\"anchor\": \"x2\", \"domain\": [0.0, 1.0], \"range\": [0, 1], \"title\": {\"text\": \"Loss\"}}},\n",
       "                        {\"responsive\": true}\n",
       "                    ).then(function(){\n",
       "                            \n",
       "var gd = document.getElementById('843a2f5c-1f44-4448-a3c4-91248fe8a5f5');\n",
       "var x = new MutationObserver(function (mutations, observer) {{\n",
       "        var display = window.getComputedStyle(gd).display;\n",
       "        if (!display || display === 'none') {{\n",
       "            console.log([gd, 'removed!']);\n",
       "            Plotly.purge(gd);\n",
       "            observer.disconnect();\n",
       "        }}\n",
       "}});\n",
       "\n",
       "// Listen for the removal of the full notebook cells\n",
       "var notebookContainer = gd.closest('#notebook-container');\n",
       "if (notebookContainer) {{\n",
       "    x.observe(notebookContainer, {childList: true});\n",
       "}}\n",
       "\n",
       "// Listen for the clearing of the current output cell\n",
       "var outputEl = gd.closest('.output');\n",
       "if (outputEl) {{\n",
       "    x.observe(outputEl, {childList: true});\n",
       "}}\n",
       "\n",
       "                        })\n",
       "                };\n",
       "                });\n",
       "            </script>\n",
       "        </div>"
      ]
     },
     "metadata": {},
     "output_type": "display_data"
    },
    {
     "data": {
      "image/png": "[encoded data removed]",
      "text/plain": [
       "<Figure size 1080x1080 with 20 Axes>"
      ]
     },
     "metadata": {},
     "output_type": "display_data"
    },
    {
     "name": "stdout",
     "output_type": "stream",
     "text": [
      "================================ SAVE MODEL ================================\n",
      "WARNING:tensorflow:From C:\\Users\\hamza\\Anaconda3\\envs\\tf2gpu\\lib\\site-packages\\tensorflow_core\\python\\ops\\resource_variable_ops.py:1786: calling BaseResourceVariable.__init__ (from tensorflow.python.ops.resource_variable_ops) with constraint is deprecated and will be removed in a future version.\n",
      "Instructions for updating:\n",
      "If using Keras pass *_constraint arguments to layers.\n",
      "INFO:tensorflow:Assets written to: D:\\Models\\model_run_09_02_2020_19-09-46_459710\\assets\n",
      "================================ GENERATE CSV HYPERPARAMS ================================\n"
     ]
    }
   ],
   "source": [
    "main()"
   ]
  },
  {
   "cell_type": "code",
   "execution_count": null,
   "metadata": {},
   "outputs": [],
   "source": [
    "# plot diagnostic learning curves\n",
    "def summarize_diagnostics(history):\n",
    "    # plot loss\n",
    "    pyplot.subplot(211)\n",
    "    pyplot.title('Cross Entropy Loss')\n",
    "    pyplot.plot(history.history['loss'], color='blue', label='train')\n",
    "    pyplot.plot(history.history['val_loss'], color='orange', label='test')\n",
    "    # plot accuracy\n",
    "    pyplot.subplot(212)\n",
    "    pyplot.title('Classification Accuracy')\n",
    "    pyplot.plot(history.history['accuracy'], color='blue', label='train')\n",
    "    pyplot.plot(history.history['val_accuracy'], color='orange', label='test')\n",
    "    # save plot to file\n",
    "    filename = sys.argv[0].split('/')[-1]\n",
    "    pyplot.savefig(filename + '_plot.png')\n",
    "    pyplot.close()"
   ]
  }
 ],
 "metadata": {
  "kernelspec": {
   "display_name": "Python 3",
   "language": "python",
   "name": "python3"
  },
  "language_info": {
   "codemirror_mode": {
    "name": "ipython",
    "version": 3
   },
   "file_extension": ".py",
   "mimetype": "text/x-python",
   "name": "python",
   "nbconvert_exporter": "python",
   "pygments_lexer": "ipython3",
   "version": "3.6.9"
  }
 },
 "nbformat": 4,
 "nbformat_minor": 4
}
