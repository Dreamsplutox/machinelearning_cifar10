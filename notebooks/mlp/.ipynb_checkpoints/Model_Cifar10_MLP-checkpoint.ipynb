{
 "cells": [
  {
   "cell_type": "markdown",
   "metadata": {},
   "source": [
    "<h1 style=\"color:#987753\"><center>============= IMPORT DEPANDENCIES =============</center></h1>"
   ]
  },
  {
   "cell_type": "code",
   "execution_count": null,
   "metadata": {},
   "outputs": [],
   "source": [
    "import tensorflow as tf\n",
    "import numpy as np\n",
    "from random import shuffle\n",
    "from tensorflow.keras.datasets import cifar10\n",
    "from tensorflow.keras.preprocessing.image import ImageDataGenerator\n",
    "from tensorflow.keras.models import Sequential\n",
    "from tensorflow.keras.layers import Dense, Dropout, Activation, Flatten\n",
    "from tensorflow.keras.optimizers import SGD\n",
    "from matplotlib import pyplot as plt\n",
    "import time\n",
    "import random\n",
    "from datetime import datetime\n",
    "from datetime import date\n",
    "from random import randint\n",
    "from tensorflow.keras.callbacks import TensorBoard\n",
    "import pandas as pd"
   ]
  },
  {
   "cell_type": "markdown",
   "metadata": {},
   "source": [
    "<h1 style=\"color:#987753\"><center>============= UTILS FUNCTION =============</center></h1>"
   ]
  },
  {
   "cell_type": "code",
   "execution_count": null,
   "metadata": {},
   "outputs": [],
   "source": [
    "global ID\n",
    "ID = random.randint(1,1000000)"
   ]
  },
  {
   "cell_type": "code",
   "execution_count": null,
   "metadata": {},
   "outputs": [],
   "source": [
    "def getTime():\n",
    "    \n",
    "    now = datetime.now()\n",
    "    current_time = now.strftime(\"%H-%M-%S\")\n",
    "    today = str(date.today()).split('-')\n",
    "    today = today[2]+\"_\"+today[1]+\"_\"+today[0]\n",
    "    runTime = (\"%s_%s\" %(today,current_time))\n",
    "    return runTime\n"
   ]
  },
  {
   "cell_type": "code",
   "execution_count": null,
   "metadata": {},
   "outputs": [],
   "source": [
    "def logName():\n",
    "    \n",
    "    NAME = \"ModelCifar10_MLP_\"+str(ID)+\"_\"+getTime()\n",
    "    return NAME"
   ]
  },
  {
   "cell_type": "code",
   "execution_count": null,
   "metadata": {},
   "outputs": [],
   "source": [
    "def hyperParams():\n",
    "\n",
    "    modelParams = {\"Layers\":[{\"neurons\":248, \"activation\":\"sigmoid\",\"dropOut\":False},\n",
    "                    {\"neurons\":145, \"activation\":\"sigmoid\", \"dropOut\":False},\n",
    "                    {\"neurons\":73, \"activation\":\"relu\", \"dropOut\":False},\n",
    "                    {\"neurons\":10, \"activation\":\"softmax\", \"dropOut\":False}],\n",
    "                   \"loss\":\"categorical_crossentropy\",\n",
    "                   \"optimizer\":\"Adam\",\n",
    "                   \"metrics\":\"accuracy\",\n",
    "                   \"epochs\":72,\n",
    "                   \"batchSize\":450\n",
    "                 }\n",
    "    return modelParams\n",
    "\n",
    "params = hyperParams()"
   ]
  },
  {
   "cell_type": "code",
   "execution_count": null,
   "metadata": {},
   "outputs": [],
   "source": [
    "def humainesLabels(position):\n",
    "    labels = ['airplane', 'automobile', 'bird', 'cat', 'deer',\n",
    "               'dog', 'frog', 'horse', 'ship', 'truck']\n",
    "    return labels[position]"
   ]
  },
  {
   "cell_type": "code",
   "execution_count": null,
   "metadata": {},
   "outputs": [],
   "source": [
    "def humanizeTime(secs):\n",
    "    mins, secs = divmod(secs, 60)\n",
    "    hours, mins = divmod(mins, 60)\n",
    "    return ('RUN TIME : %02d:%02d:%02d' % (hours, mins, secs))"
   ]
  },
  {
   "cell_type": "code",
   "execution_count": null,
   "metadata": {},
   "outputs": [],
   "source": [
    "def loadData():\n",
    "    \n",
    "    (trainImages, trainLabels), (testImages, testLabels) = cifar10.load_data()\n",
    "    trainImages, testImages = trainImages / 255.0, testImages / 255.0\n",
    "    return trainImages, testImages, trainLabels, testLabels\n",
    "\n",
    "(trainImages, testImages, trainLabels, testLabels) = loadData()\n",
    "\n",
    "print(\"\\t- NB TRAIN SAMPLES %s WIDTH %s HEIGHT %s COLOR %s\" % (trainImages.shape))\n",
    "print(\"\\t- NB TEST SAMPLES %s WIDTH %s HEIGHT %s COLOR %s\" % (testImages.shape))"
   ]
  },
  {
   "cell_type": "code",
   "execution_count": null,
   "metadata": {},
   "outputs": [],
   "source": [
    "def plotFigure(images=False, labels=False, nbSamples=0, size=10):\n",
    "    \n",
    "    plt.figure(figsize=(size, size))\n",
    "    for i in range(nbSamples):\n",
    "        plt.subplot(5,5,i+1)\n",
    "        plt.xticks([])\n",
    "        plt.yticks([])\n",
    "        plt.grid(False)\n",
    "        plt.imshow(images[i], cmap=plt.cm.binary)\n",
    "       \n",
    "        plt.xlabel(humainesLabels(labels[i][0]))\n",
    "    plt.show()\n",
    "    \n",
    "plotFigure(trainImages, trainLabels, nbSamples=25)"
   ]
  },
  {
   "cell_type": "markdown",
   "metadata": {},
   "source": [
    "<h1 style=\"color:#987753\"><center>============= INIT MODEL =============</center></h1>"
   ]
  },
  {
   "cell_type": "code",
   "execution_count": null,
   "metadata": {},
   "outputs": [],
   "source": [
    "def oneHoteEncoding(trainLabels, testLabels):\n",
    "    \n",
    "    trainLabels = tf.keras.utils.to_categorical(trainLabels)\n",
    "    testLabels = tf.keras.utils.to_categorical(testLabels)\n",
    "    \n",
    "    return trainLabels, testLabels\n",
    "\n",
    "trainLabels, testLabels = oneHoteEncoding(trainLabels, testLabels)"
   ]
  },
  {
   "cell_type": "code",
   "execution_count": null,
   "metadata": {},
   "outputs": [],
   "source": [
    "def createModel(params):\n",
    "    \n",
    "    model = Sequential()\n",
    "\n",
    "    model.add(Flatten(input_shape=(32, 32, 3)))\n",
    "    for layers in params['Layers']:\n",
    "\n",
    "        model.add(Dense(layers['neurons'], activation=layers['activation']))\n",
    "        if layers['dropOut'] != False:\n",
    "            model.add(Dropout(layers['dropOut']))\n",
    "\n",
    "    model.compile(loss=params['loss'],\n",
    "                   optimizer=params['optimizer'],\n",
    "                   metrics=['accuracy'])\n",
    "    \n",
    "    model.summary()\n",
    "    return model\n",
    "\n",
    "model = createModel(params)"
   ]
  },
  {
   "cell_type": "markdown",
   "metadata": {},
   "source": [
    "<h1 style=\"color:#987753\"><center>============= TRAIN MODEL =============</center></h1>"
   ]
  },
  {
   "cell_type": "code",
   "execution_count": null,
   "metadata": {},
   "outputs": [],
   "source": [
    "def reshapeInput(trainImages, testImages):\n",
    "    \n",
    "    trainImages.reshape(trainImages.shape[0], trainImages.shape[1] * trainImages.shape[2] * trainImages.shape[3]) #\n",
    "    testImages.reshape(testImages.shape[0], testImages.shape[1] * testImages.shape[2] * testImages.shape[3]) #\n",
    "    \n",
    "    return trainImages, testImages\n",
    "\n",
    "trainImages, testImages = reshapeInput(trainImages, testImages)"
   ]
  },
  {
   "cell_type": "code",
   "execution_count": null,
   "metadata": {},
   "outputs": [],
   "source": [
    "def fitModel(model, params):\n",
    "    \n",
    "    start_time = time.time()\n",
    "    tensorboard = TensorBoard(log_dir='D:\\logsProject\\{}'.format(logName()))\n",
    "    ################################ CALCULATE RUNTIME - START ###############################\n",
    "    model.fit(trainImages, trainLabels,\n",
    "                       epochs=params['epochs'],\n",
    "                       batch_size=params['batchSize'],\n",
    "                       validation_data=(testImages, testLabels), verbose=1, callbacks=[tensorboard])\n",
    "    ################################ CALCULATE RUNTIME - END ###############################\n",
    "    print(humanizeTime(time.time() - start_time))\n",
    "    return model, humanizeTime(time.time() - start_time)\n",
    "\n",
    "model, runTime = fitModel(model, params)"
   ]
  },
  {
   "cell_type": "markdown",
   "metadata": {},
   "source": [
    "<h1 style=\"color:#987753\"><center>============= EVALUATE MODEL =============</center></h1>"
   ]
  },
  {
   "cell_type": "code",
   "execution_count": null,
   "metadata": {},
   "outputs": [],
   "source": [
    "def evaluateModel(model):\n",
    "    \n",
    "    return model.evaluate(testImages, testLabels, batch_size=50)\n",
    "\n",
    "resultEV = evaluateModel(model)\n",
    "resultEV"
   ]
  },
  {
   "cell_type": "markdown",
   "metadata": {},
   "source": [
    "<h1 style=\"color:#987753\"><center>============= PREDICT =============</center></h1>"
   ]
  },
  {
   "cell_type": "code",
   "execution_count": null,
   "metadata": {},
   "outputs": [],
   "source": [
    "def predictionPercent(model, testImages, testLabels):\n",
    "    \n",
    "    prediction = model.predict(testImages)\n",
    "    predicted = []\n",
    "    for i in range(len(prediction)):\n",
    "        if np.argmax(testLabels[i]) == np.argmax(prediction[i]):\n",
    "            predicted.append(1)\n",
    "        else:\n",
    "            predicted.append(0)\n",
    "    print(\"Predicted precent {} %\".format((sum(predicted)/(len(predicted)) * 100)))\n",
    "    result = (sum(predicted)/len(predicted)) * 100\n",
    "    \n",
    "    return prediction, result\n",
    "\n",
    "prediction, result = predictionPercent(model, testImages, testLabels)"
   ]
  },
  {
   "cell_type": "code",
   "execution_count": null,
   "metadata": {},
   "outputs": [],
   "source": [
    "def plotPredictedResult(prediction, testImages, testLabels):\n",
    "    \n",
    "    plt.figure(figsize=(15, 15))\n",
    "    for i in range(20):\n",
    "        plt.subplot(5,7,i+1)\n",
    "        plt.xticks([])\n",
    "        plt.yticks([])\n",
    "        plt.grid(False)\n",
    "        plt.imshow(testImages[i])\n",
    "        plt.xlabel(\"True: \"+humainesLabels(np.argmax(testLabels[i]))+\"\\n\\n\\n\")\n",
    "        plt.title(\"\\nPredicted: \"+humainesLabels(np.argmax(prediction[i])))\n",
    "    plt.show()\n",
    "    \n",
    "plotPredictedResult(prediction, testImages, testLabels)"
   ]
  },
  {
   "cell_type": "markdown",
   "metadata": {},
   "source": [
    "<h1 style=\"color:#987753\"><center>============= SAVE MODEL =============</center></h1>"
   ]
  },
  {
   "cell_type": "code",
   "execution_count": null,
   "metadata": {},
   "outputs": [],
   "source": [
    "def saveModel(model):\n",
    "    \n",
    "    now = datetime.now()\n",
    "    current_time = now.strftime(\"%H-%M-%S\")\n",
    "    today = str(date.today()).split('-')\n",
    "    today = today[2]+\"_\"+today[1]+\"_\"+today[0]\n",
    "    runTime = (\"%s_%s\" %(today,current_time))\n",
    "    model.save('model_run_'+runTime)\n",
    "    "
   ]
  },
  {
   "cell_type": "code",
   "execution_count": null,
   "metadata": {},
   "outputs": [],
   "source": [
    "def generateExcelParams(params, resultEV, runTime):\n",
    "    \n",
    "    pass\n",
    "    params['idExec'] = ID\n",
    "    params['accuracyResult'] = resultEV[1]\n",
    "    params['lossResult'] = resultEV[0]\n",
    "    params['excTime'] = runTime.split(' ')[3]\n",
    "    df = pd.DataFrame(params, columns=params.keys())\n",
    "    \n",
    "    df.to_excel(r'D:\\logsProject\\ModelParams_'+getTime()+\"_\"+str(ID)+'.xlsx', index = None, header=True)\n",
    "    return df\n",
    "\n",
    "jsonDf = generateExcelParams(params, resultEV, runTime)"
   ]
  },
  {
   "cell_type": "code",
   "execution_count": null,
   "metadata": {},
   "outputs": [],
   "source": []
  }
 ],
 "metadata": {
  "kernelspec": {
   "display_name": "Python 3",
   "language": "python",
   "name": "python3"
  },
  "language_info": {
   "codemirror_mode": {
    "name": "ipython",
    "version": 3
   },
   "file_extension": ".py",
   "mimetype": "text/x-python",
   "name": "python",
   "nbconvert_exporter": "python",
   "pygments_lexer": "ipython3",
   "version": "3.6.9"
  }
 },
 "nbformat": 4,
 "nbformat_minor": 4
}
